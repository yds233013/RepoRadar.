{
 "cells": [
  {
   "cell_type": "code",
   "execution_count": 1,
   "metadata": {
    "deletable": false,
    "editable": false
   },
   "outputs": [],
   "source": [
    "# Initialize Otter\n",
    "import otter\n",
    "grader = otter.Notebook(\"proj3.ipynb\")"
   ]
  },
  {
   "cell_type": "markdown",
   "metadata": {},
   "source": [
    "# Project 3: Data Transformation\n",
    "\n",
    "## Due Date: Friday, April 4, 5:00 PM\n",
    "\n",
    "## Assignment Details\n",
    "\n",
    "In this project, we'll be working with one month of data from sensors in buildings at UC Berkeley. This is a very typical real-world dataset—i.e. it's kind of a mess. The full dataset contains a giant `data` table of many billions of sensor readings over the course of a decade; we will look at a single month of that data. It also contains a variety of other tables that contextualize the readings.\n",
    "\n",
    "Occasionally people believe that when the data has a well-structured schema, then it's simple to proceed! *We'll put this assumption to the test.*\n",
    "\n",
    "Citation: Luo, N., Wang, Z., Blum, D. et al. A three-year dataset supporting research on building energy management and occupancy analytics. _Sci Data_ 9, 156 (2022). https://doi.org/10.1038/s41597-022-01257-x \n",
    "\n",
    "## Table Descriptions\n",
    "\n",
    "* `buildings_site_mapping` - maps a `site` (full name) to a `building` (shortened name)\n",
    "* `real_estate_metadata` - metadata about a unique piece of real estate\n",
    "    * Note that `building` is more of a \"building ID\" and `building_name` matches `buildings_site_mapping.building`\n",
    "* `data` - each row represents a sensor reading from a building at a particular time\n",
    "* `metadata` - metadata about each sensor\n",
    "* `uc_locations` - a standardized lookup table of UC location names (see Q3e)\n",
    "* `ontology` - each row describes a relationship (aka `predicate`) between a `subject` and `object` (see Q5)\n",
    "* `mapping` - each row maps the `rawname` of a sensor to the specific Brick ontology `Sensor` class (see Q5c)\n",
    "\n",
    "## ER Diagram and Schema\n",
    "\n",
    "The **ER diagram and schema for the database** is shown below.\n",
    "\n",
    "* Each line represents a relationship between the two fields.\n",
    "* The side of the line diverging to three lines / arrows represents the **\"many\"** side of the relationship, while the side of the line converging to one arrow represents the **\"one\"** side of the relationship.\n",
    "* This file is available as `data/schema.png`."
   ]
  },
  {
   "cell_type": "markdown",
   "metadata": {},
   "source": [
    "<img src=\"data/schema.png\">"
   ]
  },
  {
   "cell_type": "markdown",
   "metadata": {},
   "source": [
    "If you make any queries to explore the data, do not forget to add a `LIMIT` clause; `LIMIT 10` is a good default to always add to the end of your queries. Otherwise, your connection may close as a result of trying to load excessively many rows.\n",
    "\n",
    "In addition, for the entirety of the project, you may **(and should!)** make as many CTEs as you'd like. For questions where the output is just 1 row, you are not allowed to hardcode the answer. We reserve the right to penalize any hardcoded submissions."
   ]
  },
  {
   "cell_type": "markdown",
   "metadata": {},
   "source": [
    "## Logistics & Scoring Breakdown\n",
    "\n",
    "This is an **individual project**. However, you’re welcome to collaborate with any other student in the class as long as it’s within the academic honesty guidelines. Free-response questions (marked 'm' in the table below) are manually graded.\n",
    "\n",
    "Question | Points\n",
    "--- | ---\n",
    "1a\t| m: 1\n",
    "1b  | 1\n",
    "1c\t| 1\n",
    "1d\t| m: 2\n",
    "2a\t| 3\n",
    "2b\t| 1\n",
    "3a\t| m: 1\n",
    "3b\t| 1\n",
    "3c\t| 1\n",
    "3d  | m: 1\n",
    "3e  | 2\n",
    "4a\t| 2\n",
    "4b\t| 2\n",
    "4c\t| 3\n",
    "5a  | 1\n",
    "5b  | 1\n",
    "5c  | 3\n",
    "**Total** | 27\n",
    "\n",
    "**Grand Total:** 27 points (autograded: 22, manual: 5)"
   ]
  },
  {
   "cell_type": "code",
   "execution_count": 2,
   "metadata": {},
   "outputs": [],
   "source": [
    "# Run this cell to set up imports\n",
    "import numpy as np\n",
    "import pandas as pd"
   ]
  },
  {
   "cell_type": "code",
   "execution_count": 3,
   "metadata": {},
   "outputs": [],
   "source": [
    "# Set up autoreloading imported .py modules such as data101_utils.py\n",
    "%load_ext autoreload\n",
    "%autoreload 2"
   ]
  },
  {
   "cell_type": "markdown",
   "metadata": {},
   "source": [
    "## Loading Up the Database\n",
    "To load the database, run the following cell."
   ]
  },
  {
   "cell_type": "code",
   "execution_count": 4,
   "metadata": {},
   "outputs": [
    {
     "name": "stdout",
     "output_type": "stream",
     "text": [
      " pg_terminate_backend \n",
      "----------------------\n",
      "(0 rows)\n",
      "\n",
      "DROP DATABASE\n",
      "CREATE DATABASE\n",
      "SET\n",
      "SET\n",
      "SET\n",
      "SET\n",
      "SET\n",
      " set_config \n",
      "------------\n",
      " \n",
      "(1 row)\n",
      "\n",
      "SET\n",
      "SET\n",
      "SET\n",
      "SET\n",
      "CREATE EXTENSION\n",
      "COMMENT\n",
      "CREATE EXTENSION\n",
      "COMMENT\n",
      "CREATE FUNCTION\n",
      "ALTER FUNCTION\n",
      "CREATE AGGREGATE\n",
      "ALTER AGGREGATE\n",
      "SET\n",
      "SET\n",
      "CREATE TABLE\n",
      "ALTER TABLE\n",
      "CREATE TABLE\n",
      "ALTER TABLE\n",
      "CREATE TABLE\n",
      "ALTER TABLE\n",
      "CREATE TABLE\n",
      "ALTER TABLE\n",
      "CREATE TABLE\n",
      "ALTER TABLE\n",
      "CREATE TABLE\n",
      "ALTER TABLE\n",
      "CREATE TABLE\n",
      "ALTER TABLE\n",
      "CREATE MATERIALIZED VIEW\n",
      "ALTER TABLE\n",
      "CREATE TABLE\n",
      "ALTER TABLE\n",
      "COPY 92\n",
      "COPY 102386\n",
      "COPY 100000\n",
      "COPY 381\n",
      "COPY 9509\n",
      "COPY 26183\n",
      "COPY 5276\n",
      "COPY 12\n",
      "ALTER TABLE\n",
      "ALTER TABLE\n",
      "ALTER TABLE\n",
      "REFRESH MATERIALIZED VIEW\n"
     ]
    }
   ],
   "source": [
    "!psql postgresql://jovyan@127.0.0.1:5432/ucb_buildings -c 'SELECT pg_terminate_backend(pg_stat_activity.pid) FROM pg_stat_activity WHERE datname = current_database()  AND pid <> pg_backend_pid();'\n",
    "!psql postgresql://jovyan@127.0.0.1:5432/postgres -c 'DROP DATABASE IF EXISTS ucb_buildings'\n",
    "!psql postgresql://jovyan@127.0.0.1:5432/postgres -c 'CREATE DATABASE ucb_buildings'\n",
    "# !psql -h localhost -d ucb_buildings -f ~/_shared/data101-readwrite/proj3_data/buildings.sql # Dev path\n",
    "!psql -h localhost -d ucb_buildings -f ../../../_shared/data101-readonly/proj3_data/buildings.sql # Student Path"
   ]
  },
  {
   "cell_type": "markdown",
   "metadata": {},
   "source": [
    "Now, run the following cell to connect to the `ucb_buildings` database. There should be no errors after running the following cells."
   ]
  },
  {
   "cell_type": "code",
   "execution_count": 51,
   "metadata": {},
   "outputs": [
    {
     "name": "stdout",
     "output_type": "stream",
     "text": [
      "Successfully opened database connection\n"
     ]
    }
   ],
   "source": [
    "# Just run the following cell, no further action is needed.\n",
    "from data101_utils import GradingUtil\n",
    "grading_util = GradingUtil(\"proj3\")\n",
    "grading_util.prepare_autograder(\"ucb_buildings\")"
   ]
  },
  {
   "cell_type": "code",
   "execution_count": 52,
   "metadata": {},
   "outputs": [
    {
     "data": {
      "text/html": [
       "<div>\n",
       "<style scoped>\n",
       "    .dataframe tbody tr th:only-of-type {\n",
       "        vertical-align: middle;\n",
       "    }\n",
       "\n",
       "    .dataframe tbody tr th {\n",
       "        vertical-align: top;\n",
       "    }\n",
       "\n",
       "    .dataframe thead th {\n",
       "        text-align: right;\n",
       "    }\n",
       "</style>\n",
       "<table border=\"1\" class=\"dataframe\">\n",
       "  <thead>\n",
       "    <tr style=\"text-align: right;\">\n",
       "      <th></th>\n",
       "      <th>time</th>\n",
       "      <th>id</th>\n",
       "      <th>value</th>\n",
       "    </tr>\n",
       "  </thead>\n",
       "  <tbody>\n",
       "    <tr>\n",
       "      <th>0</th>\n",
       "      <td>2018-06-12 23:00:09+00:00</td>\n",
       "      <td>a3d3326f-20ab-5f1d-97c7-f3084df43f06</td>\n",
       "      <td>65182.74</td>\n",
       "    </tr>\n",
       "    <tr>\n",
       "      <th>1</th>\n",
       "      <td>2018-06-12 22:45:09+00:00</td>\n",
       "      <td>a3d3326f-20ab-5f1d-97c7-f3084df43f06</td>\n",
       "      <td>65182.51</td>\n",
       "    </tr>\n",
       "    <tr>\n",
       "      <th>2</th>\n",
       "      <td>2018-06-12 22:30:09+00:00</td>\n",
       "      <td>a3d3326f-20ab-5f1d-97c7-f3084df43f06</td>\n",
       "      <td>65182.27</td>\n",
       "    </tr>\n",
       "    <tr>\n",
       "      <th>3</th>\n",
       "      <td>2018-06-12 22:15:10+00:00</td>\n",
       "      <td>a3d3326f-20ab-5f1d-97c7-f3084df43f06</td>\n",
       "      <td>65182.02</td>\n",
       "    </tr>\n",
       "    <tr>\n",
       "      <th>4</th>\n",
       "      <td>2018-06-12 22:00:09+00:00</td>\n",
       "      <td>a3d3326f-20ab-5f1d-97c7-f3084df43f06</td>\n",
       "      <td>65181.77</td>\n",
       "    </tr>\n",
       "    <tr>\n",
       "      <th>5</th>\n",
       "      <td>2018-06-12 21:45:09+00:00</td>\n",
       "      <td>a3d3326f-20ab-5f1d-97c7-f3084df43f06</td>\n",
       "      <td>65181.54</td>\n",
       "    </tr>\n",
       "    <tr>\n",
       "      <th>6</th>\n",
       "      <td>2018-06-12 21:30:09+00:00</td>\n",
       "      <td>a3d3326f-20ab-5f1d-97c7-f3084df43f06</td>\n",
       "      <td>65181.30</td>\n",
       "    </tr>\n",
       "    <tr>\n",
       "      <th>7</th>\n",
       "      <td>2018-06-12 21:15:09+00:00</td>\n",
       "      <td>a3d3326f-20ab-5f1d-97c7-f3084df43f06</td>\n",
       "      <td>65181.04</td>\n",
       "    </tr>\n",
       "    <tr>\n",
       "      <th>8</th>\n",
       "      <td>2018-06-12 21:00:09+00:00</td>\n",
       "      <td>a3d3326f-20ab-5f1d-97c7-f3084df43f06</td>\n",
       "      <td>65180.80</td>\n",
       "    </tr>\n",
       "    <tr>\n",
       "      <th>9</th>\n",
       "      <td>2018-06-12 20:45:09+00:00</td>\n",
       "      <td>a3d3326f-20ab-5f1d-97c7-f3084df43f06</td>\n",
       "      <td>65180.57</td>\n",
       "    </tr>\n",
       "  </tbody>\n",
       "</table>\n",
       "</div>"
      ],
      "text/plain": [
       "                       time                                    id     value\n",
       "0 2018-06-12 23:00:09+00:00  a3d3326f-20ab-5f1d-97c7-f3084df43f06  65182.74\n",
       "1 2018-06-12 22:45:09+00:00  a3d3326f-20ab-5f1d-97c7-f3084df43f06  65182.51\n",
       "2 2018-06-12 22:30:09+00:00  a3d3326f-20ab-5f1d-97c7-f3084df43f06  65182.27\n",
       "3 2018-06-12 22:15:10+00:00  a3d3326f-20ab-5f1d-97c7-f3084df43f06  65182.02\n",
       "4 2018-06-12 22:00:09+00:00  a3d3326f-20ab-5f1d-97c7-f3084df43f06  65181.77\n",
       "5 2018-06-12 21:45:09+00:00  a3d3326f-20ab-5f1d-97c7-f3084df43f06  65181.54\n",
       "6 2018-06-12 21:30:09+00:00  a3d3326f-20ab-5f1d-97c7-f3084df43f06  65181.30\n",
       "7 2018-06-12 21:15:09+00:00  a3d3326f-20ab-5f1d-97c7-f3084df43f06  65181.04\n",
       "8 2018-06-12 21:00:09+00:00  a3d3326f-20ab-5f1d-97c7-f3084df43f06  65180.80\n",
       "9 2018-06-12 20:45:09+00:00  a3d3326f-20ab-5f1d-97c7-f3084df43f06  65180.57"
      ]
     },
     "execution_count": 52,
     "metadata": {},
     "output_type": "execute_result"
    }
   ],
   "source": [
    "# Fetch random rows to check table exists\n",
    "grading_util.run_sql(\"SELECT * FROM data LIMIT 10;\")"
   ]
  },
  {
   "cell_type": "markdown",
   "metadata": {},
   "source": [
    "<hr style=\"border: 5px solid #003262;\" />\n",
    "<hr style=\"border: 1px solid #fdb515;\" />\n"
   ]
  },
  {
   "cell_type": "markdown",
   "metadata": {},
   "source": [
    "## New Query Execution Workflow (you MUST read this!)\n",
    "\n",
    "In previous projects, we used an extension called JupySQL to run SQL directly in your Jupyter notebook. However, this can cause the notebook to be very long, and it also introduces unnecessary complexity when running the autograder. Starting with this project, we will be moving to a new query execution workflow where you will write your SQL queries in separate `.sql` files under the `queries` directory. It goes like this:\n",
    "\n",
    "1. Read and understand the question\n",
    "2. Open the `.sql` file that corresponds to that question. For example, for Q1b, you should open `queries/1b.sql`\n",
    "3. Write your SQL code in that file. **If there is starter code, make sure you do NOT delete any of it otherwise the autograder will fail!**\n",
    "4. **Save your SQL file.** This is ***SUPER IMPORTANT*** so that when you test your query result, it is running your most recent query.\n",
    "5. Go back to your project Jupyter notebook, and run the cell that contains the call to `grading_util.run_file`. It will look something like this:\n",
    "```python\n",
    "result_1b = grading_util.run_file(\"1b\")\n",
    "result_1b\n",
    "```\n",
    "6. Observe the output and run tests\n",
    "\n",
    "If you want to run one-off SQL queries (for example to explore the database), you can do that using `grading_util.run_sql` like so:\n",
    "```python\n",
    "grading_util.run_sql(\"SELECT 'YOUR CODE HERE';\")\n",
    "```\n",
    "7. Once you're done with the project, upload your `queries.zip` file (instead of `results.zip`). This file will be automatically created when you run `grading_util.prepare_submission_and_cleanup()`.\n",
    "\n",
    "**Dos and Don'ts**\n",
    "\n",
    "- If you encounter an error, **read the entire error message** before asking for help - it might be long, but it can be helpful! For example, if you have a syntax error in your SQL code, it should tell you which line it occurred on and where on that line it occurred.\n",
    "- You may find it useful to use **JupyterHub's split screen feature** so you can have the notebook and SQL file side by side. You can use this by dragging the tabs at the top. You can either do a left/right split or top/bottom split.\n",
    "- If you need to run a SQL statement that spans multiple lines, **use Python's multiline strings** which are enclosed in triple quotes:\n",
    "```python\n",
    "grading_util.run_sql(\"\"\"\n",
    "SELECT 'YOUR CODE HERE';\n",
    "SELECT 'YOUR CODE HERE';\n",
    "SELECT 'YOUR CODE HERE';\n",
    "\"\"\")\n",
    "```\n",
    "- Make sure to **terminate all SQL statements with a semicolon** and **enclose all subqueries in parentheses**.\n",
    "- You can run multiple statements within a file or within a single `run_sql` call. **The results of each statement will be returned in a list; you may index into the list to view the results of an individual statement.** If no rows are outputted by that statement, `None` will be returned (instead of a `pandas.DataFrame`)\n",
    "- You can learn more about the behavior of `run_sql` and `run_file` by running the cells below to read their docstrings"
   ]
  },
  {
   "cell_type": "code",
   "execution_count": 53,
   "metadata": {},
   "outputs": [
    {
     "data": {
      "text/plain": [
       "\u001b[0;31mSignature:\u001b[0m \u001b[0mgrading_util\u001b[0m\u001b[0;34m.\u001b[0m\u001b[0mrun_sql\u001b[0m\u001b[0;34m(\u001b[0m\u001b[0mquery\u001b[0m\u001b[0;34m,\u001b[0m \u001b[0mexplain\u001b[0m\u001b[0;34m=\u001b[0m\u001b[0;32mFalse\u001b[0m\u001b[0;34m,\u001b[0m \u001b[0mexplain_analyze\u001b[0m\u001b[0;34m=\u001b[0m\u001b[0;32mFalse\u001b[0m\u001b[0;34m)\u001b[0m\u001b[0;34m\u001b[0m\u001b[0;34m\u001b[0m\u001b[0m\n",
       "\u001b[0;31mDocstring:\u001b[0m\n",
       "Executes SQL statement(s) as a query string.\n",
       "\n",
       "Args:\n",
       "    query (str) - SQL statement(s) to execute. Semicolon can only be omitted\n",
       "        if you are executing a single statement.\n",
       "    explain (bool) - True if you want to prepend EXPLAIN to the query\n",
       "    explain_analyze (bool) - True if you want to prepend EXPLAIN ANAYLZE to the query\n",
       "\n",
       "Returns:\n",
       "    If there was only 1 SQL statement, the return type will be either pandas.DataFrame (if the\n",
       "    query resulted in a table with rows) or None otherwise.\n",
       "        \n",
       "    If there were multiple SQL statements, the return type will be a list\n",
       "    where each element in the list is the output table of each statement as a pandas.DataFrame\n",
       "    or None if the output had no rows.\n",
       "\n",
       "    NOTE: An output of None can happen if SELECT ... WHERE ... filters out all rows\n",
       "    or if you're creating a table/view/materialized view, for example.\n",
       "\n",
       "Raises:\n",
       "    ValueError if:\n",
       "        query is empty,\n",
       "        explain and explain_analyze are both True, or\n",
       "        query contains more than 1 SQL statement\n",
       "    ConnectionError if postgres connection is not open\n",
       "\u001b[0;31mFile:\u001b[0m      ~/sp25-materials.git/proj/proj3/data101_utils.py\n",
       "\u001b[0;31mType:\u001b[0m      method"
      ]
     },
     "metadata": {},
     "output_type": "display_data"
    }
   ],
   "source": [
    "?grading_util.run_sql"
   ]
  },
  {
   "cell_type": "code",
   "execution_count": 54,
   "metadata": {},
   "outputs": [
    {
     "data": {
      "text/plain": [
       "\u001b[0;31mSignature:\u001b[0m\n",
       "\u001b[0mgrading_util\u001b[0m\u001b[0;34m.\u001b[0m\u001b[0mrun_file\u001b[0m\u001b[0;34m(\u001b[0m\u001b[0;34m\u001b[0m\n",
       "\u001b[0;34m\u001b[0m    \u001b[0mpath_to_sql_file\u001b[0m\u001b[0;34m,\u001b[0m\u001b[0;34m\u001b[0m\n",
       "\u001b[0;34m\u001b[0m    \u001b[0mexplain\u001b[0m\u001b[0;34m=\u001b[0m\u001b[0;32mFalse\u001b[0m\u001b[0;34m,\u001b[0m\u001b[0;34m\u001b[0m\n",
       "\u001b[0;34m\u001b[0m    \u001b[0mexplain_analyze\u001b[0m\u001b[0;34m=\u001b[0m\u001b[0;32mFalse\u001b[0m\u001b[0;34m,\u001b[0m\u001b[0;34m\u001b[0m\n",
       "\u001b[0;34m\u001b[0m    \u001b[0muse_queries_dir\u001b[0m\u001b[0;34m=\u001b[0m\u001b[0;32mTrue\u001b[0m\u001b[0;34m,\u001b[0m\u001b[0;34m\u001b[0m\n",
       "\u001b[0;34m\u001b[0m\u001b[0;34m)\u001b[0m\u001b[0;34m\u001b[0m\u001b[0;34m\u001b[0m\u001b[0m\n",
       "\u001b[0;31mDocstring:\u001b[0m\n",
       "Runs the SQL statement(s) in the given SQL file.\n",
       "If the .sql file extension is not provided, it is automatically added.\n",
       "\n",
       "Args:\n",
       "    path_to_sql_file (str) - path to SQL file you want to execute\n",
       "    explain (bool) - See the docstring of GradingUtil.execute\n",
       "    explain_analyze (bool) - See the docstring of GradingUtil.execute\n",
       "    use_queries_dir (bool) - True if you want to prepend `self.queries_dir` to the file path. Default True.\n",
       "\n",
       "Returns:\n",
       "    See the docstring of GradingUtil.execute\n",
       "\u001b[0;31mFile:\u001b[0m      ~/sp25-materials.git/proj/proj3/data101_utils.py\n",
       "\u001b[0;31mType:\u001b[0m      method"
      ]
     },
     "metadata": {},
     "output_type": "display_data"
    }
   ],
   "source": [
    "?grading_util.run_file"
   ]
  },
  {
   "cell_type": "markdown",
   "metadata": {},
   "source": [
    "<hr style=\"border: 5px solid #003262;\" />\n",
    "<hr style=\"border: 1px solid #fdb515;\" />\n"
   ]
  },
  {
   "cell_type": "markdown",
   "metadata": {
    "deletable": false,
    "editable": false
   },
   "source": [
    "<!-- BEGIN QUESTION -->\n",
    "\n",
    "## Question 1: Unboxing the Data\n",
    "\n",
    "### Question 1a\n",
    "\n",
    "As mentioned above, we are working with just one month of data. In the full database (which we don't have access to), tables like the `data` table have billions of rows. What do you notice about the design of the database schema above that helps support the large amount of data and minimize redundancy? **Keep your response to at most two sentences.**\n",
    "\n",
    "**Hint:** There is no need to examine any data here. What is a technique learned in lecture? Define that technique."
   ]
  },
  {
   "cell_type": "markdown",
   "metadata": {
    "tags": [
     "otter_answer_cell"
    ]
   },
   "source": [
    "The database uses normalization, a method that divides data into numerous related tables to prevent duplication and assure consistency. This simplifies the management of billions of rows by lowering storage requirements while ensuring data integrity.\n"
   ]
  },
  {
   "cell_type": "markdown",
   "metadata": {
    "deletable": false,
    "editable": false
   },
   "source": [
    "<!-- END QUESTION -->\n",
    "\n",
    "<br><br>\n",
    "\n",
    "---\n",
    "### Question 1b\n",
    "\n",
    "The diagram claims that `buildings_site_mapping` has a **many-to-many relationship** with `real_estate_metadata`. Let's validate that."
   ]
  },
  {
   "cell_type": "markdown",
   "metadata": {},
   "source": [
    "**YOUR TASK:** Do the following in your query:\n",
    "\n",
    "1. Find the **distinct** values of `buildings_site_mapping.building` that match **multiple** tuples in `real_estate_metadata.building_name`.\n",
    "2. For each such value of `buildings_site_mapping.building`, return the matches as JSON via `JSON_AGG(real_estate_metadata)`. (See [Table 9-49 in the Postgres documentation](https://www.postgresql.org/docs/9.5/functions-aggregate.html)).\n",
    "3. **Order your final result by `buildings_site_mapping.building` ascending**.\n",
    "\n",
    "**Hint:** You should use a CTE to find the distinct buildings of `buildings_site_mapping` before applying necessary table joins.\n",
    "\n",
    "Your first row should look like this:\n",
    "\n",
    "| building | json_agg |\n",
    "| :--- | :--- |\n",
    "| ALUMNI HOUSE | [{'location': 'BERKELEY', 'building': '1215', 'building_name': 'ALUMNI HOUSE', 'address': 'CORE C22A2M0PUS', 'city_name': 'BERKELEY', 'county': 'ALAMEDA', 'category': 'GENERAL', 'osfg': 15590, 'bldg_asf': 8719, 'levels': 2, 'year': '1954', 'owner': 'UC', 'mp_code': 'P', 'book_value': 106819}, {'location': 'IRVINE', 'building': '9207', 'building_name': 'ALUMNI HOUSE', 'address': 'CORE CAMPUS', 'city_name': 'IRVINE', 'county': 'ORANGE', 'category': 'GENERAL', 'osfg': 4027, 'bldg_asf': 2549, 'levels': 1, 'year': '1984', 'owner': 'UC', 'mp_code': 'P', 'book_value': 41981}, {'location': 'FRANCISC SOAN', 'building': '2032', 'building_name': 'ALUMNI HOUSE', 'address': 'PARNASS US AVE', 'city_name': 'FRANCISC OSAN', 'county': 'FRANCISC OSAN', 'category': 'HEALTH SCIENCE', 'osfg': 7217, 'bldg_asf': 5079, 'levels': 3, 'year': '1915', 'owner': 'UP', 'mp_code': 'P', 'book_value': 135923}] |\n",
    "\n",
    "This is because `ALUMNI HOUSE` is a buildling name in both `buildings_site_mapping` and `real_estate_metadata`. In `real_estate_metadata`, these rows below have `buildling_name = 'ALUMNI HOUSE'` (see the query result below). All of the metadata from these 3 rows is incorporated in the `JSON_AGG` result (each row is an element in the JSON array surrounded by curly braces)."
   ]
  },
  {
   "cell_type": "code",
   "execution_count": 55,
   "metadata": {},
   "outputs": [
    {
     "data": {
      "text/html": [
       "<div>\n",
       "<style scoped>\n",
       "    .dataframe tbody tr th:only-of-type {\n",
       "        vertical-align: middle;\n",
       "    }\n",
       "\n",
       "    .dataframe tbody tr th {\n",
       "        vertical-align: top;\n",
       "    }\n",
       "\n",
       "    .dataframe thead th {\n",
       "        text-align: right;\n",
       "    }\n",
       "</style>\n",
       "<table border=\"1\" class=\"dataframe\">\n",
       "  <thead>\n",
       "    <tr style=\"text-align: right;\">\n",
       "      <th></th>\n",
       "      <th>location</th>\n",
       "      <th>building</th>\n",
       "      <th>building_name</th>\n",
       "      <th>address</th>\n",
       "      <th>city_name</th>\n",
       "      <th>county</th>\n",
       "      <th>category</th>\n",
       "      <th>osfg</th>\n",
       "      <th>bldg_asf</th>\n",
       "      <th>levels</th>\n",
       "      <th>year</th>\n",
       "      <th>owner</th>\n",
       "      <th>mp_code</th>\n",
       "      <th>book_value</th>\n",
       "    </tr>\n",
       "  </thead>\n",
       "  <tbody>\n",
       "    <tr>\n",
       "      <th>0</th>\n",
       "      <td>BERKELEY</td>\n",
       "      <td>1215</td>\n",
       "      <td>ALUMNI HOUSE</td>\n",
       "      <td>CORE C22A2M0PUS</td>\n",
       "      <td>BERKELEY</td>\n",
       "      <td>ALAMEDA</td>\n",
       "      <td>GENERAL</td>\n",
       "      <td>15590</td>\n",
       "      <td>8719</td>\n",
       "      <td>2</td>\n",
       "      <td>1954</td>\n",
       "      <td>UC</td>\n",
       "      <td>P</td>\n",
       "      <td>106819.0</td>\n",
       "    </tr>\n",
       "    <tr>\n",
       "      <th>1</th>\n",
       "      <td>IRVINE</td>\n",
       "      <td>9207</td>\n",
       "      <td>ALUMNI HOUSE</td>\n",
       "      <td>CORE CAMPUS</td>\n",
       "      <td>IRVINE</td>\n",
       "      <td>ORANGE</td>\n",
       "      <td>GENERAL</td>\n",
       "      <td>4027</td>\n",
       "      <td>2549</td>\n",
       "      <td>1</td>\n",
       "      <td>1984</td>\n",
       "      <td>UC</td>\n",
       "      <td>P</td>\n",
       "      <td>41981.0</td>\n",
       "    </tr>\n",
       "    <tr>\n",
       "      <th>2</th>\n",
       "      <td>FRANCISC SOAN</td>\n",
       "      <td>2032</td>\n",
       "      <td>ALUMNI HOUSE</td>\n",
       "      <td>PARNASS US AVE</td>\n",
       "      <td>FRANCISC OSAN</td>\n",
       "      <td>FRANCISC OSAN</td>\n",
       "      <td>HEALTH SCIENCE</td>\n",
       "      <td>7217</td>\n",
       "      <td>5079</td>\n",
       "      <td>3</td>\n",
       "      <td>1915</td>\n",
       "      <td>UP</td>\n",
       "      <td>P</td>\n",
       "      <td>135923.0</td>\n",
       "    </tr>\n",
       "  </tbody>\n",
       "</table>\n",
       "</div>"
      ],
      "text/plain": [
       "        location building building_name          address      city_name  \\\n",
       "0       BERKELEY     1215  ALUMNI HOUSE  CORE C22A2M0PUS       BERKELEY   \n",
       "1         IRVINE     9207  ALUMNI HOUSE      CORE CAMPUS         IRVINE   \n",
       "2  FRANCISC SOAN     2032  ALUMNI HOUSE   PARNASS US AVE  FRANCISC OSAN   \n",
       "\n",
       "          county        category   osfg  bldg_asf  levels  year owner mp_code  \\\n",
       "0        ALAMEDA         GENERAL  15590      8719       2  1954    UC       P   \n",
       "1         ORANGE         GENERAL   4027      2549       1  1984    UC       P   \n",
       "2  FRANCISC OSAN  HEALTH SCIENCE   7217      5079       3  1915    UP       P   \n",
       "\n",
       "   book_value  \n",
       "0    106819.0  \n",
       "1     41981.0  \n",
       "2    135923.0  "
      ]
     },
     "execution_count": 55,
     "metadata": {},
     "output_type": "execute_result"
    }
   ],
   "source": [
    "grading_util.run_sql(\"\"\"\n",
    "SELECT *\n",
    "FROM real_estate_metadata\n",
    "WHERE building_name = 'ALUMNI HOUSE';\n",
    "\"\"\")\n"
   ]
  },
  {
   "cell_type": "code",
   "execution_count": 56,
   "metadata": {
    "tags": [
     "otter_answer_cell"
    ]
   },
   "outputs": [
    {
     "data": {
      "text/html": [
       "<div>\n",
       "<style scoped>\n",
       "    .dataframe tbody tr th:only-of-type {\n",
       "        vertical-align: middle;\n",
       "    }\n",
       "\n",
       "    .dataframe tbody tr th {\n",
       "        vertical-align: top;\n",
       "    }\n",
       "\n",
       "    .dataframe thead th {\n",
       "        text-align: right;\n",
       "    }\n",
       "</style>\n",
       "<table border=\"1\" class=\"dataframe\">\n",
       "  <thead>\n",
       "    <tr style=\"text-align: right;\">\n",
       "      <th></th>\n",
       "      <th>building</th>\n",
       "      <th>json_agg</th>\n",
       "    </tr>\n",
       "  </thead>\n",
       "  <tbody>\n",
       "    <tr>\n",
       "      <th>0</th>\n",
       "      <td>ALUMNI HOUSE</td>\n",
       "      <td>[{'location': 'BERKELEY', 'building': '1215', 'building_name': 'ALUMNI HOUSE', 'address': 'CORE C22A2M0PUS', 'city_name': 'BERKELEY', 'county': 'ALAMEDA', 'category': 'GENERAL', 'osfg': 15590, 'bldg_asf': 8719, 'levels': 2, 'year': '1954', 'owner': 'UC', 'mp_code': 'P', 'book_value': 106819}, {'location': 'FRANCISC SOAN', 'building': '2032', 'building_name': 'ALUMNI HOUSE', 'address': 'PARNASS US AVE', 'city_name': 'FRANCISC OSAN', 'county': 'FRANCISC OSAN', 'category': 'HEALTH SCIENCE', 'osfg': 7217, 'bldg_asf': 5079, 'levels': 3, 'year': '1915', 'owner': 'UP', 'mp_code': 'P', 'book_value': 135923}, {'location': 'IRVINE', 'building': '9207', 'building_name': 'ALUMNI HOUSE', 'address': 'CORE CAMPUS', 'city_name': 'IRVINE', 'county': 'ORANGE', 'category': 'GENERAL', 'osfg': 4027, 'bldg_asf': 2549, 'levels': 1, 'year': '1984', 'owner': 'UC', 'mp_code': 'P', 'book_value': 41981}]</td>\n",
       "    </tr>\n",
       "    <tr>\n",
       "      <th>1</th>\n",
       "      <td>CAMPBELL</td>\n",
       "      <td>[{'location': 'LOS ANGELES', 'building': '4294', 'building_name': 'CAMPBELL', 'address': 'PORTOLA P11L8A1Z1A', 'city_name': 'LOS ANGELES', 'county': 'LOS ANGELES', 'category': 'GENERAL', 'osfg': 55401, 'bldg_asf': 32619, 'levels': 5, 'year': '1954', 'owner': 'UC', 'mp_code': 'P', 'book_value': 6247192.0}, {'location': 'BERKELEY', 'building': '1027', 'building_name': 'CAMPBELL', 'address': 'CORE C28A5M0PUS', 'city_name': 'BERKELEY', 'county': 'ALAMEDA', 'category': 'GENERAL', 'osfg': 83373, 'bldg_asf': 50745, 'levels': 7, 'year': '2014', 'owner': 'UC', 'mp_code': 'P', 'book_value': 75256344.0}]</td>\n",
       "    </tr>\n",
       "    <tr>\n",
       "      <th>2</th>\n",
       "      <td>HERTZ</td>\n",
       "      <td>[{'location': 'DAVIS', 'building': '9454', 'building_name': 'HERTZ', 'address': '7000 EAST 2A4V0E0 LAKE', 'city_name': 'LIVERMOR E', 'county': 'ALAMEDA', 'category': 'GENERAL', 'osfg': 10904, 'bldg_asf': 8183, 'levels': 1, 'year': '1976', 'owner': 'UC', 'mp_code': 'P', 'book_value': 0}, {'location': 'BERKELEY', 'building': '1423', 'building_name': 'HERTZ', 'address': 'CORE CAMPUS', 'city_name': 'BERKELEY', 'county': 'ALAMEDA', 'category': 'GENERAL', 'osfg': 31362, 'bldg_asf': 13518, 'levels': 4, 'year': '1958', 'owner': 'UC', 'mp_code': 'P', 'book_value': 3491181.0}]</td>\n",
       "    </tr>\n",
       "    <tr>\n",
       "      <th>3</th>\n",
       "      <td>SOUTH</td>\n",
       "      <td>[{'location': 'DAVIS', 'building': '3275', 'building_name': 'SOUTH', 'address': 'CORE CAMPUS', 'city_name': 'DAVIS (YOLO)', 'county': 'YOLO', 'category': 'GENERAL', 'osfg': 26594, 'bldg_asf': 15323, 'levels': 4, 'year': '1912', 'owner': 'UC', 'mp_code': 'P', 'book_value': 3585399.0}, {'location': 'BERKELEY', 'building': '1484', 'building_name': 'SOUTH', 'address': 'CORE CAMPUS', 'city_name': 'BERKELEY', 'county': 'ALAMEDA', 'category': 'GENERAL', 'osfg': 30401, 'bldg_asf': 15473, 'levels': 4, 'year': '1873', 'owner': 'UC', 'mp_code': 'P', 'book_value': 1426174.0}]</td>\n",
       "    </tr>\n",
       "    <tr>\n",
       "      <th>4</th>\n",
       "      <td>SPROUL</td>\n",
       "      <td>[{'location': 'DAVIS', 'building': '3815', 'building_name': 'SPROUL', 'address': 'CORE CAMPUS', 'city_name': 'DAVIS (YOLO)', 'county': 'YOLO', 'category': 'GENERAL', 'osfg': 53874, 'bldg_asf': 27913, 'levels': 10, 'year': '1963', 'owner': 'UC', 'mp_code': 'P', 'book_value': 1620880.0}, {'location': 'BERKELEY', 'building': '1210', 'building_name': 'SPROUL', 'address': 'CORE 2C6A0M0PUS', 'city_name': 'BERKELEY', 'county': 'ALAMEDA', 'category': 'GENERAL', 'osfg': 111197, 'bldg_asf': 66680, 'levels': 6, 'year': '1941', 'owner': 'UC', 'mp_code': 'P', 'book_value': 4278819.0}, {'location': 'RIVERSIDE', 'building': 'P5523', 'building_name': 'SPROUL', 'address': 'CORE CAMPUS', 'city_name': 'RIVERSIDE', 'county': 'RIVERSIDE', 'category': 'GENERAL', 'osfg': 80988, 'bldg_asf': 45532, 'levels': 5, 'year': '1965', 'owner': 'UC', 'mp_code': 'P', 'book_value': 1296147.0}]</td>\n",
       "    </tr>\n",
       "  </tbody>\n",
       "</table>\n",
       "</div>"
      ],
      "text/plain": [
       "       building  \\\n",
       "0  ALUMNI HOUSE   \n",
       "1      CAMPBELL   \n",
       "2         HERTZ   \n",
       "3         SOUTH   \n",
       "4        SPROUL   \n",
       "\n",
       "                                                                                                                                                                                                                                                                                                                                                                                                                                                                                                                                                                                                                                                                                                                                                                                                                                                                                                                    json_agg  \n",
       "0  [{'location': 'BERKELEY', 'building': '1215', 'building_name': 'ALUMNI HOUSE', 'address': 'CORE C22A2M0PUS', 'city_name': 'BERKELEY', 'county': 'ALAMEDA', 'category': 'GENERAL', 'osfg': 15590, 'bldg_asf': 8719, 'levels': 2, 'year': '1954', 'owner': 'UC', 'mp_code': 'P', 'book_value': 106819}, {'location': 'FRANCISC SOAN', 'building': '2032', 'building_name': 'ALUMNI HOUSE', 'address': 'PARNASS US AVE', 'city_name': 'FRANCISC OSAN', 'county': 'FRANCISC OSAN', 'category': 'HEALTH SCIENCE', 'osfg': 7217, 'bldg_asf': 5079, 'levels': 3, 'year': '1915', 'owner': 'UP', 'mp_code': 'P', 'book_value': 135923}, {'location': 'IRVINE', 'building': '9207', 'building_name': 'ALUMNI HOUSE', 'address': 'CORE CAMPUS', 'city_name': 'IRVINE', 'county': 'ORANGE', 'category': 'GENERAL', 'osfg': 4027, 'bldg_asf': 2549, 'levels': 1, 'year': '1984', 'owner': 'UC', 'mp_code': 'P', 'book_value': 41981}]  \n",
       "1                                                                                                                                                                                                                                                                                                   [{'location': 'LOS ANGELES', 'building': '4294', 'building_name': 'CAMPBELL', 'address': 'PORTOLA P11L8A1Z1A', 'city_name': 'LOS ANGELES', 'county': 'LOS ANGELES', 'category': 'GENERAL', 'osfg': 55401, 'bldg_asf': 32619, 'levels': 5, 'year': '1954', 'owner': 'UC', 'mp_code': 'P', 'book_value': 6247192.0}, {'location': 'BERKELEY', 'building': '1027', 'building_name': 'CAMPBELL', 'address': 'CORE C28A5M0PUS', 'city_name': 'BERKELEY', 'county': 'ALAMEDA', 'category': 'GENERAL', 'osfg': 83373, 'bldg_asf': 50745, 'levels': 7, 'year': '2014', 'owner': 'UC', 'mp_code': 'P', 'book_value': 75256344.0}]  \n",
       "2                                                                                                                                                                                                                                                                                                                              [{'location': 'DAVIS', 'building': '9454', 'building_name': 'HERTZ', 'address': '7000 EAST 2A4V0E0 LAKE', 'city_name': 'LIVERMOR E', 'county': 'ALAMEDA', 'category': 'GENERAL', 'osfg': 10904, 'bldg_asf': 8183, 'levels': 1, 'year': '1976', 'owner': 'UC', 'mp_code': 'P', 'book_value': 0}, {'location': 'BERKELEY', 'building': '1423', 'building_name': 'HERTZ', 'address': 'CORE CAMPUS', 'city_name': 'BERKELEY', 'county': 'ALAMEDA', 'category': 'GENERAL', 'osfg': 31362, 'bldg_asf': 13518, 'levels': 4, 'year': '1958', 'owner': 'UC', 'mp_code': 'P', 'book_value': 3491181.0}]  \n",
       "3                                                                                                                                                                                                                                                                                                                                 [{'location': 'DAVIS', 'building': '3275', 'building_name': 'SOUTH', 'address': 'CORE CAMPUS', 'city_name': 'DAVIS (YOLO)', 'county': 'YOLO', 'category': 'GENERAL', 'osfg': 26594, 'bldg_asf': 15323, 'levels': 4, 'year': '1912', 'owner': 'UC', 'mp_code': 'P', 'book_value': 3585399.0}, {'location': 'BERKELEY', 'building': '1484', 'building_name': 'SOUTH', 'address': 'CORE CAMPUS', 'city_name': 'BERKELEY', 'county': 'ALAMEDA', 'category': 'GENERAL', 'osfg': 30401, 'bldg_asf': 15473, 'levels': 4, 'year': '1873', 'owner': 'UC', 'mp_code': 'P', 'book_value': 1426174.0}]  \n",
       "4                     [{'location': 'DAVIS', 'building': '3815', 'building_name': 'SPROUL', 'address': 'CORE CAMPUS', 'city_name': 'DAVIS (YOLO)', 'county': 'YOLO', 'category': 'GENERAL', 'osfg': 53874, 'bldg_asf': 27913, 'levels': 10, 'year': '1963', 'owner': 'UC', 'mp_code': 'P', 'book_value': 1620880.0}, {'location': 'BERKELEY', 'building': '1210', 'building_name': 'SPROUL', 'address': 'CORE 2C6A0M0PUS', 'city_name': 'BERKELEY', 'county': 'ALAMEDA', 'category': 'GENERAL', 'osfg': 111197, 'bldg_asf': 66680, 'levels': 6, 'year': '1941', 'owner': 'UC', 'mp_code': 'P', 'book_value': 4278819.0}, {'location': 'RIVERSIDE', 'building': 'P5523', 'building_name': 'SPROUL', 'address': 'CORE CAMPUS', 'city_name': 'RIVERSIDE', 'county': 'RIVERSIDE', 'category': 'GENERAL', 'osfg': 80988, 'bldg_asf': 45532, 'levels': 5, 'year': '1965', 'owner': 'UC', 'mp_code': 'P', 'book_value': 1296147.0}]  "
      ]
     },
     "execution_count": 56,
     "metadata": {},
     "output_type": "execute_result"
    }
   ],
   "source": [
    "result_1b = grading_util.run_file(\"1b\")\n",
    "grading_util.save_results(\"result_1b\", result_1b)\n",
    "result_1b"
   ]
  },
  {
   "cell_type": "code",
   "execution_count": 57,
   "metadata": {
    "tags": [
     "otter_answer_cell"
    ]
   },
   "outputs": [],
   "source": [
    "result_1b = grading_util.load_results(\"result_1b\")[0]"
   ]
  },
  {
   "cell_type": "code",
   "execution_count": 58,
   "metadata": {
    "deletable": false,
    "editable": false
   },
   "outputs": [
    {
     "data": {
      "text/html": [
       "<p><strong><pre style='display: inline;'>q1b</pre></strong> passed! 🚀</p>"
      ],
      "text/plain": [
       "q1b results: All test cases passed!"
      ]
     },
     "execution_count": 58,
     "metadata": {},
     "output_type": "execute_result"
    }
   ],
   "source": [
    "grader.check(\"q1b\")"
   ]
  },
  {
   "cell_type": "markdown",
   "metadata": {},
   "source": [
    "<br><br>\n",
    "\n",
    "---\n",
    "### Question 1c\n",
    "\n",
    "Now find examples of many matches in the opposite direction:\n",
    "\n",
    "1. For each **distinct** `real_estate_metadata.building_name` value, find the ones that have **multiple matches** in `buildings_site_mapping.building`.\n",
    "2. For each `building_name` value, return a `JSON_AGG` of the matches in `buildings_site_mapping`.\n",
    "3. **Order your final result by `building_name` in ascending order.**\n",
    "\n",
    "**Hint:** You should use a CTE to find the distinct building names of `real_estate_metadata` before applying necessary table joins.\n",
    "\n",
    "Your table header should look like this:\n",
    "\n",
    "| building_name | json_agg |\n",
    "| :--- | :--- |"
   ]
  },
  {
   "cell_type": "code",
   "execution_count": 59,
   "metadata": {
    "tags": [
     "otter_answer_cell"
    ]
   },
   "outputs": [
    {
     "data": {
      "text/html": [
       "<div>\n",
       "<style scoped>\n",
       "    .dataframe tbody tr th:only-of-type {\n",
       "        vertical-align: middle;\n",
       "    }\n",
       "\n",
       "    .dataframe tbody tr th {\n",
       "        vertical-align: top;\n",
       "    }\n",
       "\n",
       "    .dataframe thead th {\n",
       "        text-align: right;\n",
       "    }\n",
       "</style>\n",
       "<table border=\"1\" class=\"dataframe\">\n",
       "  <thead>\n",
       "    <tr style=\"text-align: right;\">\n",
       "      <th></th>\n",
       "      <th>building_name</th>\n",
       "      <th>json_agg</th>\n",
       "    </tr>\n",
       "  </thead>\n",
       "  <tbody>\n",
       "    <tr>\n",
       "      <th>0</th>\n",
       "      <td>EDWARDS FLD</td>\n",
       "      <td>[{'site': 'Edwards Stadium West', 'building': 'EDWARDS FLD'}, {'site': 'Edwards Stadium East', 'building': 'EDWARDS FLD'}]</td>\n",
       "    </tr>\n",
       "    <tr>\n",
       "      <th>1</th>\n",
       "      <td>FAC CLUB</td>\n",
       "      <td>[{'site': 'Womens Faculty Club', 'building': 'FAC CLUB'}, {'site': 'Men's Faculty Club', 'building': 'FAC CLUB'}]</td>\n",
       "    </tr>\n",
       "    <tr>\n",
       "      <th>2</th>\n",
       "      <td>HAAS STU BLD</td>\n",
       "      <td>[{'site': 'Haas School of Business', 'building': 'HAAS STU BLD'}, {'site': 'Haas School Student Services (Water)', 'building': 'HAAS STU BLD'}]</td>\n",
       "    </tr>\n",
       "    <tr>\n",
       "      <th>3</th>\n",
       "      <td>SIMON</td>\n",
       "      <td>[{'site': 'Boalt and Simon Hall', 'building': 'SIMON'}, {'site': 'Simpson Center', 'building': 'SIMON'}]</td>\n",
       "    </tr>\n",
       "  </tbody>\n",
       "</table>\n",
       "</div>"
      ],
      "text/plain": [
       "  building_name  \\\n",
       "0   EDWARDS FLD   \n",
       "1      FAC CLUB   \n",
       "2  HAAS STU BLD   \n",
       "3         SIMON   \n",
       "\n",
       "                                                                                                                                          json_agg  \n",
       "0                       [{'site': 'Edwards Stadium West', 'building': 'EDWARDS FLD'}, {'site': 'Edwards Stadium East', 'building': 'EDWARDS FLD'}]  \n",
       "1                                [{'site': 'Womens Faculty Club', 'building': 'FAC CLUB'}, {'site': 'Men's Faculty Club', 'building': 'FAC CLUB'}]  \n",
       "2  [{'site': 'Haas School of Business', 'building': 'HAAS STU BLD'}, {'site': 'Haas School Student Services (Water)', 'building': 'HAAS STU BLD'}]  \n",
       "3                                         [{'site': 'Boalt and Simon Hall', 'building': 'SIMON'}, {'site': 'Simpson Center', 'building': 'SIMON'}]  "
      ]
     },
     "execution_count": 59,
     "metadata": {},
     "output_type": "execute_result"
    }
   ],
   "source": [
    "result_1c = grading_util.run_file(\"1c\")\n",
    "grading_util.save_results(\"result_1c\", result_1c)\n",
    "result_1c"
   ]
  },
  {
   "cell_type": "code",
   "execution_count": 60,
   "metadata": {
    "tags": [
     "otter_answer_cell"
    ]
   },
   "outputs": [],
   "source": [
    "result_1c = grading_util.load_results(\"result_1c\")[0]"
   ]
  },
  {
   "cell_type": "code",
   "execution_count": 61,
   "metadata": {
    "deletable": false,
    "editable": false
   },
   "outputs": [
    {
     "data": {
      "text/html": [
       "<p><strong><pre style='display: inline;'>q1c</pre></strong> passed! 🚀</p>"
      ],
      "text/plain": [
       "q1c results: All test cases passed!"
      ]
     },
     "execution_count": 61,
     "metadata": {},
     "output_type": "execute_result"
    }
   ],
   "source": [
    "grader.check(\"q1c\")"
   ]
  },
  {
   "cell_type": "markdown",
   "metadata": {
    "deletable": false,
    "editable": false
   },
   "source": [
    "<!-- BEGIN QUESTION -->\n",
    "\n",
    "<br><br>\n",
    "\n",
    "---\n",
    "### Question 1d\n",
    "\n",
    "Address the two questions below:\n",
    "\n",
    "1. Can you uniquely determine the building given the sensor data? Why? (**Hint:** given a row in the `data` table, can you determine a **uniquely** associated row in `real_estate_metadata` table? Your answer should draw insights from 1b.)\n",
    "2. Could `buildings_site_mapping.building` be a valid foreign key pointing to `real_estate_metadata.building_name`? (**Hint:** think about what kinds of columns can be a foreign key.)\n",
    "\n",
    "Please keep your response to **exactly 1 sentence for each subpart and format your answer like so:**\n",
    "\n",
    "1. YOUR ANSWER\n",
    "2. YOUR ANSWER"
   ]
  },
  {
   "cell_type": "markdown",
   "metadata": {
    "tags": [
     "otter_answer_cell"
    ]
   },
   "source": [
    "No, you cannot determine the building uniquely from a row in the data table since numerous buildings might have the same building name in real_estate_metadata, as seen in the JSON aggregate of Question 1b.\n",
    "\n",
    "No, buildings_site_mapping.building is not an acceptable foreign key for real_estate_metadata.building_name because building names are not unique in the metadata, and foreign keys must reference unique values."
   ]
  },
  {
   "cell_type": "markdown",
   "metadata": {
    "deletable": false,
    "editable": false
   },
   "source": [
    "<!-- END QUESTION -->\n",
    "\n",
    "<br/><br/><br/>\n",
    "\n",
    "<hr style=\"border: 5px solid #003262;\" />\n",
    "<hr style=\"border: 1px solid #fdb515;\" />\n",
    "\n",
    "## Question 2: Looking for Outliers in the Readings\n",
    "Physical sensors, such as the ones responsible for generating this data, are notorious for occasionally producing crazy outliers. In this section, we will undergo some data cleaning to address these outliers.\n",
    "\n",
    "The readings from all different types of sensors are mixed together within this `data` table. This assortment of mixed readings will require some extra work to identify the outliers. Let's get started.\n",
    "\n",
    "### Question 2a: Outlier Detection\n",
    "\n",
    "Let's start with finding the outliers in the `data` table. We'll define an outlier as an observation that is more than **3 Hampel X84 intervals** away from the median of all values from the same sensor ID. **You must use `1.4826` as one Hampel X84 interval.** See lectures on outliers for more information.\n",
    "\n",
    "Create a view `labeled_data` that contains all of the columns in `data` and adds 3 additional columns on the far right:\n",
    "\n",
    "1. `median`: the median of `value` for that sensor `id` using `PERCENTILE_DISC`. See [Table 9-51 on the Postgres docs](https://www.postgresql.org/docs/9.4/functions-aggregate.html#FUNCTIONS-ORDEREDSET-TABLE)\n",
    "3. `mad`: the Median Absolute Deviation (MAD) of the `value` column for that sensor `id`\n",
    "4. `is_outlier`: is `TRUE` if that `value` is an outlier as defined above, and `FALSE` otherwise.\n",
    "    - **Also, for data points where the `mad` is 0, set this to `FALSE`.**\n",
    "\n",
    "Your table header should look like this:\n",
    "\n",
    "| time | id | value | median | mad | is_outlier |\n",
    "| :--- | :--- | :--- | :--- | :--- | :--- |\n",
    "\n",
    "**Hints:**\n",
    "\n",
    "- You should use CTEs to first compute the median and MAD values. Feel free to create as many CTEs as you need to complete the objective. Our staff solution used 3:\n",
    "    - One to compute the median of *each* sensor id\n",
    "    - One to compute the absolute differences for each data point relative to its sensor id median\n",
    "    - One to finally compute the median of these absolute differences.\n",
    "- You may find the `CASE` statement useful. See the [course notes](https://data101.org/notes/1-SQL/review.html#case)."
   ]
  },
  {
   "cell_type": "code",
   "execution_count": 62,
   "metadata": {
    "scrolled": true,
    "tags": [
     "otter_answer_cell"
    ]
   },
   "outputs": [
    {
     "data": {
      "text/html": [
       "<div>\n",
       "<style scoped>\n",
       "    .dataframe tbody tr th:only-of-type {\n",
       "        vertical-align: middle;\n",
       "    }\n",
       "\n",
       "    .dataframe tbody tr th {\n",
       "        vertical-align: top;\n",
       "    }\n",
       "\n",
       "    .dataframe thead th {\n",
       "        text-align: right;\n",
       "    }\n",
       "</style>\n",
       "<table border=\"1\" class=\"dataframe\">\n",
       "  <thead>\n",
       "    <tr style=\"text-align: right;\">\n",
       "      <th></th>\n",
       "      <th>time</th>\n",
       "      <th>id</th>\n",
       "      <th>value</th>\n",
       "      <th>median</th>\n",
       "      <th>mad</th>\n",
       "      <th>is_outlier</th>\n",
       "    </tr>\n",
       "  </thead>\n",
       "  <tbody>\n",
       "    <tr>\n",
       "      <th>0</th>\n",
       "      <td>2018-06-07 00:00:00+00:00</td>\n",
       "      <td>a481d4a8-44f6-5f63-b469-85571a018c6f</td>\n",
       "      <td>812.6</td>\n",
       "      <td>727.500</td>\n",
       "      <td>16.200</td>\n",
       "      <td>True</td>\n",
       "    </tr>\n",
       "    <tr>\n",
       "      <th>1</th>\n",
       "      <td>2018-06-07 00:00:00+00:00</td>\n",
       "      <td>a51d3bed-a8b6-5321-96a1-c5542caca70c</td>\n",
       "      <td>75.0</td>\n",
       "      <td>6.186</td>\n",
       "      <td>4.957</td>\n",
       "      <td>True</td>\n",
       "    </tr>\n",
       "    <tr>\n",
       "      <th>2</th>\n",
       "      <td>2018-06-07 00:00:00+00:00</td>\n",
       "      <td>a6336afc-cdb7-5f87-a4bf-67411ea1b5cc</td>\n",
       "      <td>54.0</td>\n",
       "      <td>32.000</td>\n",
       "      <td>1.000</td>\n",
       "      <td>True</td>\n",
       "    </tr>\n",
       "    <tr>\n",
       "      <th>3</th>\n",
       "      <td>2018-06-07 00:00:00+00:00</td>\n",
       "      <td>a652779f-8433-5ad3-9310-f4f1062e4d04</td>\n",
       "      <td>14.0</td>\n",
       "      <td>8.000</td>\n",
       "      <td>1.000</td>\n",
       "      <td>True</td>\n",
       "    </tr>\n",
       "    <tr>\n",
       "      <th>4</th>\n",
       "      <td>2018-06-07 00:00:00+00:00</td>\n",
       "      <td>a760a23a-8de4-5ce3-939a-826bf31f01df</td>\n",
       "      <td>109.0</td>\n",
       "      <td>69.000</td>\n",
       "      <td>7.000</td>\n",
       "      <td>True</td>\n",
       "    </tr>\n",
       "    <tr>\n",
       "      <th>...</th>\n",
       "      <td>...</td>\n",
       "      <td>...</td>\n",
       "      <td>...</td>\n",
       "      <td>...</td>\n",
       "      <td>...</td>\n",
       "      <td>...</td>\n",
       "    </tr>\n",
       "    <tr>\n",
       "      <th>95</th>\n",
       "      <td>2018-06-07 00:00:00+00:00</td>\n",
       "      <td>a7145dcc-90e5-5bfb-9b1c-277615779c16</td>\n",
       "      <td>4.0</td>\n",
       "      <td>3.000</td>\n",
       "      <td>1.000</td>\n",
       "      <td>False</td>\n",
       "    </tr>\n",
       "    <tr>\n",
       "      <th>96</th>\n",
       "      <td>2018-06-07 00:00:00+00:00</td>\n",
       "      <td>a71d821d-d6e6-5ee9-86fa-2b075f13c2cc</td>\n",
       "      <td>99.0</td>\n",
       "      <td>81.000</td>\n",
       "      <td>17.000</td>\n",
       "      <td>False</td>\n",
       "    </tr>\n",
       "    <tr>\n",
       "      <th>97</th>\n",
       "      <td>2018-06-07 00:00:00+00:00</td>\n",
       "      <td>a71fbdfd-26ad-562c-b193-9dc414b851f0</td>\n",
       "      <td>122.9</td>\n",
       "      <td>58.700</td>\n",
       "      <td>35.700</td>\n",
       "      <td>False</td>\n",
       "    </tr>\n",
       "    <tr>\n",
       "      <th>98</th>\n",
       "      <td>2018-06-07 00:00:00+00:00</td>\n",
       "      <td>a744b292-f4cf-5f85-9e4a-5e626e19d5af</td>\n",
       "      <td>107.0</td>\n",
       "      <td>74.000</td>\n",
       "      <td>18.000</td>\n",
       "      <td>False</td>\n",
       "    </tr>\n",
       "    <tr>\n",
       "      <th>99</th>\n",
       "      <td>2018-06-07 00:00:00+00:00</td>\n",
       "      <td>a749b51c-0be8-5b73-bf67-de452e0270ab</td>\n",
       "      <td>64.9</td>\n",
       "      <td>64.900</td>\n",
       "      <td>0.000</td>\n",
       "      <td>False</td>\n",
       "    </tr>\n",
       "  </tbody>\n",
       "</table>\n",
       "<p>100 rows × 6 columns</p>\n",
       "</div>"
      ],
      "text/plain": [
       "                        time                                    id  value  \\\n",
       "0  2018-06-07 00:00:00+00:00  a481d4a8-44f6-5f63-b469-85571a018c6f  812.6   \n",
       "1  2018-06-07 00:00:00+00:00  a51d3bed-a8b6-5321-96a1-c5542caca70c   75.0   \n",
       "2  2018-06-07 00:00:00+00:00  a6336afc-cdb7-5f87-a4bf-67411ea1b5cc   54.0   \n",
       "3  2018-06-07 00:00:00+00:00  a652779f-8433-5ad3-9310-f4f1062e4d04   14.0   \n",
       "4  2018-06-07 00:00:00+00:00  a760a23a-8de4-5ce3-939a-826bf31f01df  109.0   \n",
       "..                       ...                                   ...    ...   \n",
       "95 2018-06-07 00:00:00+00:00  a7145dcc-90e5-5bfb-9b1c-277615779c16    4.0   \n",
       "96 2018-06-07 00:00:00+00:00  a71d821d-d6e6-5ee9-86fa-2b075f13c2cc   99.0   \n",
       "97 2018-06-07 00:00:00+00:00  a71fbdfd-26ad-562c-b193-9dc414b851f0  122.9   \n",
       "98 2018-06-07 00:00:00+00:00  a744b292-f4cf-5f85-9e4a-5e626e19d5af  107.0   \n",
       "99 2018-06-07 00:00:00+00:00  a749b51c-0be8-5b73-bf67-de452e0270ab   64.9   \n",
       "\n",
       "     median     mad  is_outlier  \n",
       "0   727.500  16.200        True  \n",
       "1     6.186   4.957        True  \n",
       "2    32.000   1.000        True  \n",
       "3     8.000   1.000        True  \n",
       "4    69.000   7.000        True  \n",
       "..      ...     ...         ...  \n",
       "95    3.000   1.000       False  \n",
       "96   81.000  17.000       False  \n",
       "97   58.700  35.700       False  \n",
       "98   74.000  18.000       False  \n",
       "99   64.900   0.000       False  \n",
       "\n",
       "[100 rows x 6 columns]"
      ]
     },
     "execution_count": 62,
     "metadata": {},
     "output_type": "execute_result"
    }
   ],
   "source": [
    "result_2a = grading_util.run_file(\"2a\")[2]\n",
    "grading_util.save_results(\"result_2a\", result_2a)\n",
    "result_2a"
   ]
  },
  {
   "cell_type": "code",
   "execution_count": 63,
   "metadata": {
    "tags": [
     "otter_answer_cell"
    ]
   },
   "outputs": [],
   "source": [
    "result_2a = grading_util.load_results(\"result_2a\")[0]"
   ]
  },
  {
   "cell_type": "code",
   "execution_count": 64,
   "metadata": {
    "deletable": false,
    "editable": false
   },
   "outputs": [
    {
     "data": {
      "text/html": [
       "<p><strong><pre style='display: inline;'>q2a</pre></strong> passed! 🎉</p>"
      ],
      "text/plain": [
       "q2a results: All test cases passed!"
      ]
     },
     "execution_count": 64,
     "metadata": {},
     "output_type": "execute_result"
    }
   ],
   "source": [
    "grader.check(\"q2a\")"
   ]
  },
  {
   "cell_type": "markdown",
   "metadata": {},
   "source": [
    "<br><br>\n",
    "\n",
    "---\n",
    "\n",
    "### Question 2b: Outlier Handling (Winsorization)\n",
    "\n",
    "In this step, define a view `cleaned_data` containing all the columns of `labeled_data` and one additional column on the far right called `clean_value`. This column will contain a copy of `labeled_data.value` if that value is not an outlier. For outliers, it should contain the value Winsorized to the nearest outlier boundary value (3 Hampel X84 intervals from the median). **If the MAD is 0, then the cleaned value should be unchanged (i.e., the same as the original value).**\n",
    "\n",
    "To reiterate, we consider a value to be an outlier if it is more than (strictly greater than or strictly less than) 3 Hampel X84 intervals from the median. **You must use `1.4826` once again as one Hampel X84 interval.**\n",
    "\n",
    "Your table header should look like this:\n",
    "\n",
    "| time | id | value | median | mad | is_outlier | clean_value |\n",
    "| :--- | :--- | :--- | :--- | :--- | :--- | :--- |"
   ]
  },
  {
   "cell_type": "code",
   "execution_count": 65,
   "metadata": {
    "tags": [
     "otter_answer_cell"
    ]
   },
   "outputs": [
    {
     "data": {
      "text/html": [
       "<div>\n",
       "<style scoped>\n",
       "    .dataframe tbody tr th:only-of-type {\n",
       "        vertical-align: middle;\n",
       "    }\n",
       "\n",
       "    .dataframe tbody tr th {\n",
       "        vertical-align: top;\n",
       "    }\n",
       "\n",
       "    .dataframe thead th {\n",
       "        text-align: right;\n",
       "    }\n",
       "</style>\n",
       "<table border=\"1\" class=\"dataframe\">\n",
       "  <thead>\n",
       "    <tr style=\"text-align: right;\">\n",
       "      <th></th>\n",
       "      <th>time</th>\n",
       "      <th>id</th>\n",
       "      <th>value</th>\n",
       "      <th>median</th>\n",
       "      <th>mad</th>\n",
       "      <th>is_outlier</th>\n",
       "      <th>clean_value</th>\n",
       "    </tr>\n",
       "  </thead>\n",
       "  <tbody>\n",
       "    <tr>\n",
       "      <th>0</th>\n",
       "      <td>2018-06-07 00:00:00+00:00</td>\n",
       "      <td>a481d4a8-44f6-5f63-b469-85571a018c6f</td>\n",
       "      <td>812.6</td>\n",
       "      <td>727.500</td>\n",
       "      <td>16.200</td>\n",
       "      <td>True</td>\n",
       "      <td>799.554360</td>\n",
       "    </tr>\n",
       "    <tr>\n",
       "      <th>1</th>\n",
       "      <td>2018-06-07 00:00:00+00:00</td>\n",
       "      <td>a51d3bed-a8b6-5321-96a1-c5542caca70c</td>\n",
       "      <td>75.0</td>\n",
       "      <td>6.186</td>\n",
       "      <td>4.957</td>\n",
       "      <td>True</td>\n",
       "      <td>28.233745</td>\n",
       "    </tr>\n",
       "    <tr>\n",
       "      <th>2</th>\n",
       "      <td>2018-06-07 00:00:00+00:00</td>\n",
       "      <td>a6336afc-cdb7-5f87-a4bf-67411ea1b5cc</td>\n",
       "      <td>54.0</td>\n",
       "      <td>32.000</td>\n",
       "      <td>1.000</td>\n",
       "      <td>True</td>\n",
       "      <td>36.447800</td>\n",
       "    </tr>\n",
       "    <tr>\n",
       "      <th>3</th>\n",
       "      <td>2018-06-07 00:00:00+00:00</td>\n",
       "      <td>a652779f-8433-5ad3-9310-f4f1062e4d04</td>\n",
       "      <td>14.0</td>\n",
       "      <td>8.000</td>\n",
       "      <td>1.000</td>\n",
       "      <td>True</td>\n",
       "      <td>12.447800</td>\n",
       "    </tr>\n",
       "    <tr>\n",
       "      <th>4</th>\n",
       "      <td>2018-06-07 00:00:00+00:00</td>\n",
       "      <td>a760a23a-8de4-5ce3-939a-826bf31f01df</td>\n",
       "      <td>109.0</td>\n",
       "      <td>69.000</td>\n",
       "      <td>7.000</td>\n",
       "      <td>True</td>\n",
       "      <td>100.134600</td>\n",
       "    </tr>\n",
       "    <tr>\n",
       "      <th>...</th>\n",
       "      <td>...</td>\n",
       "      <td>...</td>\n",
       "      <td>...</td>\n",
       "      <td>...</td>\n",
       "      <td>...</td>\n",
       "      <td>...</td>\n",
       "      <td>...</td>\n",
       "    </tr>\n",
       "    <tr>\n",
       "      <th>95</th>\n",
       "      <td>2018-06-07 00:00:00+00:00</td>\n",
       "      <td>a7145dcc-90e5-5bfb-9b1c-277615779c16</td>\n",
       "      <td>4.0</td>\n",
       "      <td>3.000</td>\n",
       "      <td>1.000</td>\n",
       "      <td>False</td>\n",
       "      <td>4.000000</td>\n",
       "    </tr>\n",
       "    <tr>\n",
       "      <th>96</th>\n",
       "      <td>2018-06-07 00:00:00+00:00</td>\n",
       "      <td>a71d821d-d6e6-5ee9-86fa-2b075f13c2cc</td>\n",
       "      <td>99.0</td>\n",
       "      <td>81.000</td>\n",
       "      <td>17.000</td>\n",
       "      <td>False</td>\n",
       "      <td>99.000000</td>\n",
       "    </tr>\n",
       "    <tr>\n",
       "      <th>97</th>\n",
       "      <td>2018-06-07 00:00:00+00:00</td>\n",
       "      <td>a71fbdfd-26ad-562c-b193-9dc414b851f0</td>\n",
       "      <td>122.9</td>\n",
       "      <td>58.700</td>\n",
       "      <td>35.700</td>\n",
       "      <td>False</td>\n",
       "      <td>122.900000</td>\n",
       "    </tr>\n",
       "    <tr>\n",
       "      <th>98</th>\n",
       "      <td>2018-06-07 00:00:00+00:00</td>\n",
       "      <td>a744b292-f4cf-5f85-9e4a-5e626e19d5af</td>\n",
       "      <td>107.0</td>\n",
       "      <td>74.000</td>\n",
       "      <td>18.000</td>\n",
       "      <td>False</td>\n",
       "      <td>107.000000</td>\n",
       "    </tr>\n",
       "    <tr>\n",
       "      <th>99</th>\n",
       "      <td>2018-06-07 00:00:00+00:00</td>\n",
       "      <td>a749b51c-0be8-5b73-bf67-de452e0270ab</td>\n",
       "      <td>64.9</td>\n",
       "      <td>64.900</td>\n",
       "      <td>0.000</td>\n",
       "      <td>False</td>\n",
       "      <td>64.900000</td>\n",
       "    </tr>\n",
       "  </tbody>\n",
       "</table>\n",
       "<p>100 rows × 7 columns</p>\n",
       "</div>"
      ],
      "text/plain": [
       "                        time                                    id  value  \\\n",
       "0  2018-06-07 00:00:00+00:00  a481d4a8-44f6-5f63-b469-85571a018c6f  812.6   \n",
       "1  2018-06-07 00:00:00+00:00  a51d3bed-a8b6-5321-96a1-c5542caca70c   75.0   \n",
       "2  2018-06-07 00:00:00+00:00  a6336afc-cdb7-5f87-a4bf-67411ea1b5cc   54.0   \n",
       "3  2018-06-07 00:00:00+00:00  a652779f-8433-5ad3-9310-f4f1062e4d04   14.0   \n",
       "4  2018-06-07 00:00:00+00:00  a760a23a-8de4-5ce3-939a-826bf31f01df  109.0   \n",
       "..                       ...                                   ...    ...   \n",
       "95 2018-06-07 00:00:00+00:00  a7145dcc-90e5-5bfb-9b1c-277615779c16    4.0   \n",
       "96 2018-06-07 00:00:00+00:00  a71d821d-d6e6-5ee9-86fa-2b075f13c2cc   99.0   \n",
       "97 2018-06-07 00:00:00+00:00  a71fbdfd-26ad-562c-b193-9dc414b851f0  122.9   \n",
       "98 2018-06-07 00:00:00+00:00  a744b292-f4cf-5f85-9e4a-5e626e19d5af  107.0   \n",
       "99 2018-06-07 00:00:00+00:00  a749b51c-0be8-5b73-bf67-de452e0270ab   64.9   \n",
       "\n",
       "     median     mad  is_outlier  clean_value  \n",
       "0   727.500  16.200        True   799.554360  \n",
       "1     6.186   4.957        True    28.233745  \n",
       "2    32.000   1.000        True    36.447800  \n",
       "3     8.000   1.000        True    12.447800  \n",
       "4    69.000   7.000        True   100.134600  \n",
       "..      ...     ...         ...          ...  \n",
       "95    3.000   1.000       False     4.000000  \n",
       "96   81.000  17.000       False    99.000000  \n",
       "97   58.700  35.700       False   122.900000  \n",
       "98   74.000  18.000       False   107.000000  \n",
       "99   64.900   0.000       False    64.900000  \n",
       "\n",
       "[100 rows x 7 columns]"
      ]
     },
     "execution_count": 65,
     "metadata": {},
     "output_type": "execute_result"
    }
   ],
   "source": [
    "result_2b = grading_util.run_file(\"2b\")[2]\n",
    "grading_util.save_results(\"result_2b\", result_2b)\n",
    "result_2b"
   ]
  },
  {
   "cell_type": "code",
   "execution_count": 66,
   "metadata": {
    "tags": [
     "otter_answer_cell"
    ]
   },
   "outputs": [],
   "source": [
    "result_2b = grading_util.load_results(\"result_2b\")[0]"
   ]
  },
  {
   "cell_type": "code",
   "execution_count": 67,
   "metadata": {
    "deletable": false,
    "editable": false
   },
   "outputs": [
    {
     "data": {
      "text/html": [
       "<p><strong><pre style='display: inline;'>q2b</pre></strong> passed! 🙌</p>"
      ],
      "text/plain": [
       "q2b results: All test cases passed!"
      ]
     },
     "execution_count": 67,
     "metadata": {},
     "output_type": "execute_result"
    }
   ],
   "source": [
    "grader.check(\"q2b\")"
   ]
  },
  {
   "cell_type": "markdown",
   "metadata": {
    "deletable": false,
    "editable": false
   },
   "source": [
    "<!-- BEGIN QUESTION -->\n",
    "\n",
    "<br/><br/><br/>\n",
    "\n",
    "<hr style=\"border: 5px solid #003262;\" />\n",
    "<hr style=\"border: 1px solid #fdb515;\" />\n",
    "\n",
    "## Question 3: Entity Resolution\n",
    "\n",
    "### Question 3a\n",
    "\n",
    "There is a lot of mess in this dataset related to entity names. As a start, have a look at all of the distinct values in the `units` field of the `metadata` table, which contains the units of measurement for a particular piece of metadata (you can use the ungraded code cell below or the terminal).\n",
    "\n",
    "If you are unfamiliar with a unit of measurement, try searching for it and its abbreviation online.\n",
    "\n",
    "What do you notice about these values? Are there any duplicates? **Limit your response to one sentence.**"
   ]
  },
  {
   "cell_type": "markdown",
   "metadata": {
    "tags": [
     "otter_answer_cell"
    ]
   },
   "source": [
    "Many duplication are generated by uneven formatting, such as changes in capitalization, spacing, and nomenclature for the same units (e.g., \"F\", \"°F\", and \"Fahrenheit\")"
   ]
  },
  {
   "cell_type": "code",
   "execution_count": 68,
   "metadata": {
    "tags": [
     "otter_answer_cell"
    ]
   },
   "outputs": [
    {
     "data": {
      "text/html": [
       "<div>\n",
       "<style scoped>\n",
       "    .dataframe tbody tr th:only-of-type {\n",
       "        vertical-align: middle;\n",
       "    }\n",
       "\n",
       "    .dataframe tbody tr th {\n",
       "        vertical-align: top;\n",
       "    }\n",
       "\n",
       "    .dataframe thead th {\n",
       "        text-align: right;\n",
       "    }\n",
       "</style>\n",
       "<table border=\"1\" class=\"dataframe\">\n",
       "  <thead>\n",
       "    <tr style=\"text-align: right;\">\n",
       "      <th></th>\n",
       "      <th>units</th>\n",
       "    </tr>\n",
       "  </thead>\n",
       "  <tbody>\n",
       "    <tr>\n",
       "      <th>0</th>\n",
       "      <td>A</td>\n",
       "    </tr>\n",
       "    <tr>\n",
       "      <th>1</th>\n",
       "      <td>Amps</td>\n",
       "    </tr>\n",
       "    <tr>\n",
       "      <th>2</th>\n",
       "      <td>Bottom</td>\n",
       "    </tr>\n",
       "    <tr>\n",
       "      <th>3</th>\n",
       "      <td>CF</td>\n",
       "    </tr>\n",
       "    <tr>\n",
       "      <th>4</th>\n",
       "      <td>CFm</td>\n",
       "    </tr>\n",
       "    <tr>\n",
       "      <th>...</th>\n",
       "      <td>...</td>\n",
       "    </tr>\n",
       "    <tr>\n",
       "      <th>29</th>\n",
       "      <td>uS</td>\n",
       "    </tr>\n",
       "    <tr>\n",
       "      <th>30</th>\n",
       "      <td>V</td>\n",
       "    </tr>\n",
       "    <tr>\n",
       "      <th>31</th>\n",
       "      <td>Volts</td>\n",
       "    </tr>\n",
       "    <tr>\n",
       "      <th>32</th>\n",
       "      <td>W</td>\n",
       "    </tr>\n",
       "    <tr>\n",
       "      <th>33</th>\n",
       "      <td>Wh</td>\n",
       "    </tr>\n",
       "  </tbody>\n",
       "</table>\n",
       "<p>34 rows × 1 columns</p>\n",
       "</div>"
      ],
      "text/plain": [
       "     units\n",
       "0        A\n",
       "1     Amps\n",
       "2   Bottom\n",
       "3       CF\n",
       "4      CFm\n",
       "..     ...\n",
       "29      uS\n",
       "30       V\n",
       "31   Volts\n",
       "32       W\n",
       "33      Wh\n",
       "\n",
       "[34 rows x 1 columns]"
      ]
     },
     "execution_count": 68,
     "metadata": {},
     "output_type": "execute_result"
    }
   ],
   "source": [
    "grading_util.run_sql(\"\"\"\n",
    "SELECT DISTINCT units\n",
    "FROM metadata\n",
    "ORDER BY units;\n",
    "\"\"\")"
   ]
  },
  {
   "cell_type": "markdown",
   "metadata": {
    "deletable": false,
    "editable": false
   },
   "source": [
    "<!-- END QUESTION -->\n",
    "\n",
    "<br><br>\n",
    "\n",
    "---\n",
    "\n",
    "### Question 3b\n",
    "\n",
    "Sometimes entity resolution is as simple as a text transformation. For example, how many unique `units` values are there, and how many would there be if we ignored case (upper vs. lower case)? Your output should be a table with one row and two columns:\n",
    "\n",
    "1. `num_unique_units`: The number of unique `units` values (case sensitive)\n",
    "2. `num_unique_units_ignore_case`: The number of unique `units` values if we ignored case\n",
    "\n",
    "Your table header should look like this:\n",
    "\n",
    "| num_unique_units | num_unique_units_ignore_case |\n",
    "| :--- | :--- |"
   ]
  },
  {
   "cell_type": "code",
   "execution_count": 69,
   "metadata": {
    "scrolled": true,
    "tags": [
     "otter_answer_cell"
    ]
   },
   "outputs": [
    {
     "data": {
      "text/html": [
       "<div>\n",
       "<style scoped>\n",
       "    .dataframe tbody tr th:only-of-type {\n",
       "        vertical-align: middle;\n",
       "    }\n",
       "\n",
       "    .dataframe tbody tr th {\n",
       "        vertical-align: top;\n",
       "    }\n",
       "\n",
       "    .dataframe thead th {\n",
       "        text-align: right;\n",
       "    }\n",
       "</style>\n",
       "<table border=\"1\" class=\"dataframe\">\n",
       "  <thead>\n",
       "    <tr style=\"text-align: right;\">\n",
       "      <th></th>\n",
       "      <th>num_unique_units</th>\n",
       "      <th>num_unique_units_ignore_case</th>\n",
       "    </tr>\n",
       "  </thead>\n",
       "  <tbody>\n",
       "    <tr>\n",
       "      <th>0</th>\n",
       "      <td>34</td>\n",
       "      <td>29</td>\n",
       "    </tr>\n",
       "  </tbody>\n",
       "</table>\n",
       "</div>"
      ],
      "text/plain": [
       "   num_unique_units  num_unique_units_ignore_case\n",
       "0                34                            29"
      ]
     },
     "execution_count": 69,
     "metadata": {},
     "output_type": "execute_result"
    }
   ],
   "source": [
    "result_3b = grading_util.run_file(\"3b\")\n",
    "grading_util.save_results(\"result_3b\", result_3b)\n",
    "result_3b"
   ]
  },
  {
   "cell_type": "code",
   "execution_count": 70,
   "metadata": {
    "tags": [
     "otter_answer_cell"
    ]
   },
   "outputs": [],
   "source": [
    "result_3b = grading_util.load_results(\"result_3b\")[0]"
   ]
  },
  {
   "cell_type": "code",
   "execution_count": 71,
   "metadata": {
    "deletable": false,
    "editable": false
   },
   "outputs": [
    {
     "data": {
      "text/html": [
       "<p><strong><pre style='display: inline;'>q3b</pre></strong> passed! 🌈</p>"
      ],
      "text/plain": [
       "q3b results: All test cases passed!"
      ]
     },
     "execution_count": 71,
     "metadata": {},
     "output_type": "execute_result"
    }
   ],
   "source": [
    "grader.check(\"q3b\")"
   ]
  },
  {
   "cell_type": "markdown",
   "metadata": {},
   "source": [
    "<br><br>\n",
    "\n",
    "---\n",
    "\n",
    "### Question 3c\n",
    "\n",
    "Arguably, we shouldn't care about these alternative unit labels, *as long as each sensor in the same **`class`** uses a single unique value of `units`*. After all, maybe the capitalization means something to somebody!\n",
    "\n",
    "Write a SQL query that returns a table containing **1 row and 1 column** of value `TRUE` if the condition (in italics above) holds, or `FALSE` otherwise. This column should be called `are_units_consistent`.\n",
    "\n",
    "**You must use the `ALL` operator ([Postgres docs](https://www.postgresql.org/docs/current/functions-comparisons.html#FUNCTIONS-COMPARISONS-ALL)).** Example usage: `<value> = ALL (SELECT <column or columns> FROM <table>)`\n",
    "\n",
    "It may also be helpful to write a CTE.\n",
    "\n",
    "Your table header should look like this:\n",
    "\n",
    "| are_units_consistent |\n",
    "| :--- |"
   ]
  },
  {
   "cell_type": "code",
   "execution_count": 72,
   "metadata": {
    "tags": [
     "otter_answer_cell"
    ]
   },
   "outputs": [
    {
     "data": {
      "text/html": [
       "<div>\n",
       "<style scoped>\n",
       "    .dataframe tbody tr th:only-of-type {\n",
       "        vertical-align: middle;\n",
       "    }\n",
       "\n",
       "    .dataframe tbody tr th {\n",
       "        vertical-align: top;\n",
       "    }\n",
       "\n",
       "    .dataframe thead th {\n",
       "        text-align: right;\n",
       "    }\n",
       "</style>\n",
       "<table border=\"1\" class=\"dataframe\">\n",
       "  <thead>\n",
       "    <tr style=\"text-align: right;\">\n",
       "      <th></th>\n",
       "      <th>are_units_consistent</th>\n",
       "    </tr>\n",
       "  </thead>\n",
       "  <tbody>\n",
       "    <tr>\n",
       "      <th>0</th>\n",
       "      <td>True</td>\n",
       "    </tr>\n",
       "  </tbody>\n",
       "</table>\n",
       "</div>"
      ],
      "text/plain": [
       "   are_units_consistent\n",
       "0                  True"
      ]
     },
     "execution_count": 72,
     "metadata": {},
     "output_type": "execute_result"
    }
   ],
   "source": [
    "result_3c = grading_util.run_file(\"3c\")\n",
    "grading_util.save_results(\"result_3c\", result_3c)\n",
    "result_3c"
   ]
  },
  {
   "cell_type": "code",
   "execution_count": 73,
   "metadata": {
    "tags": [
     "otter_answer_cell"
    ]
   },
   "outputs": [],
   "source": [
    "result_3c = grading_util.load_results(\"result_3c\")[0]"
   ]
  },
  {
   "cell_type": "code",
   "execution_count": 74,
   "metadata": {
    "deletable": false,
    "editable": false
   },
   "outputs": [
    {
     "data": {
      "text/html": [
       "<p><strong><pre style='display: inline;'>q3c</pre></strong> passed! 🎉</p>"
      ],
      "text/plain": [
       "q3c results: All test cases passed!"
      ]
     },
     "execution_count": 74,
     "metadata": {},
     "output_type": "execute_result"
    }
   ],
   "source": [
    "grader.check(\"q3c\")"
   ]
  },
  {
   "cell_type": "markdown",
   "metadata": {
    "deletable": false,
    "editable": false
   },
   "source": [
    "<!-- BEGIN QUESTION -->\n",
    "\n",
    "<br><br>\n",
    "\n",
    "---\n",
    "\n",
    "### Question 3d\n",
    "\n",
    "Moving on, have a look at the `real_estate_metadata` table—starting with the distinct values in the `location` field! What do you notice about the spelling of some of these values? (If you're unfamiliar with these locations, search them up online.) **Keep your response to at most 1 sentence.**\n"
   ]
  },
  {
   "cell_type": "markdown",
   "metadata": {
    "tags": [
     "otter_answer_cell"
    ]
   },
   "source": [
    "Certain locations contain conflicting or inaccurate spellings, such as \"PARANNSS AVE\" instead of \"PARNASSUS AVE,\" and differing abbreviations, such as \"AVE\" vs \"AV\""
   ]
  },
  {
   "cell_type": "markdown",
   "metadata": {
    "deletable": false,
    "editable": false
   },
   "source": [
    "<!-- END QUESTION -->\n",
    "\n",
    "<br><br>\n",
    "\n",
    "---\n",
    "### Question 3e\n",
    "\n",
    "It turns out this `real_estate_metadata` table is the result of an [OCR scan](https://en.wikipedia.org/wiki/Optical_character_recognition), which can sometimes be inaccurate. We will just focus on cleaning up the `location` column for the time being, and leave you to imagine the effort required to do a full cleanup of all columns.\n",
    "\n",
    "We also created a lookup table of standardized names, `uc_locations`. You can treat these as \"ground truth\" correct spellings of locations found in `real_estate_metadata`.\n",
    "\n",
    "**YOUR TASK:** Write a SQL query that returns the columns `building_name, address, location, clean_location` where `clean_location` contains the best match from `uc_locations.loc_name`. There are several ways you can go about doing this, and we encourage you to try different approaches:\n",
    "\n",
    "1. **Method 1:** For each distinct `real_estate_metadata.location` that is misspelled, determine the correct spelling in `uc_locations.loc_name` and use `CASE` to assign the correct spelling.\n",
    "2. **Method 2:** Use functions from a Postgres extension package (which we have preloaded for you) like `fuzzystrmatch` (for [fuzzy string matching](https://en.wikipedia.org/wiki/Approximate_string_matching)) or `pg_trgm` (for [trigram](https://en.wikipedia.org/wiki/N-gram) matching). You can use any of the string functions in those packages if you'd like ([fuzzystrmatch docs](https://www.postgresql.org/docs/current/fuzzystrmatch.html) or [pg_trgm docs](https://www.postgresql.org/docs/current/pgtrgm.html)). Examples:\n",
    "    - `word_similarity` (course staff has found the most success using this one)\n",
    "    - `metaphone`\n",
    "    - `levenshtein`\n",
    "    - **NOTE**: Depending on which function you use, you may still need to include logic to handle edge cases (e.g. use `CASE` for certain mispelled locations that don't match up well with the correct spelling)\n",
    "\n",
    "You can choose to do this question in whatever manner you wish as long as your query does **not** use `CREATE TABLE`, `INSERT INTO`, or `UPDATE`.\n",
    "\n",
    "Your table header should look like this:\n",
    "\n",
    "| building_name | address | location | clean_location |\n",
    "| :--- | :--- | :--- | :--- |"
   ]
  },
  {
   "cell_type": "code",
   "execution_count": 75,
   "metadata": {
    "scrolled": true,
    "tags": [
     "otter_answer_cell"
    ]
   },
   "outputs": [
    {
     "data": {
      "text/html": [
       "<div>\n",
       "<style scoped>\n",
       "    .dataframe tbody tr th:only-of-type {\n",
       "        vertical-align: middle;\n",
       "    }\n",
       "\n",
       "    .dataframe tbody tr th {\n",
       "        vertical-align: top;\n",
       "    }\n",
       "\n",
       "    .dataframe thead th {\n",
       "        text-align: right;\n",
       "    }\n",
       "</style>\n",
       "<table border=\"1\" class=\"dataframe\">\n",
       "  <thead>\n",
       "    <tr style=\"text-align: right;\">\n",
       "      <th></th>\n",
       "      <th>building_name</th>\n",
       "      <th>address</th>\n",
       "      <th>location</th>\n",
       "      <th>clean_location</th>\n",
       "    </tr>\n",
       "  </thead>\n",
       "  <tbody>\n",
       "    <tr>\n",
       "      <th>0</th>\n",
       "      <td>CLEARY</td>\n",
       "      <td>2424 CHANNING</td>\n",
       "      <td>BERKELEY</td>\n",
       "      <td>BERKELEY</td>\n",
       "    </tr>\n",
       "    <tr>\n",
       "      <th>1</th>\n",
       "      <td>WALNUT19 25</td>\n",
       "      <td>1925 WALNUT</td>\n",
       "      <td>BERKELEY</td>\n",
       "      <td>BERKELEY</td>\n",
       "    </tr>\n",
       "    <tr>\n",
       "      <th>2</th>\n",
       "      <td>ERCHLDE DCNTR</td>\n",
       "      <td>2339 HASTE</td>\n",
       "      <td>BERKELEY</td>\n",
       "      <td>BERKELEY</td>\n",
       "    </tr>\n",
       "    <tr>\n",
       "      <th>3</th>\n",
       "      <td>MRI MODLR II</td>\n",
       "      <td>CORE 2C1A5M4P-6U0S</td>\n",
       "      <td>BERKELEY</td>\n",
       "      <td>BERKELEY</td>\n",
       "    </tr>\n",
       "    <tr>\n",
       "      <th>4</th>\n",
       "      <td>UNIV 2154- 60</td>\n",
       "      <td>UNIVERSIT 2Y55</td>\n",
       "      <td>BERKELEY</td>\n",
       "      <td>BERKELEY</td>\n",
       "    </tr>\n",
       "    <tr>\n",
       "      <th>...</th>\n",
       "      <td>...</td>\n",
       "      <td>...</td>\n",
       "      <td>...</td>\n",
       "      <td>...</td>\n",
       "    </tr>\n",
       "    <tr>\n",
       "      <th>5271</th>\n",
       "      <td>WS 314 HOUSE</td>\n",
       "      <td>OAKLAND 1A7V3E53 W</td>\n",
       "      <td>AG FIELD STAT</td>\n",
       "      <td>AG FIELD STAT</td>\n",
       "    </tr>\n",
       "    <tr>\n",
       "      <th>5272</th>\n",
       "      <td>WS 315 HOUSE</td>\n",
       "      <td>OAKLAND 1A7V3E53 W</td>\n",
       "      <td>AG FIELD STAT</td>\n",
       "      <td>AG FIELD STAT</td>\n",
       "    </tr>\n",
       "    <tr>\n",
       "      <th>5273</th>\n",
       "      <td>WS 316 HOUSE</td>\n",
       "      <td>OAKLAND 1A7V3E53 W</td>\n",
       "      <td>AG FIELD STAT</td>\n",
       "      <td>AG FIELD STAT</td>\n",
       "    </tr>\n",
       "    <tr>\n",
       "      <th>5274</th>\n",
       "      <td>WS 317 WHOSUSE</td>\n",
       "      <td>OAKLAND A17V3E53 W</td>\n",
       "      <td>AG FIELD STAT</td>\n",
       "      <td>AG FIELD STAT</td>\n",
       "    </tr>\n",
       "    <tr>\n",
       "      <th>5275</th>\n",
       "      <td>GREENHS E2</td>\n",
       "      <td>OAKLAND AVE</td>\n",
       "      <td>AG FIELD STAT</td>\n",
       "      <td>AG FIELD STAT</td>\n",
       "    </tr>\n",
       "  </tbody>\n",
       "</table>\n",
       "<p>5276 rows × 4 columns</p>\n",
       "</div>"
      ],
      "text/plain": [
       "       building_name             address       location clean_location\n",
       "0             CLEARY       2424 CHANNING       BERKELEY       BERKELEY\n",
       "1        WALNUT19 25         1925 WALNUT       BERKELEY       BERKELEY\n",
       "2      ERCHLDE DCNTR          2339 HASTE       BERKELEY       BERKELEY\n",
       "3       MRI MODLR II  CORE 2C1A5M4P-6U0S       BERKELEY       BERKELEY\n",
       "4      UNIV 2154- 60      UNIVERSIT 2Y55       BERKELEY       BERKELEY\n",
       "...              ...                 ...            ...            ...\n",
       "5271    WS 314 HOUSE  OAKLAND 1A7V3E53 W  AG FIELD STAT  AG FIELD STAT\n",
       "5272    WS 315 HOUSE  OAKLAND 1A7V3E53 W  AG FIELD STAT  AG FIELD STAT\n",
       "5273    WS 316 HOUSE  OAKLAND 1A7V3E53 W  AG FIELD STAT  AG FIELD STAT\n",
       "5274  WS 317 WHOSUSE  OAKLAND A17V3E53 W  AG FIELD STAT  AG FIELD STAT\n",
       "5275      GREENHS E2         OAKLAND AVE  AG FIELD STAT  AG FIELD STAT\n",
       "\n",
       "[5276 rows x 4 columns]"
      ]
     },
     "execution_count": 75,
     "metadata": {},
     "output_type": "execute_result"
    }
   ],
   "source": [
    "result_3e = grading_util.run_file(\"3e\")\n",
    "grading_util.save_results(\"result_3e\", result_3e)\n",
    "result_3e"
   ]
  },
  {
   "cell_type": "code",
   "execution_count": 76,
   "metadata": {
    "tags": [
     "otter_answer_cell"
    ]
   },
   "outputs": [],
   "source": [
    "result_3e = grading_util.load_results(\"result_3e\")[0]"
   ]
  },
  {
   "cell_type": "code",
   "execution_count": 77,
   "metadata": {
    "deletable": false,
    "editable": false
   },
   "outputs": [
    {
     "data": {
      "text/html": [
       "<p><strong><pre style='display: inline;'>q3e</pre></strong> passed! 💯</p>"
      ],
      "text/plain": [
       "q3e results: All test cases passed!"
      ]
     },
     "execution_count": 77,
     "metadata": {},
     "output_type": "execute_result"
    }
   ],
   "source": [
    "grader.check(\"q3e\")"
   ]
  },
  {
   "cell_type": "markdown",
   "metadata": {},
   "source": [
    "<br/><br/><br/>\n",
    "\n",
    "<hr style=\"border: 5px solid #003262;\" />\n",
    "<hr style=\"border: 1px solid #fdb515;\" />\n",
    "\n",
    "## Question 4: Interpolating Missing Data\n",
    "Real-world data, real-world problems. Our sensors should be reporting every 15 minutes, but you can be sure that we're missing some data. Here, we will fix it. It's a bit more involved than what we looked at in class!\n",
    "\n",
    "### Question 4a: Finding Missing Readings\n",
    "In the `data` table, the `id` column identifies a unique sensor. Sensor readings should be recorded every 15 minutes from every sensor. Are we missing any readings, and if so, which ones? We will focus on readings **from the same sensor** that are separated by at least 30 minutes or more; readings that are 0 (inclusive) to 30 (exclusive) minutes apart are considered to be fine.\n",
    "\n",
    "To answer this question you'll need to read up a bit on [SQL timestamps](https://www.postgresql.org/docs/current/datatype-datetime.html) and [functions for manipulating datetime types](https://www.postgresql.org/docs/current/functions-datetime.html). Taking the time now to look at the documentation will save you time later on. Have a particular look at the following:\n",
    "- The [DATE_TRUNC](https://www.postgresql.org/docs/current/functions-datetime.html#FUNCTIONS-DATETIME-TRUNC) function will quantize times to the nearest unit of your choosing. For example, to round the `time` field to the nearest minute you can say `DATE_TRUNC('minute', time)`. **You'll need to quantize to minutes right away before you worry about missing readings.**\n",
    "- There are various ways to enter constant intervals of time as strings. For example, a 30-minute interval can be written as `INTERVAL '30 minutes'` or `'30 minutes'::INTERVAL`. See [datetime interval inputs](https://www.postgresql.org/docs/current/datatype-datetime.html#DATATYPE-INTERVAL-INPUT) for more info.\n",
    "- You can do arithmetic on datetime types [as documented here](https://www.postgresql.org/docs/current/functions-datetime.html#OPERATORS-DATETIME-TABLE). That will handle all the weird periodicities of clocks and calendars for you. **Pay attention to the input and output types of these functions! Also double check the data types for the columns of the `data` table!**\n",
    "- You will need to use the [LAG](https://www.postgresql.org/docs/current/functions-window.html) window function.\n",
    "\n",
    "Create a view called `gaps` that augments the `data` schema with three columns:\n",
    "\n",
    "- `lag_time` is the quantized time of the previous reading for that sensor (relative to the current row for a particular row)\n",
    "- `lag_value` is the value of the previous reading for that sensor\n",
    "- `time_diff` is the difference in quantized time between this reading and the previous reading\n",
    "\n",
    "**The view should only contain rows where `time_diff` is greater than or equal to 30 minutes**.\n",
    "\n",
    "Your view's column headers should look like this:\n",
    "\n",
    "| id | time | value | lag_time | lag_value | time_diff |\n",
    "| :--- | :--- | :--- | :--- | :--- | :--- |"
   ]
  },
  {
   "cell_type": "markdown",
   "metadata": {},
   "source": [
    "\n"
   ]
  },
  {
   "cell_type": "code",
   "execution_count": 78,
   "metadata": {
    "tags": [
     "otter_answer_cell"
    ]
   },
   "outputs": [
    {
     "data": {
      "text/html": [
       "<div>\n",
       "<style scoped>\n",
       "    .dataframe tbody tr th:only-of-type {\n",
       "        vertical-align: middle;\n",
       "    }\n",
       "\n",
       "    .dataframe tbody tr th {\n",
       "        vertical-align: top;\n",
       "    }\n",
       "\n",
       "    .dataframe thead th {\n",
       "        text-align: right;\n",
       "    }\n",
       "</style>\n",
       "<table border=\"1\" class=\"dataframe\">\n",
       "  <thead>\n",
       "    <tr style=\"text-align: right;\">\n",
       "      <th></th>\n",
       "      <th>id</th>\n",
       "      <th>time</th>\n",
       "      <th>value</th>\n",
       "      <th>lag_time</th>\n",
       "      <th>lag_value</th>\n",
       "      <th>time_diff</th>\n",
       "    </tr>\n",
       "  </thead>\n",
       "  <tbody>\n",
       "    <tr>\n",
       "      <th>0</th>\n",
       "      <td>a3d47b1a-985e-5395-a6ee-719dad9b580f</td>\n",
       "      <td>2018-06-13 09:15:00+00:00</td>\n",
       "      <td>0.056</td>\n",
       "      <td>2018-06-13 08:45:00+00:00</td>\n",
       "      <td>0.056</td>\n",
       "      <td>0 days 00:30:00</td>\n",
       "    </tr>\n",
       "    <tr>\n",
       "      <th>1</th>\n",
       "      <td>a3e8e405-0eed-59b6-8747-fe892a6f93de</td>\n",
       "      <td>2018-06-09 04:15:00+00:00</td>\n",
       "      <td>280.800</td>\n",
       "      <td>2018-06-09 03:45:00+00:00</td>\n",
       "      <td>281.600</td>\n",
       "      <td>0 days 00:30:00</td>\n",
       "    </tr>\n",
       "    <tr>\n",
       "      <th>2</th>\n",
       "      <td>a46fb790-028c-5d17-a3e6-7d08daec0c03</td>\n",
       "      <td>2018-06-13 09:15:00+00:00</td>\n",
       "      <td>281.460</td>\n",
       "      <td>2018-06-13 08:45:00+00:00</td>\n",
       "      <td>281.390</td>\n",
       "      <td>0 days 00:30:00</td>\n",
       "    </tr>\n",
       "    <tr>\n",
       "      <th>3</th>\n",
       "      <td>a470ac6d-d448-522b-9b74-8ed27f24de25</td>\n",
       "      <td>2018-06-09 04:15:00+00:00</td>\n",
       "      <td>0.004</td>\n",
       "      <td>2018-06-09 03:45:00+00:00</td>\n",
       "      <td>0.006</td>\n",
       "      <td>0 days 00:30:00</td>\n",
       "    </tr>\n",
       "    <tr>\n",
       "      <th>4</th>\n",
       "      <td>a48e47ab-bbcd-5b39-aaaa-47fbaafe166e</td>\n",
       "      <td>2018-06-07 00:45:00+00:00</td>\n",
       "      <td>27.273</td>\n",
       "      <td>2018-06-07 00:15:00+00:00</td>\n",
       "      <td>30.000</td>\n",
       "      <td>0 days 00:30:00</td>\n",
       "    </tr>\n",
       "    <tr>\n",
       "      <th>...</th>\n",
       "      <td>...</td>\n",
       "      <td>...</td>\n",
       "      <td>...</td>\n",
       "      <td>...</td>\n",
       "      <td>...</td>\n",
       "      <td>...</td>\n",
       "    </tr>\n",
       "    <tr>\n",
       "      <th>766</th>\n",
       "      <td>a842919a-dcd1-5d91-b1df-f70c988cabfe</td>\n",
       "      <td>2018-06-13 08:15:00+00:00</td>\n",
       "      <td>5.400</td>\n",
       "      <td>2018-06-13 07:45:00+00:00</td>\n",
       "      <td>0.012</td>\n",
       "      <td>0 days 00:30:00</td>\n",
       "    </tr>\n",
       "    <tr>\n",
       "      <th>767</th>\n",
       "      <td>a842919a-dcd1-5d91-b1df-f70c988cabfe</td>\n",
       "      <td>2018-06-13 13:00:00+00:00</td>\n",
       "      <td>5.400</td>\n",
       "      <td>2018-06-13 08:15:00+00:00</td>\n",
       "      <td>5.400</td>\n",
       "      <td>0 days 04:45:00</td>\n",
       "    </tr>\n",
       "    <tr>\n",
       "      <th>768</th>\n",
       "      <td>a842919a-dcd1-5d91-b1df-f70c988cabfe</td>\n",
       "      <td>2018-06-13 14:30:00+00:00</td>\n",
       "      <td>2.700</td>\n",
       "      <td>2018-06-13 13:00:00+00:00</td>\n",
       "      <td>5.400</td>\n",
       "      <td>0 days 01:30:00</td>\n",
       "    </tr>\n",
       "    <tr>\n",
       "      <th>769</th>\n",
       "      <td>a8d640b1-c17f-51cf-b06f-de6e704e87c1</td>\n",
       "      <td>2018-06-13 09:15:00+00:00</td>\n",
       "      <td>106.000</td>\n",
       "      <td>2018-06-13 08:45:00+00:00</td>\n",
       "      <td>106.000</td>\n",
       "      <td>0 days 00:30:00</td>\n",
       "    </tr>\n",
       "    <tr>\n",
       "      <th>770</th>\n",
       "      <td>aa6d2954-2a1f-5a86-9bb2-69ad7326789e</td>\n",
       "      <td>2018-06-13 09:15:00+00:00</td>\n",
       "      <td>286.700</td>\n",
       "      <td>2018-06-13 08:45:00+00:00</td>\n",
       "      <td>286.700</td>\n",
       "      <td>0 days 00:30:00</td>\n",
       "    </tr>\n",
       "  </tbody>\n",
       "</table>\n",
       "<p>771 rows × 6 columns</p>\n",
       "</div>"
      ],
      "text/plain": [
       "                                       id                      time    value  \\\n",
       "0    a3d47b1a-985e-5395-a6ee-719dad9b580f 2018-06-13 09:15:00+00:00    0.056   \n",
       "1    a3e8e405-0eed-59b6-8747-fe892a6f93de 2018-06-09 04:15:00+00:00  280.800   \n",
       "2    a46fb790-028c-5d17-a3e6-7d08daec0c03 2018-06-13 09:15:00+00:00  281.460   \n",
       "3    a470ac6d-d448-522b-9b74-8ed27f24de25 2018-06-09 04:15:00+00:00    0.004   \n",
       "4    a48e47ab-bbcd-5b39-aaaa-47fbaafe166e 2018-06-07 00:45:00+00:00   27.273   \n",
       "..                                    ...                       ...      ...   \n",
       "766  a842919a-dcd1-5d91-b1df-f70c988cabfe 2018-06-13 08:15:00+00:00    5.400   \n",
       "767  a842919a-dcd1-5d91-b1df-f70c988cabfe 2018-06-13 13:00:00+00:00    5.400   \n",
       "768  a842919a-dcd1-5d91-b1df-f70c988cabfe 2018-06-13 14:30:00+00:00    2.700   \n",
       "769  a8d640b1-c17f-51cf-b06f-de6e704e87c1 2018-06-13 09:15:00+00:00  106.000   \n",
       "770  aa6d2954-2a1f-5a86-9bb2-69ad7326789e 2018-06-13 09:15:00+00:00  286.700   \n",
       "\n",
       "                     lag_time  lag_value       time_diff  \n",
       "0   2018-06-13 08:45:00+00:00      0.056 0 days 00:30:00  \n",
       "1   2018-06-09 03:45:00+00:00    281.600 0 days 00:30:00  \n",
       "2   2018-06-13 08:45:00+00:00    281.390 0 days 00:30:00  \n",
       "3   2018-06-09 03:45:00+00:00      0.006 0 days 00:30:00  \n",
       "4   2018-06-07 00:15:00+00:00     30.000 0 days 00:30:00  \n",
       "..                        ...        ...             ...  \n",
       "766 2018-06-13 07:45:00+00:00      0.012 0 days 00:30:00  \n",
       "767 2018-06-13 08:15:00+00:00      5.400 0 days 04:45:00  \n",
       "768 2018-06-13 13:00:00+00:00      5.400 0 days 01:30:00  \n",
       "769 2018-06-13 08:45:00+00:00    106.000 0 days 00:30:00  \n",
       "770 2018-06-13 08:45:00+00:00    286.700 0 days 00:30:00  \n",
       "\n",
       "[771 rows x 6 columns]"
      ]
     },
     "execution_count": 78,
     "metadata": {},
     "output_type": "execute_result"
    }
   ],
   "source": [
    "result_4a = grading_util.run_file(\"4a\")[2]\n",
    "grading_util.save_results(\"result_4a\", result_4a)\n",
    "result_4a"
   ]
  },
  {
   "cell_type": "code",
   "execution_count": 79,
   "metadata": {
    "tags": [
     "otter_answer_cell"
    ]
   },
   "outputs": [],
   "source": [
    "result_4a = grading_util.load_results(\"result_4a\")[0]"
   ]
  },
  {
   "cell_type": "code",
   "execution_count": 80,
   "metadata": {
    "deletable": false,
    "editable": false
   },
   "outputs": [
    {
     "data": {
      "text/html": [
       "<p><strong><pre style='display: inline;'>q4a</pre></strong> passed! 💯</p>"
      ],
      "text/plain": [
       "q4a results: All test cases passed!"
      ]
     },
     "execution_count": 80,
     "metadata": {},
     "output_type": "execute_result"
    }
   ],
   "source": [
    "grader.check(\"q4a\")"
   ]
  },
  {
   "cell_type": "markdown",
   "metadata": {},
   "source": [
    "### Question 4b: Creating tuples for missing readings\n",
    "Now, we need to manufacture new tuples to fill in the gaps. For example, if you had one tuple with an `id` of `abc` timestamped at 1:00 PM and the next tuple with an `id` of `abc` timestamped at 1:45 PM, you'll need to manufacture two new tuples containing both an `id` of `abc` as well as `NULL` values — one tuple should be timestamped at 1:15 PM and the other at 1:30 PM. We will worry about replacing the `NULL` values in the next step.\n",
    "\n",
    "To manufacture tuples not related to stored data in the database, we'll need to use a *table-valued function*. The table-valued function we want here is `GENERATE_SERIES` [(documented here)](https://www.postgresql.org/docs/current/functions-srf.html), which we will use to generate *and sequentially timestamp* the right number of tuples to match the number of tuples we found missing.\n",
    "\n",
    "To get a feel for `GENERATE_SERIES`, consider the following simple query that generates a table of integers with intervals of size three between them. (This is similar to how the `range` function in Python works, except the `stop` parameter is inclusive.)"
   ]
  },
  {
   "cell_type": "code",
   "execution_count": 81,
   "metadata": {},
   "outputs": [
    {
     "data": {
      "text/html": [
       "<div>\n",
       "<style scoped>\n",
       "    .dataframe tbody tr th:only-of-type {\n",
       "        vertical-align: middle;\n",
       "    }\n",
       "\n",
       "    .dataframe tbody tr th {\n",
       "        vertical-align: top;\n",
       "    }\n",
       "\n",
       "    .dataframe thead th {\n",
       "        text-align: right;\n",
       "    }\n",
       "</style>\n",
       "<table border=\"1\" class=\"dataframe\">\n",
       "  <thead>\n",
       "    <tr style=\"text-align: right;\">\n",
       "      <th></th>\n",
       "      <th>generate_series</th>\n",
       "    </tr>\n",
       "  </thead>\n",
       "  <tbody>\n",
       "    <tr>\n",
       "      <th>0</th>\n",
       "      <td>1</td>\n",
       "    </tr>\n",
       "    <tr>\n",
       "      <th>1</th>\n",
       "      <td>4</td>\n",
       "    </tr>\n",
       "    <tr>\n",
       "      <th>2</th>\n",
       "      <td>7</td>\n",
       "    </tr>\n",
       "    <tr>\n",
       "      <th>3</th>\n",
       "      <td>10</td>\n",
       "    </tr>\n",
       "  </tbody>\n",
       "</table>\n",
       "</div>"
      ],
      "text/plain": [
       "   generate_series\n",
       "0                1\n",
       "1                4\n",
       "2                7\n",
       "3               10"
      ]
     },
     "execution_count": 81,
     "metadata": {},
     "output_type": "execute_result"
    }
   ],
   "source": [
    "grading_util.run_sql(\"\"\"\n",
    "SELECT *\n",
    "FROM GENERATE_SERIES(1, 10, 3);\n",
    "\"\"\")"
   ]
  },
  {
   "cell_type": "markdown",
   "metadata": {},
   "source": [
    "**YOUR TASK:** Create a view `complete` that contains the tuples from `data` as well as new tuples that fill in any gaps greater than or equal to 30 minutes. Each gap should be filled by adding tuples in increments of 15 minutes from the *start* of the gap, **with `NULL` as the fill value**. You probably want to use your `gaps` view (from Q4a) as well as `GENERATE_SERIES` to do this!\n",
    "\n",
    "**Hints:** \n",
    "- The lower and upper bounds in `GENERATE_SERIES` (in pseudocode) should be `lag_time + 15 minutes` and `time - 15 minutes`, respectively.\n",
    "- You may want to use `UNION ALL` to combine your the set of rows that were generated and the existing rows in `data`\n",
    "\n",
    "Your table header should look like this:\n",
    "\n",
    "| id | time | value |\n",
    "| :--- | :--- | :--- |"
   ]
  },
  {
   "cell_type": "code",
   "execution_count": 82,
   "metadata": {},
   "outputs": [
    {
     "data": {
      "text/html": [
       "<div>\n",
       "<style scoped>\n",
       "    .dataframe tbody tr th:only-of-type {\n",
       "        vertical-align: middle;\n",
       "    }\n",
       "\n",
       "    .dataframe tbody tr th {\n",
       "        vertical-align: top;\n",
       "    }\n",
       "\n",
       "    .dataframe thead th {\n",
       "        text-align: right;\n",
       "    }\n",
       "</style>\n",
       "<table border=\"1\" class=\"dataframe\">\n",
       "  <thead>\n",
       "    <tr style=\"text-align: right;\">\n",
       "      <th></th>\n",
       "      <th>id</th>\n",
       "      <th>time</th>\n",
       "      <th>value</th>\n",
       "      <th>lag_time</th>\n",
       "      <th>lag_value</th>\n",
       "      <th>time_diff</th>\n",
       "    </tr>\n",
       "  </thead>\n",
       "  <tbody>\n",
       "    <tr>\n",
       "      <th>0</th>\n",
       "      <td>a3d47b1a-985e-5395-a6ee-719dad9b580f</td>\n",
       "      <td>2018-06-13 09:15:00+00:00</td>\n",
       "      <td>0.056</td>\n",
       "      <td>2018-06-13 08:45:00+00:00</td>\n",
       "      <td>0.056</td>\n",
       "      <td>0 days 00:30:00</td>\n",
       "    </tr>\n",
       "    <tr>\n",
       "      <th>1</th>\n",
       "      <td>a3e8e405-0eed-59b6-8747-fe892a6f93de</td>\n",
       "      <td>2018-06-09 04:15:00+00:00</td>\n",
       "      <td>280.800</td>\n",
       "      <td>2018-06-09 03:45:00+00:00</td>\n",
       "      <td>281.600</td>\n",
       "      <td>0 days 00:30:00</td>\n",
       "    </tr>\n",
       "    <tr>\n",
       "      <th>2</th>\n",
       "      <td>a46fb790-028c-5d17-a3e6-7d08daec0c03</td>\n",
       "      <td>2018-06-13 09:15:00+00:00</td>\n",
       "      <td>281.460</td>\n",
       "      <td>2018-06-13 08:45:00+00:00</td>\n",
       "      <td>281.390</td>\n",
       "      <td>0 days 00:30:00</td>\n",
       "    </tr>\n",
       "    <tr>\n",
       "      <th>3</th>\n",
       "      <td>a470ac6d-d448-522b-9b74-8ed27f24de25</td>\n",
       "      <td>2018-06-09 04:15:00+00:00</td>\n",
       "      <td>0.004</td>\n",
       "      <td>2018-06-09 03:45:00+00:00</td>\n",
       "      <td>0.006</td>\n",
       "      <td>0 days 00:30:00</td>\n",
       "    </tr>\n",
       "    <tr>\n",
       "      <th>4</th>\n",
       "      <td>a48e47ab-bbcd-5b39-aaaa-47fbaafe166e</td>\n",
       "      <td>2018-06-07 00:45:00+00:00</td>\n",
       "      <td>27.273</td>\n",
       "      <td>2018-06-07 00:15:00+00:00</td>\n",
       "      <td>30.000</td>\n",
       "      <td>0 days 00:30:00</td>\n",
       "    </tr>\n",
       "  </tbody>\n",
       "</table>\n",
       "</div>"
      ],
      "text/plain": [
       "                                     id                      time    value  \\\n",
       "0  a3d47b1a-985e-5395-a6ee-719dad9b580f 2018-06-13 09:15:00+00:00    0.056   \n",
       "1  a3e8e405-0eed-59b6-8747-fe892a6f93de 2018-06-09 04:15:00+00:00  280.800   \n",
       "2  a46fb790-028c-5d17-a3e6-7d08daec0c03 2018-06-13 09:15:00+00:00  281.460   \n",
       "3  a470ac6d-d448-522b-9b74-8ed27f24de25 2018-06-09 04:15:00+00:00    0.004   \n",
       "4  a48e47ab-bbcd-5b39-aaaa-47fbaafe166e 2018-06-07 00:45:00+00:00   27.273   \n",
       "\n",
       "                   lag_time  lag_value       time_diff  \n",
       "0 2018-06-13 08:45:00+00:00      0.056 0 days 00:30:00  \n",
       "1 2018-06-09 03:45:00+00:00    281.600 0 days 00:30:00  \n",
       "2 2018-06-13 08:45:00+00:00    281.390 0 days 00:30:00  \n",
       "3 2018-06-09 03:45:00+00:00      0.006 0 days 00:30:00  \n",
       "4 2018-06-07 00:15:00+00:00     30.000 0 days 00:30:00  "
      ]
     },
     "execution_count": 82,
     "metadata": {},
     "output_type": "execute_result"
    }
   ],
   "source": [
    "grading_util.run_sql(\"\"\"\n",
    "SELECT * FROM gaps LIMIT 5;\n",
    "\"\"\")\n",
    "\n"
   ]
  },
  {
   "cell_type": "code",
   "execution_count": 83,
   "metadata": {},
   "outputs": [
    {
     "data": {
      "text/plain": [
       "[None,\n",
       "                                       id                      time     value\n",
       " 0   a3d3326f-20ab-5f1d-97c7-f3084df43f06 2018-06-07 00:00:09+00:00  65085.99\n",
       " 1   a3d3326f-20ab-5f1d-97c7-f3084df43f06 2018-06-07 00:15:09+00:00  65086.16\n",
       " 2   a3d3326f-20ab-5f1d-97c7-f3084df43f06 2018-06-07 00:30:09+00:00  65086.35\n",
       " 3   a3d3326f-20ab-5f1d-97c7-f3084df43f06 2018-06-07 00:45:09+00:00  65086.52\n",
       " 4   a3d3326f-20ab-5f1d-97c7-f3084df43f06 2018-06-07 01:00:09+00:00  65086.71\n",
       " ..                                   ...                       ...       ...\n",
       " 95  a3d3326f-20ab-5f1d-97c7-f3084df43f06 2018-06-07 23:45:09+00:00  65100.44\n",
       " 96  a3d3326f-20ab-5f1d-97c7-f3084df43f06 2018-06-08 00:00:09+00:00  65100.63\n",
       " 97  a3d3326f-20ab-5f1d-97c7-f3084df43f06 2018-06-08 00:15:09+00:00  65100.80\n",
       " 98  a3d3326f-20ab-5f1d-97c7-f3084df43f06 2018-06-08 00:30:09+00:00  65100.97\n",
       " 99  a3d3326f-20ab-5f1d-97c7-f3084df43f06 2018-06-08 00:45:09+00:00  65101.16\n",
       " \n",
       " [100 rows x 3 columns]]"
      ]
     },
     "execution_count": 83,
     "metadata": {},
     "output_type": "execute_result"
    }
   ],
   "source": [
    "result_4b = grading_util.run_file(\"4b\")\n",
    "result_4b\n"
   ]
  },
  {
   "cell_type": "code",
   "execution_count": 84,
   "metadata": {
    "scrolled": true,
    "tags": [
     "otter_answer_cell"
    ]
   },
   "outputs": [
    {
     "data": {
      "text/html": [
       "<div>\n",
       "<style scoped>\n",
       "    .dataframe tbody tr th:only-of-type {\n",
       "        vertical-align: middle;\n",
       "    }\n",
       "\n",
       "    .dataframe tbody tr th {\n",
       "        vertical-align: top;\n",
       "    }\n",
       "\n",
       "    .dataframe thead th {\n",
       "        text-align: right;\n",
       "    }\n",
       "</style>\n",
       "<table border=\"1\" class=\"dataframe\">\n",
       "  <thead>\n",
       "    <tr style=\"text-align: right;\">\n",
       "      <th></th>\n",
       "      <th>id</th>\n",
       "      <th>time</th>\n",
       "      <th>value</th>\n",
       "    </tr>\n",
       "  </thead>\n",
       "  <tbody>\n",
       "    <tr>\n",
       "      <th>0</th>\n",
       "      <td>a3d3326f-20ab-5f1d-97c7-f3084df43f06</td>\n",
       "      <td>2018-06-07 00:00:09+00:00</td>\n",
       "      <td>65085.99</td>\n",
       "    </tr>\n",
       "    <tr>\n",
       "      <th>1</th>\n",
       "      <td>a3d3326f-20ab-5f1d-97c7-f3084df43f06</td>\n",
       "      <td>2018-06-07 00:15:09+00:00</td>\n",
       "      <td>65086.16</td>\n",
       "    </tr>\n",
       "    <tr>\n",
       "      <th>2</th>\n",
       "      <td>a3d3326f-20ab-5f1d-97c7-f3084df43f06</td>\n",
       "      <td>2018-06-07 00:30:09+00:00</td>\n",
       "      <td>65086.35</td>\n",
       "    </tr>\n",
       "    <tr>\n",
       "      <th>3</th>\n",
       "      <td>a3d3326f-20ab-5f1d-97c7-f3084df43f06</td>\n",
       "      <td>2018-06-07 00:45:09+00:00</td>\n",
       "      <td>65086.52</td>\n",
       "    </tr>\n",
       "    <tr>\n",
       "      <th>4</th>\n",
       "      <td>a3d3326f-20ab-5f1d-97c7-f3084df43f06</td>\n",
       "      <td>2018-06-07 01:00:09+00:00</td>\n",
       "      <td>65086.71</td>\n",
       "    </tr>\n",
       "    <tr>\n",
       "      <th>...</th>\n",
       "      <td>...</td>\n",
       "      <td>...</td>\n",
       "      <td>...</td>\n",
       "    </tr>\n",
       "    <tr>\n",
       "      <th>95</th>\n",
       "      <td>a3d3326f-20ab-5f1d-97c7-f3084df43f06</td>\n",
       "      <td>2018-06-07 23:45:09+00:00</td>\n",
       "      <td>65100.44</td>\n",
       "    </tr>\n",
       "    <tr>\n",
       "      <th>96</th>\n",
       "      <td>a3d3326f-20ab-5f1d-97c7-f3084df43f06</td>\n",
       "      <td>2018-06-08 00:00:09+00:00</td>\n",
       "      <td>65100.63</td>\n",
       "    </tr>\n",
       "    <tr>\n",
       "      <th>97</th>\n",
       "      <td>a3d3326f-20ab-5f1d-97c7-f3084df43f06</td>\n",
       "      <td>2018-06-08 00:15:09+00:00</td>\n",
       "      <td>65100.80</td>\n",
       "    </tr>\n",
       "    <tr>\n",
       "      <th>98</th>\n",
       "      <td>a3d3326f-20ab-5f1d-97c7-f3084df43f06</td>\n",
       "      <td>2018-06-08 00:30:09+00:00</td>\n",
       "      <td>65100.97</td>\n",
       "    </tr>\n",
       "    <tr>\n",
       "      <th>99</th>\n",
       "      <td>a3d3326f-20ab-5f1d-97c7-f3084df43f06</td>\n",
       "      <td>2018-06-08 00:45:09+00:00</td>\n",
       "      <td>65101.16</td>\n",
       "    </tr>\n",
       "  </tbody>\n",
       "</table>\n",
       "<p>100 rows × 3 columns</p>\n",
       "</div>"
      ],
      "text/plain": [
       "                                      id                      time     value\n",
       "0   a3d3326f-20ab-5f1d-97c7-f3084df43f06 2018-06-07 00:00:09+00:00  65085.99\n",
       "1   a3d3326f-20ab-5f1d-97c7-f3084df43f06 2018-06-07 00:15:09+00:00  65086.16\n",
       "2   a3d3326f-20ab-5f1d-97c7-f3084df43f06 2018-06-07 00:30:09+00:00  65086.35\n",
       "3   a3d3326f-20ab-5f1d-97c7-f3084df43f06 2018-06-07 00:45:09+00:00  65086.52\n",
       "4   a3d3326f-20ab-5f1d-97c7-f3084df43f06 2018-06-07 01:00:09+00:00  65086.71\n",
       "..                                   ...                       ...       ...\n",
       "95  a3d3326f-20ab-5f1d-97c7-f3084df43f06 2018-06-07 23:45:09+00:00  65100.44\n",
       "96  a3d3326f-20ab-5f1d-97c7-f3084df43f06 2018-06-08 00:00:09+00:00  65100.63\n",
       "97  a3d3326f-20ab-5f1d-97c7-f3084df43f06 2018-06-08 00:15:09+00:00  65100.80\n",
       "98  a3d3326f-20ab-5f1d-97c7-f3084df43f06 2018-06-08 00:30:09+00:00  65100.97\n",
       "99  a3d3326f-20ab-5f1d-97c7-f3084df43f06 2018-06-08 00:45:09+00:00  65101.16\n",
       "\n",
       "[100 rows x 3 columns]"
      ]
     },
     "execution_count": 84,
     "metadata": {},
     "output_type": "execute_result"
    }
   ],
   "source": [
    "result_4b = grading_util.run_file(\"4b\")[1]\n",
    "grading_util.save_results(\"result_4b\", result_4b)\n",
    "result_4b"
   ]
  },
  {
   "cell_type": "code",
   "execution_count": 85,
   "metadata": {
    "tags": [
     "otter_answer_cell"
    ]
   },
   "outputs": [],
   "source": [
    "result_4b = grading_util.load_results(\"result_4b\")[0]"
   ]
  },
  {
   "cell_type": "code",
   "execution_count": 86,
   "metadata": {
    "deletable": false,
    "editable": false
   },
   "outputs": [
    {
     "data": {
      "text/html": [
       "<p><strong><pre style='display: inline;'>q4b</pre></strong> passed! 🍀</p>"
      ],
      "text/plain": [
       "q4b results: All test cases passed!"
      ]
     },
     "execution_count": 86,
     "metadata": {},
     "output_type": "execute_result"
    }
   ],
   "source": [
    "grader.check(\"q4b\")"
   ]
  },
  {
   "cell_type": "markdown",
   "metadata": {},
   "source": [
    "### Question 4c: Linear Interpolation\n",
    "*Note: If you struggled with the previous subparts of this problem, you can use our table `complete_provided` instead of your `complete` view in this subpart.*\n",
    "\n",
    "Now, given the `complete` view or the `complete_provided` table, your remaining task is to perform linear interpolation to fill in the missing values we manufactured in Q4b. We have code from the Data Preparation IV lecture that we can adapt from and use here! In particular, your database already includes the UDA (User-Defined Aggregate) `COALESCE_AGG` that we used in [lecture](https://docs.google.com/presentation/d/1s9FF9FrkQ4gu_1fg8UtaY-58FMvpkKJ-801bYly_1M8/edit#slide=id.g33c915dd0c9_0_3) (you can use it directly, there's no need to redefine it).\n",
    "\n",
    "Below is an example usage of `COALESCE_AGG`, which is used to create `run_start`."
   ]
  },
  {
   "cell_type": "code",
   "execution_count": 87,
   "metadata": {},
   "outputs": [
    {
     "data": {
      "text/html": [
       "<div>\n",
       "<style scoped>\n",
       "    .dataframe tbody tr th:only-of-type {\n",
       "        vertical-align: middle;\n",
       "    }\n",
       "\n",
       "    .dataframe tbody tr th {\n",
       "        vertical-align: top;\n",
       "    }\n",
       "\n",
       "    .dataframe thead th {\n",
       "        text-align: right;\n",
       "    }\n",
       "</style>\n",
       "<table border=\"1\" class=\"dataframe\">\n",
       "  <thead>\n",
       "    <tr style=\"text-align: right;\">\n",
       "      <th></th>\n",
       "      <th>run_start</th>\n",
       "    </tr>\n",
       "  </thead>\n",
       "  <tbody>\n",
       "    <tr>\n",
       "      <th>0</th>\n",
       "      <td>1</td>\n",
       "    </tr>\n",
       "    <tr>\n",
       "      <th>1</th>\n",
       "      <td>2</td>\n",
       "    </tr>\n",
       "    <tr>\n",
       "      <th>2</th>\n",
       "      <td>2</td>\n",
       "    </tr>\n",
       "    <tr>\n",
       "      <th>3</th>\n",
       "      <td>2</td>\n",
       "    </tr>\n",
       "    <tr>\n",
       "      <th>4</th>\n",
       "      <td>3</td>\n",
       "    </tr>\n",
       "    <tr>\n",
       "      <th>5</th>\n",
       "      <td>3</td>\n",
       "    </tr>\n",
       "    <tr>\n",
       "      <th>6</th>\n",
       "      <td>4</td>\n",
       "    </tr>\n",
       "  </tbody>\n",
       "</table>\n",
       "</div>"
      ],
      "text/plain": [
       "   run_start\n",
       "0          1\n",
       "1          2\n",
       "2          2\n",
       "3          2\n",
       "4          3\n",
       "5          3\n",
       "6          4"
      ]
     },
     "execution_count": 87,
     "metadata": {},
     "output_type": "execute_result"
    }
   ],
   "source": [
    "coalesce_agg_result = grading_util.run_sql(\"\"\"\n",
    "CREATE TABLE temp (\n",
    "    id INTEGER,\n",
    "    num INTEGER\n",
    ");\n",
    "\n",
    "INSERT INTO temp VALUES\n",
    "    (1, 1),\n",
    "    (2, 2),\n",
    "    (3, NULL),\n",
    "    (4, NULL),\n",
    "    (5, 3),\n",
    "    (6, NULL),\n",
    "    (7, 4);\n",
    "\n",
    "SELECT COALESCE_AGG(num) OVER (ORDER BY id) AS run_start FROM temp;\n",
    "\n",
    "DROP TABLE temp;\n",
    "\"\"\")[2]\n",
    "coalesce_agg_result"
   ]
  },
  {
   "cell_type": "markdown",
   "metadata": {},
   "source": [
    "But note that in the lecture example of linear interpolation, we had a field that was used to order *all* the records in the table. In contrast, the ordering we care about here is the series of `time` for each sensor `id` *independently*. **You will need to make minor changes to adapt the linear interpolation code from class to work here.**\n",
    "\n",
    "Your overall task across the next 3 subparts is to create a view `likely_data` that contains all the tuples from `complete`, with an additional column called `interpolated` that contains a copy of `value` if it is not `NULL`, and otherwise an interpolated value based on linear interpolation **per sensor `id` over time**.\n",
    "\n",
    "To help you accomplish this in parts, we have broken it down for each subpart:\n",
    "\n",
    "1. Q4ci is the forward pass\n",
    "2. Q4cii is the backward pass\n",
    "3. Q4ciii is the final actual interpolation\n",
    "\n",
    "You may reference the [3-pass demo from lecture](https://docs.google.com/presentation/d/1s9FF9FrkQ4gu_1fg8UtaY-58FMvpkKJ-801bYly_1M8/edit#slide=id.g28ba83fdb0d_0_137)."
   ]
  },
  {
   "cell_type": "markdown",
   "metadata": {
    "deletable": false,
    "editable": false
   },
   "source": [
    "#### Question 4ci: Forward Pass\n",
    "\n",
    "Perform the forward pass by creating a view called `forward`. Your table header should look like:\n",
    "\n",
    "| id | time | value | run | run_start | next_val |\n",
    "| :--- | :--- | :--- | :--- | :--- | :--- |\n",
    "\n",
    "**NOTE**: There are no hidden tests for this subpart, but they are not comprehensive. We will comprehensively test your final output in 4ciii."
   ]
  },
  {
   "cell_type": "code",
   "execution_count": 88,
   "metadata": {},
   "outputs": [
    {
     "data": {
      "text/html": [
       "<div>\n",
       "<style scoped>\n",
       "    .dataframe tbody tr th:only-of-type {\n",
       "        vertical-align: middle;\n",
       "    }\n",
       "\n",
       "    .dataframe tbody tr th {\n",
       "        vertical-align: top;\n",
       "    }\n",
       "\n",
       "    .dataframe thead th {\n",
       "        text-align: right;\n",
       "    }\n",
       "</style>\n",
       "<table border=\"1\" class=\"dataframe\">\n",
       "  <thead>\n",
       "    <tr style=\"text-align: right;\">\n",
       "      <th></th>\n",
       "      <th>total_rows</th>\n",
       "      <th>null_rows</th>\n",
       "    </tr>\n",
       "  </thead>\n",
       "  <tbody>\n",
       "    <tr>\n",
       "      <th>0</th>\n",
       "      <td>102386</td>\n",
       "      <td>2386</td>\n",
       "    </tr>\n",
       "  </tbody>\n",
       "</table>\n",
       "</div>"
      ],
      "text/plain": [
       "   total_rows  null_rows\n",
       "0      102386       2386"
      ]
     },
     "execution_count": 88,
     "metadata": {},
     "output_type": "execute_result"
    }
   ],
   "source": [
    "grading_util.run_sql(\"\"\"\n",
    "SELECT COUNT(*) AS total_rows,\n",
    "       COUNT(*) FILTER (WHERE value IS NULL) AS null_rows\n",
    "FROM complete;\n",
    "\"\"\")\n"
   ]
  },
  {
   "cell_type": "code",
   "execution_count": 89,
   "metadata": {},
   "outputs": [
    {
     "data": {
      "text/html": [
       "<div>\n",
       "<style scoped>\n",
       "    .dataframe tbody tr th:only-of-type {\n",
       "        vertical-align: middle;\n",
       "    }\n",
       "\n",
       "    .dataframe tbody tr th {\n",
       "        vertical-align: top;\n",
       "    }\n",
       "\n",
       "    .dataframe thead th {\n",
       "        text-align: right;\n",
       "    }\n",
       "</style>\n",
       "<table border=\"1\" class=\"dataframe\">\n",
       "  <thead>\n",
       "    <tr style=\"text-align: right;\">\n",
       "      <th></th>\n",
       "      <th>id</th>\n",
       "      <th>time</th>\n",
       "      <th>value</th>\n",
       "    </tr>\n",
       "  </thead>\n",
       "  <tbody>\n",
       "    <tr>\n",
       "      <th>0</th>\n",
       "      <td>a3d47b1a-985e-5395-a6ee-719dad9b580f</td>\n",
       "      <td>2018-06-13 09:00:00+00:00</td>\n",
       "      <td>None</td>\n",
       "    </tr>\n",
       "    <tr>\n",
       "      <th>1</th>\n",
       "      <td>a3e8e405-0eed-59b6-8747-fe892a6f93de</td>\n",
       "      <td>2018-06-09 04:00:00+00:00</td>\n",
       "      <td>None</td>\n",
       "    </tr>\n",
       "    <tr>\n",
       "      <th>2</th>\n",
       "      <td>a46fb790-028c-5d17-a3e6-7d08daec0c03</td>\n",
       "      <td>2018-06-13 09:00:00+00:00</td>\n",
       "      <td>None</td>\n",
       "    </tr>\n",
       "    <tr>\n",
       "      <th>3</th>\n",
       "      <td>a470ac6d-d448-522b-9b74-8ed27f24de25</td>\n",
       "      <td>2018-06-09 04:00:00+00:00</td>\n",
       "      <td>None</td>\n",
       "    </tr>\n",
       "    <tr>\n",
       "      <th>4</th>\n",
       "      <td>a48e47ab-bbcd-5b39-aaaa-47fbaafe166e</td>\n",
       "      <td>2018-06-07 00:30:00+00:00</td>\n",
       "      <td>None</td>\n",
       "    </tr>\n",
       "    <tr>\n",
       "      <th>5</th>\n",
       "      <td>a48e47ab-bbcd-5b39-aaaa-47fbaafe166e</td>\n",
       "      <td>2018-06-07 01:15:00+00:00</td>\n",
       "      <td>None</td>\n",
       "    </tr>\n",
       "    <tr>\n",
       "      <th>6</th>\n",
       "      <td>a48e47ab-bbcd-5b39-aaaa-47fbaafe166e</td>\n",
       "      <td>2018-06-07 17:30:00+00:00</td>\n",
       "      <td>None</td>\n",
       "    </tr>\n",
       "    <tr>\n",
       "      <th>7</th>\n",
       "      <td>a48e47ab-bbcd-5b39-aaaa-47fbaafe166e</td>\n",
       "      <td>2018-06-07 18:30:00+00:00</td>\n",
       "      <td>None</td>\n",
       "    </tr>\n",
       "    <tr>\n",
       "      <th>8</th>\n",
       "      <td>a48e47ab-bbcd-5b39-aaaa-47fbaafe166e</td>\n",
       "      <td>2018-06-07 19:00:00+00:00</td>\n",
       "      <td>None</td>\n",
       "    </tr>\n",
       "    <tr>\n",
       "      <th>9</th>\n",
       "      <td>a48e47ab-bbcd-5b39-aaaa-47fbaafe166e</td>\n",
       "      <td>2018-06-07 19:30:00+00:00</td>\n",
       "      <td>None</td>\n",
       "    </tr>\n",
       "  </tbody>\n",
       "</table>\n",
       "</div>"
      ],
      "text/plain": [
       "                                     id                      time value\n",
       "0  a3d47b1a-985e-5395-a6ee-719dad9b580f 2018-06-13 09:00:00+00:00  None\n",
       "1  a3e8e405-0eed-59b6-8747-fe892a6f93de 2018-06-09 04:00:00+00:00  None\n",
       "2  a46fb790-028c-5d17-a3e6-7d08daec0c03 2018-06-13 09:00:00+00:00  None\n",
       "3  a470ac6d-d448-522b-9b74-8ed27f24de25 2018-06-09 04:00:00+00:00  None\n",
       "4  a48e47ab-bbcd-5b39-aaaa-47fbaafe166e 2018-06-07 00:30:00+00:00  None\n",
       "5  a48e47ab-bbcd-5b39-aaaa-47fbaafe166e 2018-06-07 01:15:00+00:00  None\n",
       "6  a48e47ab-bbcd-5b39-aaaa-47fbaafe166e 2018-06-07 17:30:00+00:00  None\n",
       "7  a48e47ab-bbcd-5b39-aaaa-47fbaafe166e 2018-06-07 18:30:00+00:00  None\n",
       "8  a48e47ab-bbcd-5b39-aaaa-47fbaafe166e 2018-06-07 19:00:00+00:00  None\n",
       "9  a48e47ab-bbcd-5b39-aaaa-47fbaafe166e 2018-06-07 19:30:00+00:00  None"
      ]
     },
     "execution_count": 89,
     "metadata": {},
     "output_type": "execute_result"
    }
   ],
   "source": [
    "grading_util.run_sql(\"\"\"\n",
    "SELECT *\n",
    "FROM complete\n",
    "WHERE value IS NULL\n",
    "LIMIT 10;\n",
    "\"\"\")\n"
   ]
  },
  {
   "cell_type": "code",
   "execution_count": null,
   "metadata": {},
   "outputs": [],
   "source": []
  },
  {
   "cell_type": "code",
   "execution_count": 90,
   "metadata": {},
   "outputs": [
    {
     "data": {
      "text/html": [
       "<div>\n",
       "<style scoped>\n",
       "    .dataframe tbody tr th:only-of-type {\n",
       "        vertical-align: middle;\n",
       "    }\n",
       "\n",
       "    .dataframe tbody tr th {\n",
       "        vertical-align: top;\n",
       "    }\n",
       "\n",
       "    .dataframe thead th {\n",
       "        text-align: right;\n",
       "    }\n",
       "</style>\n",
       "<table border=\"1\" class=\"dataframe\">\n",
       "  <thead>\n",
       "    <tr style=\"text-align: right;\">\n",
       "      <th></th>\n",
       "      <th>id</th>\n",
       "      <th>time</th>\n",
       "      <th>value</th>\n",
       "      <th>is_null</th>\n",
       "      <th>run</th>\n",
       "    </tr>\n",
       "  </thead>\n",
       "  <tbody>\n",
       "    <tr>\n",
       "      <th>0</th>\n",
       "      <td>a3d47b1a-985e-5395-a6ee-719dad9b580f</td>\n",
       "      <td>2018-06-13 09:00:00+00:00</td>\n",
       "      <td>None</td>\n",
       "      <td>1</td>\n",
       "      <td>1</td>\n",
       "    </tr>\n",
       "    <tr>\n",
       "      <th>1</th>\n",
       "      <td>a3e8e405-0eed-59b6-8747-fe892a6f93de</td>\n",
       "      <td>2018-06-09 04:00:00+00:00</td>\n",
       "      <td>None</td>\n",
       "      <td>1</td>\n",
       "      <td>1</td>\n",
       "    </tr>\n",
       "    <tr>\n",
       "      <th>2</th>\n",
       "      <td>a46fb790-028c-5d17-a3e6-7d08daec0c03</td>\n",
       "      <td>2018-06-13 09:00:00+00:00</td>\n",
       "      <td>None</td>\n",
       "      <td>1</td>\n",
       "      <td>1</td>\n",
       "    </tr>\n",
       "    <tr>\n",
       "      <th>3</th>\n",
       "      <td>a470ac6d-d448-522b-9b74-8ed27f24de25</td>\n",
       "      <td>2018-06-09 04:00:00+00:00</td>\n",
       "      <td>None</td>\n",
       "      <td>1</td>\n",
       "      <td>1</td>\n",
       "    </tr>\n",
       "    <tr>\n",
       "      <th>4</th>\n",
       "      <td>a48e47ab-bbcd-5b39-aaaa-47fbaafe166e</td>\n",
       "      <td>2018-06-07 00:30:00+00:00</td>\n",
       "      <td>None</td>\n",
       "      <td>1</td>\n",
       "      <td>1</td>\n",
       "    </tr>\n",
       "    <tr>\n",
       "      <th>5</th>\n",
       "      <td>a48e47ab-bbcd-5b39-aaaa-47fbaafe166e</td>\n",
       "      <td>2018-06-07 01:15:00+00:00</td>\n",
       "      <td>None</td>\n",
       "      <td>1</td>\n",
       "      <td>2</td>\n",
       "    </tr>\n",
       "    <tr>\n",
       "      <th>6</th>\n",
       "      <td>a48e47ab-bbcd-5b39-aaaa-47fbaafe166e</td>\n",
       "      <td>2018-06-07 17:30:00+00:00</td>\n",
       "      <td>None</td>\n",
       "      <td>1</td>\n",
       "      <td>3</td>\n",
       "    </tr>\n",
       "    <tr>\n",
       "      <th>7</th>\n",
       "      <td>a48e47ab-bbcd-5b39-aaaa-47fbaafe166e</td>\n",
       "      <td>2018-06-07 18:30:00+00:00</td>\n",
       "      <td>None</td>\n",
       "      <td>1</td>\n",
       "      <td>4</td>\n",
       "    </tr>\n",
       "    <tr>\n",
       "      <th>8</th>\n",
       "      <td>a48e47ab-bbcd-5b39-aaaa-47fbaafe166e</td>\n",
       "      <td>2018-06-07 19:00:00+00:00</td>\n",
       "      <td>None</td>\n",
       "      <td>1</td>\n",
       "      <td>5</td>\n",
       "    </tr>\n",
       "    <tr>\n",
       "      <th>9</th>\n",
       "      <td>a48e47ab-bbcd-5b39-aaaa-47fbaafe166e</td>\n",
       "      <td>2018-06-07 19:30:00+00:00</td>\n",
       "      <td>None</td>\n",
       "      <td>1</td>\n",
       "      <td>6</td>\n",
       "    </tr>\n",
       "  </tbody>\n",
       "</table>\n",
       "</div>"
      ],
      "text/plain": [
       "                                     id                      time value  \\\n",
       "0  a3d47b1a-985e-5395-a6ee-719dad9b580f 2018-06-13 09:00:00+00:00  None   \n",
       "1  a3e8e405-0eed-59b6-8747-fe892a6f93de 2018-06-09 04:00:00+00:00  None   \n",
       "2  a46fb790-028c-5d17-a3e6-7d08daec0c03 2018-06-13 09:00:00+00:00  None   \n",
       "3  a470ac6d-d448-522b-9b74-8ed27f24de25 2018-06-09 04:00:00+00:00  None   \n",
       "4  a48e47ab-bbcd-5b39-aaaa-47fbaafe166e 2018-06-07 00:30:00+00:00  None   \n",
       "5  a48e47ab-bbcd-5b39-aaaa-47fbaafe166e 2018-06-07 01:15:00+00:00  None   \n",
       "6  a48e47ab-bbcd-5b39-aaaa-47fbaafe166e 2018-06-07 17:30:00+00:00  None   \n",
       "7  a48e47ab-bbcd-5b39-aaaa-47fbaafe166e 2018-06-07 18:30:00+00:00  None   \n",
       "8  a48e47ab-bbcd-5b39-aaaa-47fbaafe166e 2018-06-07 19:00:00+00:00  None   \n",
       "9  a48e47ab-bbcd-5b39-aaaa-47fbaafe166e 2018-06-07 19:30:00+00:00  None   \n",
       "\n",
       "   is_null  run  \n",
       "0        1    1  \n",
       "1        1    1  \n",
       "2        1    1  \n",
       "3        1    1  \n",
       "4        1    1  \n",
       "5        1    2  \n",
       "6        1    3  \n",
       "7        1    4  \n",
       "8        1    5  \n",
       "9        1    6  "
      ]
     },
     "execution_count": 90,
     "metadata": {},
     "output_type": "execute_result"
    }
   ],
   "source": [
    "grading_util.run_sql(\"\"\"\n",
    "WITH base AS (\n",
    "    SELECT *,\n",
    "           CASE WHEN value IS NULL THEN 1 ELSE 0 END AS is_null\n",
    "    FROM complete\n",
    "),\n",
    "runs AS (\n",
    "    SELECT *,\n",
    "           SUM(is_null) OVER (\n",
    "               PARTITION BY id ORDER BY time\n",
    "           ) AS run\n",
    "    FROM base\n",
    ")\n",
    "SELECT *\n",
    "FROM runs\n",
    "WHERE value IS NULL\n",
    "LIMIT 10;\n",
    "\"\"\")\n"
   ]
  },
  {
   "cell_type": "code",
   "execution_count": 91,
   "metadata": {},
   "outputs": [
    {
     "data": {
      "text/html": [
       "<div>\n",
       "<style scoped>\n",
       "    .dataframe tbody tr th:only-of-type {\n",
       "        vertical-align: middle;\n",
       "    }\n",
       "\n",
       "    .dataframe tbody tr th {\n",
       "        vertical-align: top;\n",
       "    }\n",
       "\n",
       "    .dataframe thead th {\n",
       "        text-align: right;\n",
       "    }\n",
       "</style>\n",
       "<table border=\"1\" class=\"dataframe\">\n",
       "  <thead>\n",
       "    <tr style=\"text-align: right;\">\n",
       "      <th></th>\n",
       "      <th>count</th>\n",
       "    </tr>\n",
       "  </thead>\n",
       "  <tbody>\n",
       "    <tr>\n",
       "      <th>0</th>\n",
       "      <td>102386</td>\n",
       "    </tr>\n",
       "  </tbody>\n",
       "</table>\n",
       "</div>"
      ],
      "text/plain": [
       "    count\n",
       "0  102386"
      ]
     },
     "execution_count": 91,
     "metadata": {},
     "output_type": "execute_result"
    }
   ],
   "source": [
    "grading_util.run_sql(\"SELECT COUNT(*) FROM complete;\")\n"
   ]
  },
  {
   "cell_type": "code",
   "execution_count": null,
   "metadata": {},
   "outputs": [],
   "source": []
  },
  {
   "cell_type": "code",
   "execution_count": null,
   "metadata": {},
   "outputs": [],
   "source": []
  },
  {
   "cell_type": "code",
   "execution_count": null,
   "metadata": {},
   "outputs": [],
   "source": []
  },
  {
   "cell_type": "code",
   "execution_count": 93,
   "metadata": {
    "scrolled": true,
    "tags": [
     "otter_answer_cell"
    ]
   },
   "outputs": [
    {
     "data": {
      "text/html": [
       "<div>\n",
       "<style scoped>\n",
       "    .dataframe tbody tr th:only-of-type {\n",
       "        vertical-align: middle;\n",
       "    }\n",
       "\n",
       "    .dataframe tbody tr th {\n",
       "        vertical-align: top;\n",
       "    }\n",
       "\n",
       "    .dataframe thead th {\n",
       "        text-align: right;\n",
       "    }\n",
       "</style>\n",
       "<table border=\"1\" class=\"dataframe\">\n",
       "  <thead>\n",
       "    <tr style=\"text-align: right;\">\n",
       "      <th></th>\n",
       "      <th>id</th>\n",
       "      <th>time</th>\n",
       "      <th>value</th>\n",
       "      <th>run</th>\n",
       "      <th>run_start</th>\n",
       "      <th>next_val</th>\n",
       "    </tr>\n",
       "  </thead>\n",
       "  <tbody>\n",
       "    <tr>\n",
       "      <th>0</th>\n",
       "      <td>a603047b-c231-57bf-be62-39063ea79189</td>\n",
       "      <td>2018-06-07 00:30:00+00:00</td>\n",
       "      <td>None</td>\n",
       "      <td>1</td>\n",
       "      <td>0.348</td>\n",
       "      <td>0.248</td>\n",
       "    </tr>\n",
       "    <tr>\n",
       "      <th>1</th>\n",
       "      <td>a58833d6-95c8-52ec-be0b-567a14350239</td>\n",
       "      <td>2018-06-07 01:15:00+00:00</td>\n",
       "      <td>None</td>\n",
       "      <td>1</td>\n",
       "      <td>0.049</td>\n",
       "      <td>0.031</td>\n",
       "    </tr>\n",
       "    <tr>\n",
       "      <th>2</th>\n",
       "      <td>a48e47ab-bbcd-5b39-aaaa-47fbaafe166e</td>\n",
       "      <td>2018-06-07 00:30:00+00:00</td>\n",
       "      <td>None</td>\n",
       "      <td>2</td>\n",
       "      <td>30.000</td>\n",
       "      <td>27.273</td>\n",
       "    </tr>\n",
       "    <tr>\n",
       "      <th>3</th>\n",
       "      <td>a58833d6-95c8-52ec-be0b-567a14350239</td>\n",
       "      <td>2018-06-07 02:30:00+00:00</td>\n",
       "      <td>None</td>\n",
       "      <td>2</td>\n",
       "      <td>0.031</td>\n",
       "      <td>0.022</td>\n",
       "    </tr>\n",
       "    <tr>\n",
       "      <th>4</th>\n",
       "      <td>a58833d6-95c8-52ec-be0b-567a14350239</td>\n",
       "      <td>2018-06-07 03:30:00+00:00</td>\n",
       "      <td>None</td>\n",
       "      <td>3</td>\n",
       "      <td>0.022</td>\n",
       "      <td>0.017</td>\n",
       "    </tr>\n",
       "    <tr>\n",
       "      <th>...</th>\n",
       "      <td>...</td>\n",
       "      <td>...</td>\n",
       "      <td>...</td>\n",
       "      <td>...</td>\n",
       "      <td>...</td>\n",
       "      <td>...</td>\n",
       "    </tr>\n",
       "    <tr>\n",
       "      <th>95</th>\n",
       "      <td>a58833d6-95c8-52ec-be0b-567a14350239</td>\n",
       "      <td>2018-06-08 06:45:00+00:00</td>\n",
       "      <td>None</td>\n",
       "      <td>45</td>\n",
       "      <td>0.014</td>\n",
       "      <td>0.014</td>\n",
       "    </tr>\n",
       "    <tr>\n",
       "      <th>96</th>\n",
       "      <td>a62e60b7-fdc4-5334-ae13-d207247f8450</td>\n",
       "      <td>2018-06-07 14:00:00+00:00</td>\n",
       "      <td>None</td>\n",
       "      <td>45</td>\n",
       "      <td>0.000</td>\n",
       "      <td>0.000</td>\n",
       "    </tr>\n",
       "    <tr>\n",
       "      <th>97</th>\n",
       "      <td>a58833d6-95c8-52ec-be0b-567a14350239</td>\n",
       "      <td>2018-06-08 07:45:00+00:00</td>\n",
       "      <td>None</td>\n",
       "      <td>46</td>\n",
       "      <td>0.014</td>\n",
       "      <td>0.014</td>\n",
       "    </tr>\n",
       "    <tr>\n",
       "      <th>98</th>\n",
       "      <td>a51d3bed-a8b6-5321-96a1-c5542caca70c</td>\n",
       "      <td>2018-06-08 22:30:00+00:00</td>\n",
       "      <td>None</td>\n",
       "      <td>46</td>\n",
       "      <td>3.135</td>\n",
       "      <td>10.239</td>\n",
       "    </tr>\n",
       "    <tr>\n",
       "      <th>99</th>\n",
       "      <td>a62e60b7-fdc4-5334-ae13-d207247f8450</td>\n",
       "      <td>2018-06-07 14:30:00+00:00</td>\n",
       "      <td>None</td>\n",
       "      <td>46</td>\n",
       "      <td>0.000</td>\n",
       "      <td>-2.000</td>\n",
       "    </tr>\n",
       "  </tbody>\n",
       "</table>\n",
       "<p>100 rows × 6 columns</p>\n",
       "</div>"
      ],
      "text/plain": [
       "                                      id                      time value  run  \\\n",
       "0   a603047b-c231-57bf-be62-39063ea79189 2018-06-07 00:30:00+00:00  None    1   \n",
       "1   a58833d6-95c8-52ec-be0b-567a14350239 2018-06-07 01:15:00+00:00  None    1   \n",
       "2   a48e47ab-bbcd-5b39-aaaa-47fbaafe166e 2018-06-07 00:30:00+00:00  None    2   \n",
       "3   a58833d6-95c8-52ec-be0b-567a14350239 2018-06-07 02:30:00+00:00  None    2   \n",
       "4   a58833d6-95c8-52ec-be0b-567a14350239 2018-06-07 03:30:00+00:00  None    3   \n",
       "..                                   ...                       ...   ...  ...   \n",
       "95  a58833d6-95c8-52ec-be0b-567a14350239 2018-06-08 06:45:00+00:00  None   45   \n",
       "96  a62e60b7-fdc4-5334-ae13-d207247f8450 2018-06-07 14:00:00+00:00  None   45   \n",
       "97  a58833d6-95c8-52ec-be0b-567a14350239 2018-06-08 07:45:00+00:00  None   46   \n",
       "98  a51d3bed-a8b6-5321-96a1-c5542caca70c 2018-06-08 22:30:00+00:00  None   46   \n",
       "99  a62e60b7-fdc4-5334-ae13-d207247f8450 2018-06-07 14:30:00+00:00  None   46   \n",
       "\n",
       "    run_start  next_val  \n",
       "0       0.348     0.248  \n",
       "1       0.049     0.031  \n",
       "2      30.000    27.273  \n",
       "3       0.031     0.022  \n",
       "4       0.022     0.017  \n",
       "..        ...       ...  \n",
       "95      0.014     0.014  \n",
       "96      0.000     0.000  \n",
       "97      0.014     0.014  \n",
       "98      3.135    10.239  \n",
       "99      0.000    -2.000  \n",
       "\n",
       "[100 rows x 6 columns]"
      ]
     },
     "execution_count": 93,
     "metadata": {},
     "output_type": "execute_result"
    }
   ],
   "source": [
    "result_4ci = grading_util.run_file(\"4ci\")[2]\n",
    "grading_util.save_results(\"result_4ci\", result_4ci)\n",
    "result_4ci"
   ]
  },
  {
   "cell_type": "code",
   "execution_count": 94,
   "metadata": {
    "tags": [
     "otter_answer_cell"
    ]
   },
   "outputs": [],
   "source": [
    "result_4ci = grading_util.load_results(\"result_4ci\")[0]"
   ]
  },
  {
   "cell_type": "code",
   "execution_count": 95,
   "metadata": {
    "deletable": false,
    "editable": false
   },
   "outputs": [
    {
     "data": {
      "text/html": [
       "<p><strong><pre style='display: inline;'>q4ci</pre></strong> passed! 🙌</p>"
      ],
      "text/plain": [
       "q4ci results: All test cases passed!"
      ]
     },
     "execution_count": 95,
     "metadata": {},
     "output_type": "execute_result"
    }
   ],
   "source": [
    "grader.check(\"q4ci\")"
   ]
  },
  {
   "cell_type": "markdown",
   "metadata": {},
   "source": [
    "#### Question 4cii: Backward Pass\n",
    "\n",
    "Perform the backward pass by creating a view called `backward`.\n",
    "\n",
    "Your table header should look like:\n",
    "\n",
    "| id | time | value | run | run_start | next_val | run_end | run_rank | run_size |\n",
    "| :--- | :--- | :--- | :--- | :--- | :--- | :--- | :--- | :--- |\n",
    "\n",
    "**NOTE**: There are no hidden tests for this subpart, but they are not comprehensive. We will comprehensively test your final output in 4ciii."
   ]
  },
  {
   "cell_type": "code",
   "execution_count": 96,
   "metadata": {
    "scrolled": true,
    "tags": [
     "otter_answer_cell"
    ]
   },
   "outputs": [
    {
     "data": {
      "text/html": [
       "<div>\n",
       "<style scoped>\n",
       "    .dataframe tbody tr th:only-of-type {\n",
       "        vertical-align: middle;\n",
       "    }\n",
       "\n",
       "    .dataframe tbody tr th {\n",
       "        vertical-align: top;\n",
       "    }\n",
       "\n",
       "    .dataframe thead th {\n",
       "        text-align: right;\n",
       "    }\n",
       "</style>\n",
       "<table border=\"1\" class=\"dataframe\">\n",
       "  <thead>\n",
       "    <tr style=\"text-align: right;\">\n",
       "      <th></th>\n",
       "      <th>id</th>\n",
       "      <th>time</th>\n",
       "      <th>value</th>\n",
       "      <th>run</th>\n",
       "      <th>run_start</th>\n",
       "      <th>next_val</th>\n",
       "      <th>run_end</th>\n",
       "      <th>run_rank</th>\n",
       "      <th>run_size</th>\n",
       "    </tr>\n",
       "  </thead>\n",
       "  <tbody>\n",
       "    <tr>\n",
       "      <th>0</th>\n",
       "      <td>a49cd747-43c3-536d-b3ee-ec9c087b9317</td>\n",
       "      <td>2018-06-08 10:00:02+00:00</td>\n",
       "      <td>0.000</td>\n",
       "      <td>137</td>\n",
       "      <td>0.000</td>\n",
       "      <td>NaN</td>\n",
       "      <td>0.000</td>\n",
       "      <td>0</td>\n",
       "      <td>3</td>\n",
       "    </tr>\n",
       "    <tr>\n",
       "      <th>1</th>\n",
       "      <td>a49cd747-43c3-536d-b3ee-ec9c087b9317</td>\n",
       "      <td>2018-06-08 10:15:00+00:00</td>\n",
       "      <td>NaN</td>\n",
       "      <td>137</td>\n",
       "      <td>0.000</td>\n",
       "      <td>NaN</td>\n",
       "      <td>0.000</td>\n",
       "      <td>1</td>\n",
       "      <td>3</td>\n",
       "    </tr>\n",
       "    <tr>\n",
       "      <th>2</th>\n",
       "      <td>a49cd747-43c3-536d-b3ee-ec9c087b9317</td>\n",
       "      <td>2018-06-08 10:30:00+00:00</td>\n",
       "      <td>NaN</td>\n",
       "      <td>137</td>\n",
       "      <td>0.000</td>\n",
       "      <td>0.000</td>\n",
       "      <td>0.000</td>\n",
       "      <td>2</td>\n",
       "      <td>3</td>\n",
       "    </tr>\n",
       "    <tr>\n",
       "      <th>3</th>\n",
       "      <td>a49cd747-43c3-536d-b3ee-ec9c087b9317</td>\n",
       "      <td>2018-06-08 19:45:03+00:00</td>\n",
       "      <td>0.000</td>\n",
       "      <td>174</td>\n",
       "      <td>0.000</td>\n",
       "      <td>NaN</td>\n",
       "      <td>0.000</td>\n",
       "      <td>0</td>\n",
       "      <td>3</td>\n",
       "    </tr>\n",
       "    <tr>\n",
       "      <th>4</th>\n",
       "      <td>a49cd747-43c3-536d-b3ee-ec9c087b9317</td>\n",
       "      <td>2018-06-08 20:00:00+00:00</td>\n",
       "      <td>NaN</td>\n",
       "      <td>174</td>\n",
       "      <td>0.000</td>\n",
       "      <td>NaN</td>\n",
       "      <td>0.000</td>\n",
       "      <td>1</td>\n",
       "      <td>3</td>\n",
       "    </tr>\n",
       "    <tr>\n",
       "      <th>...</th>\n",
       "      <td>...</td>\n",
       "      <td>...</td>\n",
       "      <td>...</td>\n",
       "      <td>...</td>\n",
       "      <td>...</td>\n",
       "      <td>...</td>\n",
       "      <td>...</td>\n",
       "      <td>...</td>\n",
       "      <td>...</td>\n",
       "    </tr>\n",
       "    <tr>\n",
       "      <th>95</th>\n",
       "      <td>a51d3bed-a8b6-5321-96a1-c5542caca70c</td>\n",
       "      <td>2018-06-07 22:15:00+00:00</td>\n",
       "      <td>NaN</td>\n",
       "      <td>20</td>\n",
       "      <td>5.825</td>\n",
       "      <td>76.923</td>\n",
       "      <td>76.923</td>\n",
       "      <td>2</td>\n",
       "      <td>3</td>\n",
       "    </tr>\n",
       "    <tr>\n",
       "      <th>96</th>\n",
       "      <td>a51d3bed-a8b6-5321-96a1-c5542caca70c</td>\n",
       "      <td>2018-06-07 23:00:00+00:00</td>\n",
       "      <td>8.021</td>\n",
       "      <td>23</td>\n",
       "      <td>7.937</td>\n",
       "      <td>NaN</td>\n",
       "      <td>8.021</td>\n",
       "      <td>0</td>\n",
       "      <td>3</td>\n",
       "    </tr>\n",
       "    <tr>\n",
       "      <th>97</th>\n",
       "      <td>a51d3bed-a8b6-5321-96a1-c5542caca70c</td>\n",
       "      <td>2018-06-07 23:15:00+00:00</td>\n",
       "      <td>NaN</td>\n",
       "      <td>23</td>\n",
       "      <td>8.021</td>\n",
       "      <td>NaN</td>\n",
       "      <td>103.448</td>\n",
       "      <td>1</td>\n",
       "      <td>3</td>\n",
       "    </tr>\n",
       "    <tr>\n",
       "      <th>98</th>\n",
       "      <td>a51d3bed-a8b6-5321-96a1-c5542caca70c</td>\n",
       "      <td>2018-06-07 23:30:00+00:00</td>\n",
       "      <td>NaN</td>\n",
       "      <td>23</td>\n",
       "      <td>8.021</td>\n",
       "      <td>103.448</td>\n",
       "      <td>103.448</td>\n",
       "      <td>2</td>\n",
       "      <td>3</td>\n",
       "    </tr>\n",
       "    <tr>\n",
       "      <th>99</th>\n",
       "      <td>a51d3bed-a8b6-5321-96a1-c5542caca70c</td>\n",
       "      <td>2018-06-08 01:15:00+00:00</td>\n",
       "      <td>3.759</td>\n",
       "      <td>29</td>\n",
       "      <td>8.955</td>\n",
       "      <td>NaN</td>\n",
       "      <td>3.759</td>\n",
       "      <td>0</td>\n",
       "      <td>5</td>\n",
       "    </tr>\n",
       "  </tbody>\n",
       "</table>\n",
       "<p>100 rows × 9 columns</p>\n",
       "</div>"
      ],
      "text/plain": [
       "                                      id                      time  value  \\\n",
       "0   a49cd747-43c3-536d-b3ee-ec9c087b9317 2018-06-08 10:00:02+00:00  0.000   \n",
       "1   a49cd747-43c3-536d-b3ee-ec9c087b9317 2018-06-08 10:15:00+00:00    NaN   \n",
       "2   a49cd747-43c3-536d-b3ee-ec9c087b9317 2018-06-08 10:30:00+00:00    NaN   \n",
       "3   a49cd747-43c3-536d-b3ee-ec9c087b9317 2018-06-08 19:45:03+00:00  0.000   \n",
       "4   a49cd747-43c3-536d-b3ee-ec9c087b9317 2018-06-08 20:00:00+00:00    NaN   \n",
       "..                                   ...                       ...    ...   \n",
       "95  a51d3bed-a8b6-5321-96a1-c5542caca70c 2018-06-07 22:15:00+00:00    NaN   \n",
       "96  a51d3bed-a8b6-5321-96a1-c5542caca70c 2018-06-07 23:00:00+00:00  8.021   \n",
       "97  a51d3bed-a8b6-5321-96a1-c5542caca70c 2018-06-07 23:15:00+00:00    NaN   \n",
       "98  a51d3bed-a8b6-5321-96a1-c5542caca70c 2018-06-07 23:30:00+00:00    NaN   \n",
       "99  a51d3bed-a8b6-5321-96a1-c5542caca70c 2018-06-08 01:15:00+00:00  3.759   \n",
       "\n",
       "    run  run_start  next_val  run_end  run_rank  run_size  \n",
       "0   137      0.000       NaN    0.000         0         3  \n",
       "1   137      0.000       NaN    0.000         1         3  \n",
       "2   137      0.000     0.000    0.000         2         3  \n",
       "3   174      0.000       NaN    0.000         0         3  \n",
       "4   174      0.000       NaN    0.000         1         3  \n",
       "..  ...        ...       ...      ...       ...       ...  \n",
       "95   20      5.825    76.923   76.923         2         3  \n",
       "96   23      7.937       NaN    8.021         0         3  \n",
       "97   23      8.021       NaN  103.448         1         3  \n",
       "98   23      8.021   103.448  103.448         2         3  \n",
       "99   29      8.955       NaN    3.759         0         5  \n",
       "\n",
       "[100 rows x 9 columns]"
      ]
     },
     "execution_count": 96,
     "metadata": {},
     "output_type": "execute_result"
    }
   ],
   "source": [
    "result_4cii = grading_util.run_file(\"4cii\")[2]\n",
    "grading_util.save_results(\"result_4cii\", result_4cii)\n",
    "result_4cii"
   ]
  },
  {
   "cell_type": "code",
   "execution_count": 97,
   "metadata": {
    "tags": [
     "otter_answer_cell"
    ]
   },
   "outputs": [],
   "source": [
    "result_4cii = grading_util.load_results(\"result_4cii\")[0]"
   ]
  },
  {
   "cell_type": "code",
   "execution_count": 98,
   "metadata": {
    "deletable": false,
    "editable": false
   },
   "outputs": [
    {
     "data": {
      "text/html": [
       "<p><strong><pre style='display: inline;'>q4cii</pre></strong> passed! 💯</p>"
      ],
      "text/plain": [
       "q4cii results: All test cases passed!"
      ]
     },
     "execution_count": 98,
     "metadata": {},
     "output_type": "execute_result"
    }
   ],
   "source": [
    "grader.check(\"q4cii\")"
   ]
  },
  {
   "cell_type": "markdown",
   "metadata": {},
   "source": [
    "#### Question 4ciii: Interpolate\n",
    "\n",
    "Finally perform interpolation by creating a view called `likely_data`. Your table header should look like:\n",
    "\n",
    "| id | time | value | run | run_start | next_val | run_end | run_rank | run_size | interpolated |\n",
    "| :--- | :--- | :--- | :--- | :--- | :--- | :--- | :--- | :--- | :--- |"
   ]
  },
  {
   "cell_type": "code",
   "execution_count": 99,
   "metadata": {},
   "outputs": [
    {
     "data": {
      "text/html": [
       "<div>\n",
       "<style scoped>\n",
       "    .dataframe tbody tr th:only-of-type {\n",
       "        vertical-align: middle;\n",
       "    }\n",
       "\n",
       "    .dataframe tbody tr th {\n",
       "        vertical-align: top;\n",
       "    }\n",
       "\n",
       "    .dataframe thead th {\n",
       "        text-align: right;\n",
       "    }\n",
       "</style>\n",
       "<table border=\"1\" class=\"dataframe\">\n",
       "  <thead>\n",
       "    <tr style=\"text-align: right;\">\n",
       "      <th></th>\n",
       "      <th>id</th>\n",
       "      <th>time</th>\n",
       "      <th>value</th>\n",
       "      <th>run_start</th>\n",
       "      <th>run_end</th>\n",
       "      <th>run_rank</th>\n",
       "      <th>run_size</th>\n",
       "    </tr>\n",
       "  </thead>\n",
       "  <tbody>\n",
       "    <tr>\n",
       "      <th>0</th>\n",
       "      <td>a3d47b1a-985e-5395-a6ee-719dad9b580f</td>\n",
       "      <td>2018-06-13 09:00:00+00:00</td>\n",
       "      <td>None</td>\n",
       "      <td>0.056</td>\n",
       "      <td>0.056</td>\n",
       "      <td>1</td>\n",
       "      <td>2</td>\n",
       "    </tr>\n",
       "    <tr>\n",
       "      <th>1</th>\n",
       "      <td>a3e8e405-0eed-59b6-8747-fe892a6f93de</td>\n",
       "      <td>2018-06-09 04:00:00+00:00</td>\n",
       "      <td>None</td>\n",
       "      <td>281.600</td>\n",
       "      <td>280.800</td>\n",
       "      <td>1</td>\n",
       "      <td>2</td>\n",
       "    </tr>\n",
       "    <tr>\n",
       "      <th>2</th>\n",
       "      <td>a46fb790-028c-5d17-a3e6-7d08daec0c03</td>\n",
       "      <td>2018-06-13 09:00:00+00:00</td>\n",
       "      <td>None</td>\n",
       "      <td>281.390</td>\n",
       "      <td>281.460</td>\n",
       "      <td>1</td>\n",
       "      <td>2</td>\n",
       "    </tr>\n",
       "    <tr>\n",
       "      <th>3</th>\n",
       "      <td>a470ac6d-d448-522b-9b74-8ed27f24de25</td>\n",
       "      <td>2018-06-09 04:00:00+00:00</td>\n",
       "      <td>None</td>\n",
       "      <td>0.006</td>\n",
       "      <td>0.004</td>\n",
       "      <td>1</td>\n",
       "      <td>2</td>\n",
       "    </tr>\n",
       "    <tr>\n",
       "      <th>4</th>\n",
       "      <td>a48e47ab-bbcd-5b39-aaaa-47fbaafe166e</td>\n",
       "      <td>2018-06-07 00:30:00+00:00</td>\n",
       "      <td>None</td>\n",
       "      <td>30.000</td>\n",
       "      <td>27.273</td>\n",
       "      <td>1</td>\n",
       "      <td>2</td>\n",
       "    </tr>\n",
       "    <tr>\n",
       "      <th>5</th>\n",
       "      <td>a48e47ab-bbcd-5b39-aaaa-47fbaafe166e</td>\n",
       "      <td>2018-06-07 01:15:00+00:00</td>\n",
       "      <td>None</td>\n",
       "      <td>23.077</td>\n",
       "      <td>27.273</td>\n",
       "      <td>1</td>\n",
       "      <td>2</td>\n",
       "    </tr>\n",
       "    <tr>\n",
       "      <th>6</th>\n",
       "      <td>a48e47ab-bbcd-5b39-aaaa-47fbaafe166e</td>\n",
       "      <td>2018-06-07 17:30:00+00:00</td>\n",
       "      <td>None</td>\n",
       "      <td>25.000</td>\n",
       "      <td>21.429</td>\n",
       "      <td>1</td>\n",
       "      <td>2</td>\n",
       "    </tr>\n",
       "    <tr>\n",
       "      <th>7</th>\n",
       "      <td>a48e47ab-bbcd-5b39-aaaa-47fbaafe166e</td>\n",
       "      <td>2018-06-07 18:30:00+00:00</td>\n",
       "      <td>None</td>\n",
       "      <td>30.000</td>\n",
       "      <td>25.000</td>\n",
       "      <td>1</td>\n",
       "      <td>2</td>\n",
       "    </tr>\n",
       "    <tr>\n",
       "      <th>8</th>\n",
       "      <td>a48e47ab-bbcd-5b39-aaaa-47fbaafe166e</td>\n",
       "      <td>2018-06-07 19:00:00+00:00</td>\n",
       "      <td>None</td>\n",
       "      <td>25.000</td>\n",
       "      <td>20.000</td>\n",
       "      <td>1</td>\n",
       "      <td>2</td>\n",
       "    </tr>\n",
       "    <tr>\n",
       "      <th>9</th>\n",
       "      <td>a48e47ab-bbcd-5b39-aaaa-47fbaafe166e</td>\n",
       "      <td>2018-06-07 19:30:00+00:00</td>\n",
       "      <td>None</td>\n",
       "      <td>20.000</td>\n",
       "      <td>23.077</td>\n",
       "      <td>1</td>\n",
       "      <td>2</td>\n",
       "    </tr>\n",
       "  </tbody>\n",
       "</table>\n",
       "</div>"
      ],
      "text/plain": [
       "                                     id                      time value  \\\n",
       "0  a3d47b1a-985e-5395-a6ee-719dad9b580f 2018-06-13 09:00:00+00:00  None   \n",
       "1  a3e8e405-0eed-59b6-8747-fe892a6f93de 2018-06-09 04:00:00+00:00  None   \n",
       "2  a46fb790-028c-5d17-a3e6-7d08daec0c03 2018-06-13 09:00:00+00:00  None   \n",
       "3  a470ac6d-d448-522b-9b74-8ed27f24de25 2018-06-09 04:00:00+00:00  None   \n",
       "4  a48e47ab-bbcd-5b39-aaaa-47fbaafe166e 2018-06-07 00:30:00+00:00  None   \n",
       "5  a48e47ab-bbcd-5b39-aaaa-47fbaafe166e 2018-06-07 01:15:00+00:00  None   \n",
       "6  a48e47ab-bbcd-5b39-aaaa-47fbaafe166e 2018-06-07 17:30:00+00:00  None   \n",
       "7  a48e47ab-bbcd-5b39-aaaa-47fbaafe166e 2018-06-07 18:30:00+00:00  None   \n",
       "8  a48e47ab-bbcd-5b39-aaaa-47fbaafe166e 2018-06-07 19:00:00+00:00  None   \n",
       "9  a48e47ab-bbcd-5b39-aaaa-47fbaafe166e 2018-06-07 19:30:00+00:00  None   \n",
       "\n",
       "   run_start  run_end  run_rank  run_size  \n",
       "0      0.056    0.056         1         2  \n",
       "1    281.600  280.800         1         2  \n",
       "2    281.390  281.460         1         2  \n",
       "3      0.006    0.004         1         2  \n",
       "4     30.000   27.273         1         2  \n",
       "5     23.077   27.273         1         2  \n",
       "6     25.000   21.429         1         2  \n",
       "7     30.000   25.000         1         2  \n",
       "8     25.000   20.000         1         2  \n",
       "9     20.000   23.077         1         2  "
      ]
     },
     "execution_count": 99,
     "metadata": {},
     "output_type": "execute_result"
    }
   ],
   "source": [
    "grading_util.run_sql(\"\"\"\n",
    "SELECT id, time, value, run_start, run_end, run_rank, run_size\n",
    "FROM backward\n",
    "WHERE value IS NULL\n",
    "LIMIT 10;\n",
    "\"\"\")"
   ]
  },
  {
   "cell_type": "code",
   "execution_count": 100,
   "metadata": {},
   "outputs": [
    {
     "data": {
      "text/html": [
       "<div>\n",
       "<style scoped>\n",
       "    .dataframe tbody tr th:only-of-type {\n",
       "        vertical-align: middle;\n",
       "    }\n",
       "\n",
       "    .dataframe tbody tr th {\n",
       "        vertical-align: top;\n",
       "    }\n",
       "\n",
       "    .dataframe thead th {\n",
       "        text-align: right;\n",
       "    }\n",
       "</style>\n",
       "<table border=\"1\" class=\"dataframe\">\n",
       "  <thead>\n",
       "    <tr style=\"text-align: right;\">\n",
       "      <th></th>\n",
       "      <th>id</th>\n",
       "      <th>time</th>\n",
       "      <th>value</th>\n",
       "      <th>run</th>\n",
       "      <th>run_start</th>\n",
       "      <th>next_val</th>\n",
       "      <th>run_end</th>\n",
       "      <th>run_rank</th>\n",
       "      <th>run_size</th>\n",
       "    </tr>\n",
       "  </thead>\n",
       "  <tbody>\n",
       "    <tr>\n",
       "      <th>0</th>\n",
       "      <td>a3d47b1a-985e-5395-a6ee-719dad9b580f</td>\n",
       "      <td>2018-06-13 09:00:00+00:00</td>\n",
       "      <td>None</td>\n",
       "      <td>613</td>\n",
       "      <td>0.056</td>\n",
       "      <td>0.056</td>\n",
       "      <td>0.056</td>\n",
       "      <td>1</td>\n",
       "      <td>2</td>\n",
       "    </tr>\n",
       "    <tr>\n",
       "      <th>1</th>\n",
       "      <td>a48e47ab-bbcd-5b39-aaaa-47fbaafe166e</td>\n",
       "      <td>2018-06-08 05:15:00+00:00</td>\n",
       "      <td>None</td>\n",
       "      <td>97</td>\n",
       "      <td>30.000</td>\n",
       "      <td>30.000</td>\n",
       "      <td>30.000</td>\n",
       "      <td>1</td>\n",
       "      <td>2</td>\n",
       "    </tr>\n",
       "    <tr>\n",
       "      <th>2</th>\n",
       "      <td>a48e47ab-bbcd-5b39-aaaa-47fbaafe166e</td>\n",
       "      <td>2018-06-10 18:00:00+00:00</td>\n",
       "      <td>None</td>\n",
       "      <td>302</td>\n",
       "      <td>27.273</td>\n",
       "      <td>27.273</td>\n",
       "      <td>27.273</td>\n",
       "      <td>1</td>\n",
       "      <td>2</td>\n",
       "    </tr>\n",
       "    <tr>\n",
       "      <th>3</th>\n",
       "      <td>a48e47ab-bbcd-5b39-aaaa-47fbaafe166e</td>\n",
       "      <td>2018-06-10 18:30:00+00:00</td>\n",
       "      <td>None</td>\n",
       "      <td>303</td>\n",
       "      <td>27.273</td>\n",
       "      <td>27.273</td>\n",
       "      <td>27.273</td>\n",
       "      <td>1</td>\n",
       "      <td>2</td>\n",
       "    </tr>\n",
       "    <tr>\n",
       "      <th>4</th>\n",
       "      <td>a48e47ab-bbcd-5b39-aaaa-47fbaafe166e</td>\n",
       "      <td>2018-06-10 23:15:00+00:00</td>\n",
       "      <td>None</td>\n",
       "      <td>315</td>\n",
       "      <td>30.000</td>\n",
       "      <td>30.000</td>\n",
       "      <td>30.000</td>\n",
       "      <td>1</td>\n",
       "      <td>2</td>\n",
       "    </tr>\n",
       "  </tbody>\n",
       "</table>\n",
       "</div>"
      ],
      "text/plain": [
       "                                     id                      time value  run  \\\n",
       "0  a3d47b1a-985e-5395-a6ee-719dad9b580f 2018-06-13 09:00:00+00:00  None  613   \n",
       "1  a48e47ab-bbcd-5b39-aaaa-47fbaafe166e 2018-06-08 05:15:00+00:00  None   97   \n",
       "2  a48e47ab-bbcd-5b39-aaaa-47fbaafe166e 2018-06-10 18:00:00+00:00  None  302   \n",
       "3  a48e47ab-bbcd-5b39-aaaa-47fbaafe166e 2018-06-10 18:30:00+00:00  None  303   \n",
       "4  a48e47ab-bbcd-5b39-aaaa-47fbaafe166e 2018-06-10 23:15:00+00:00  None  315   \n",
       "\n",
       "   run_start  next_val  run_end  run_rank  run_size  \n",
       "0      0.056     0.056    0.056         1         2  \n",
       "1     30.000    30.000   30.000         1         2  \n",
       "2     27.273    27.273   27.273         1         2  \n",
       "3     27.273    27.273   27.273         1         2  \n",
       "4     30.000    30.000   30.000         1         2  "
      ]
     },
     "execution_count": 100,
     "metadata": {},
     "output_type": "execute_result"
    }
   ],
   "source": [
    "grading_util.run_sql(\"\"\"\n",
    "SELECT *\n",
    "FROM backward\n",
    "WHERE run_end = run_start AND value IS NULL\n",
    "LIMIT 5;\n",
    "\"\"\")\n"
   ]
  },
  {
   "cell_type": "code",
   "execution_count": 101,
   "metadata": {},
   "outputs": [
    {
     "data": {
      "text/html": [
       "<div>\n",
       "<style scoped>\n",
       "    .dataframe tbody tr th:only-of-type {\n",
       "        vertical-align: middle;\n",
       "    }\n",
       "\n",
       "    .dataframe tbody tr th {\n",
       "        vertical-align: top;\n",
       "    }\n",
       "\n",
       "    .dataframe thead th {\n",
       "        text-align: right;\n",
       "    }\n",
       "</style>\n",
       "<table border=\"1\" class=\"dataframe\">\n",
       "  <thead>\n",
       "    <tr style=\"text-align: right;\">\n",
       "      <th></th>\n",
       "    </tr>\n",
       "  </thead>\n",
       "  <tbody>\n",
       "  </tbody>\n",
       "</table>\n",
       "</div>"
      ],
      "text/plain": [
       "Empty DataFrame\n",
       "Columns: []\n",
       "Index: []"
      ]
     },
     "execution_count": 101,
     "metadata": {},
     "output_type": "execute_result"
    }
   ],
   "source": [
    "grading_util.run_sql(\"\"\"\n",
    "SELECT *\n",
    "FROM backward\n",
    "WHERE run_size = 0 AND value IS NULL\n",
    "LIMIT 5;\n",
    "\"\"\")\n"
   ]
  },
  {
   "cell_type": "code",
   "execution_count": null,
   "metadata": {},
   "outputs": [],
   "source": []
  },
  {
   "cell_type": "code",
   "execution_count": null,
   "metadata": {},
   "outputs": [],
   "source": []
  },
  {
   "cell_type": "code",
   "execution_count": 102,
   "metadata": {
    "tags": [
     "otter_answer_cell"
    ]
   },
   "outputs": [
    {
     "data": {
      "text/html": [
       "<div>\n",
       "<style scoped>\n",
       "    .dataframe tbody tr th:only-of-type {\n",
       "        vertical-align: middle;\n",
       "    }\n",
       "\n",
       "    .dataframe tbody tr th {\n",
       "        vertical-align: top;\n",
       "    }\n",
       "\n",
       "    .dataframe thead th {\n",
       "        text-align: right;\n",
       "    }\n",
       "</style>\n",
       "<table border=\"1\" class=\"dataframe\">\n",
       "  <thead>\n",
       "    <tr style=\"text-align: right;\">\n",
       "      <th></th>\n",
       "      <th>id</th>\n",
       "      <th>time</th>\n",
       "      <th>value</th>\n",
       "      <th>run</th>\n",
       "      <th>run_start</th>\n",
       "      <th>next_val</th>\n",
       "      <th>run_end</th>\n",
       "      <th>run_rank</th>\n",
       "      <th>run_size</th>\n",
       "      <th>interpolated</th>\n",
       "    </tr>\n",
       "  </thead>\n",
       "  <tbody>\n",
       "    <tr>\n",
       "      <th>0</th>\n",
       "      <td>a49cd747-43c3-536d-b3ee-ec9c087b9317</td>\n",
       "      <td>2018-06-08 10:00:02+00:00</td>\n",
       "      <td>0.000</td>\n",
       "      <td>137</td>\n",
       "      <td>0.000</td>\n",
       "      <td>NaN</td>\n",
       "      <td>0.000</td>\n",
       "      <td>0</td>\n",
       "      <td>3</td>\n",
       "      <td>0.000000</td>\n",
       "    </tr>\n",
       "    <tr>\n",
       "      <th>1</th>\n",
       "      <td>a49cd747-43c3-536d-b3ee-ec9c087b9317</td>\n",
       "      <td>2018-06-08 10:15:00+00:00</td>\n",
       "      <td>NaN</td>\n",
       "      <td>137</td>\n",
       "      <td>0.000</td>\n",
       "      <td>NaN</td>\n",
       "      <td>0.000</td>\n",
       "      <td>1</td>\n",
       "      <td>3</td>\n",
       "      <td>0.000000</td>\n",
       "    </tr>\n",
       "    <tr>\n",
       "      <th>2</th>\n",
       "      <td>a49cd747-43c3-536d-b3ee-ec9c087b9317</td>\n",
       "      <td>2018-06-08 10:30:00+00:00</td>\n",
       "      <td>NaN</td>\n",
       "      <td>137</td>\n",
       "      <td>0.000</td>\n",
       "      <td>0.000</td>\n",
       "      <td>0.000</td>\n",
       "      <td>2</td>\n",
       "      <td>3</td>\n",
       "      <td>0.000000</td>\n",
       "    </tr>\n",
       "    <tr>\n",
       "      <th>3</th>\n",
       "      <td>a49cd747-43c3-536d-b3ee-ec9c087b9317</td>\n",
       "      <td>2018-06-08 19:45:03+00:00</td>\n",
       "      <td>0.000</td>\n",
       "      <td>174</td>\n",
       "      <td>0.000</td>\n",
       "      <td>NaN</td>\n",
       "      <td>0.000</td>\n",
       "      <td>0</td>\n",
       "      <td>3</td>\n",
       "      <td>0.000000</td>\n",
       "    </tr>\n",
       "    <tr>\n",
       "      <th>4</th>\n",
       "      <td>a49cd747-43c3-536d-b3ee-ec9c087b9317</td>\n",
       "      <td>2018-06-08 20:00:00+00:00</td>\n",
       "      <td>NaN</td>\n",
       "      <td>174</td>\n",
       "      <td>0.000</td>\n",
       "      <td>NaN</td>\n",
       "      <td>0.000</td>\n",
       "      <td>1</td>\n",
       "      <td>3</td>\n",
       "      <td>0.000000</td>\n",
       "    </tr>\n",
       "    <tr>\n",
       "      <th>...</th>\n",
       "      <td>...</td>\n",
       "      <td>...</td>\n",
       "      <td>...</td>\n",
       "      <td>...</td>\n",
       "      <td>...</td>\n",
       "      <td>...</td>\n",
       "      <td>...</td>\n",
       "      <td>...</td>\n",
       "      <td>...</td>\n",
       "      <td>...</td>\n",
       "    </tr>\n",
       "    <tr>\n",
       "      <th>95</th>\n",
       "      <td>a51d3bed-a8b6-5321-96a1-c5542caca70c</td>\n",
       "      <td>2018-06-07 22:15:00+00:00</td>\n",
       "      <td>NaN</td>\n",
       "      <td>20</td>\n",
       "      <td>5.825</td>\n",
       "      <td>76.923</td>\n",
       "      <td>76.923</td>\n",
       "      <td>2</td>\n",
       "      <td>3</td>\n",
       "      <td>53.223667</td>\n",
       "    </tr>\n",
       "    <tr>\n",
       "      <th>96</th>\n",
       "      <td>a51d3bed-a8b6-5321-96a1-c5542caca70c</td>\n",
       "      <td>2018-06-07 23:00:00+00:00</td>\n",
       "      <td>8.021</td>\n",
       "      <td>23</td>\n",
       "      <td>7.937</td>\n",
       "      <td>NaN</td>\n",
       "      <td>8.021</td>\n",
       "      <td>0</td>\n",
       "      <td>3</td>\n",
       "      <td>8.021000</td>\n",
       "    </tr>\n",
       "    <tr>\n",
       "      <th>97</th>\n",
       "      <td>a51d3bed-a8b6-5321-96a1-c5542caca70c</td>\n",
       "      <td>2018-06-07 23:15:00+00:00</td>\n",
       "      <td>NaN</td>\n",
       "      <td>23</td>\n",
       "      <td>8.021</td>\n",
       "      <td>NaN</td>\n",
       "      <td>103.448</td>\n",
       "      <td>1</td>\n",
       "      <td>3</td>\n",
       "      <td>39.830000</td>\n",
       "    </tr>\n",
       "    <tr>\n",
       "      <th>98</th>\n",
       "      <td>a51d3bed-a8b6-5321-96a1-c5542caca70c</td>\n",
       "      <td>2018-06-07 23:30:00+00:00</td>\n",
       "      <td>NaN</td>\n",
       "      <td>23</td>\n",
       "      <td>8.021</td>\n",
       "      <td>103.448</td>\n",
       "      <td>103.448</td>\n",
       "      <td>2</td>\n",
       "      <td>3</td>\n",
       "      <td>71.639000</td>\n",
       "    </tr>\n",
       "    <tr>\n",
       "      <th>99</th>\n",
       "      <td>a51d3bed-a8b6-5321-96a1-c5542caca70c</td>\n",
       "      <td>2018-06-08 01:15:00+00:00</td>\n",
       "      <td>3.759</td>\n",
       "      <td>29</td>\n",
       "      <td>8.955</td>\n",
       "      <td>NaN</td>\n",
       "      <td>3.759</td>\n",
       "      <td>0</td>\n",
       "      <td>5</td>\n",
       "      <td>3.759000</td>\n",
       "    </tr>\n",
       "  </tbody>\n",
       "</table>\n",
       "<p>100 rows × 10 columns</p>\n",
       "</div>"
      ],
      "text/plain": [
       "                                      id                      time  value  \\\n",
       "0   a49cd747-43c3-536d-b3ee-ec9c087b9317 2018-06-08 10:00:02+00:00  0.000   \n",
       "1   a49cd747-43c3-536d-b3ee-ec9c087b9317 2018-06-08 10:15:00+00:00    NaN   \n",
       "2   a49cd747-43c3-536d-b3ee-ec9c087b9317 2018-06-08 10:30:00+00:00    NaN   \n",
       "3   a49cd747-43c3-536d-b3ee-ec9c087b9317 2018-06-08 19:45:03+00:00  0.000   \n",
       "4   a49cd747-43c3-536d-b3ee-ec9c087b9317 2018-06-08 20:00:00+00:00    NaN   \n",
       "..                                   ...                       ...    ...   \n",
       "95  a51d3bed-a8b6-5321-96a1-c5542caca70c 2018-06-07 22:15:00+00:00    NaN   \n",
       "96  a51d3bed-a8b6-5321-96a1-c5542caca70c 2018-06-07 23:00:00+00:00  8.021   \n",
       "97  a51d3bed-a8b6-5321-96a1-c5542caca70c 2018-06-07 23:15:00+00:00    NaN   \n",
       "98  a51d3bed-a8b6-5321-96a1-c5542caca70c 2018-06-07 23:30:00+00:00    NaN   \n",
       "99  a51d3bed-a8b6-5321-96a1-c5542caca70c 2018-06-08 01:15:00+00:00  3.759   \n",
       "\n",
       "    run  run_start  next_val  run_end  run_rank  run_size  interpolated  \n",
       "0   137      0.000       NaN    0.000         0         3      0.000000  \n",
       "1   137      0.000       NaN    0.000         1         3      0.000000  \n",
       "2   137      0.000     0.000    0.000         2         3      0.000000  \n",
       "3   174      0.000       NaN    0.000         0         3      0.000000  \n",
       "4   174      0.000       NaN    0.000         1         3      0.000000  \n",
       "..  ...        ...       ...      ...       ...       ...           ...  \n",
       "95   20      5.825    76.923   76.923         2         3     53.223667  \n",
       "96   23      7.937       NaN    8.021         0         3      8.021000  \n",
       "97   23      8.021       NaN  103.448         1         3     39.830000  \n",
       "98   23      8.021   103.448  103.448         2         3     71.639000  \n",
       "99   29      8.955       NaN    3.759         0         5      3.759000  \n",
       "\n",
       "[100 rows x 10 columns]"
      ]
     },
     "execution_count": 102,
     "metadata": {},
     "output_type": "execute_result"
    }
   ],
   "source": [
    "result_4ciii = grading_util.run_file(\"4ciii\")[2]\n",
    "grading_util.save_results(\"result_4ciii\", result_4ciii)\n",
    "result_4ciii"
   ]
  },
  {
   "cell_type": "code",
   "execution_count": 103,
   "metadata": {
    "tags": [
     "otter_answer_cell"
    ]
   },
   "outputs": [],
   "source": [
    "result_4ciii = grading_util.load_results(\"result_4ciii\")[0]"
   ]
  },
  {
   "cell_type": "code",
   "execution_count": 104,
   "metadata": {
    "deletable": false,
    "editable": false
   },
   "outputs": [
    {
     "data": {
      "text/html": [
       "<p><strong><pre style='display: inline;'>q4ciii</pre></strong> passed! ✨</p>"
      ],
      "text/plain": [
       "q4ciii results: All test cases passed!"
      ]
     },
     "execution_count": 104,
     "metadata": {},
     "output_type": "execute_result"
    }
   ],
   "source": [
    "grader.check(\"q4ciii\")"
   ]
  },
  {
   "cell_type": "markdown",
   "metadata": {},
   "source": [
    "## Question 5: Granularity Transforms\n",
    "In this question, we will write a roll-up query on an ontology. This requires a bit of background explanation.\n",
    "\n",
    "### Background: You MUST read this!\n",
    "\n",
    "#### The Brick Ontology\n",
    "\n",
    "An [ontology](https://en.wikipedia.org/wiki/Ontology_engineering) is a way of showing/mapping the properties and concepts of a subject area and how they are related. This is done by defining a set of terms and relational expressions that represent the entities in that subject area. \n",
    "\n",
    "The [Software-Defined Buildings](http://sdb.cs.berkeley.edu/sdb/) research project at Berkeley has led the development of a standard ontology for building metadata called [Brick](https://docs.brickschema.org/intro.html) that is getting a fair bit of attention in the world of IoT. Like many ontologies, it is represented as triples `(subject, predicate, object)`. In our database, the Brick ontology has been stored in a table called `ontology`.\n",
    "\n",
    "#### The `subClassOf` Predicate and the `Sensor` Class\n",
    "\n",
    "We are interested in readings from different classes of sensor devices. More specifically, we are interested in rows from the `metadata` table whose `metadata.class` field (representing the sensor class) maps to an `ontology` subject $s$, and that subject is in an ontology tuple ($s$, `http://www.w3.org/2000/01/rdf-schema#subClassOf`, `https://brickschema.org/schema/Brick#Sensor`).\n",
    "\n",
    "Recall that $s$ is the subject, `...subClassOf` is the predicate, and `...Sensor` is the object. Thus, **the way to interpret this tuple in plain English is: \"$s$ is a subclass of `Sensor`\".**\n",
    "\n",
    "Note: None of the URLs representing a `subject` or `object` work anymore, that is fine. Just focus on the last part of the URL, like `subClassOf` in the URL `http://www.w3.org/2000/01/rdf-schema#subClassOf`.\n",
    "\n",
    "#### Sensor Diagram\n",
    "\n",
    "The diagram below shows a few of the `subject`s and `object`s from `ontology` in ovals. (**Note that the diagram is incomplete, it does not display all types of sensors!**) The diagram is an example of a [directed graph](https://en.wikipedia.org/wiki/Directed_graph), a special type of data structure made of vertices and edges. In this case, the vertices are the `subject`s and `object`s, and the arrows represented directed edges from a `subject` to an `object`. **Everything you need to know about graphs will be included in the instructions.**\n",
    "\n",
    "There is a black arrow between two ovals if there is a corresponding row in `ontology`. The immediate sub-classes of `Sensor` in the diagram are shown in yellow; we'll call them \"`Sensor` children\". Thus, a **\"`Sensor` child\"** is a sensor that is a **direct subclass** of `Sensor`(so `Sensor` is its parent).\n",
    "\n",
    "All of the children underneath `Sensor` and `Sensor's` children are **transitive sensor children**. Transitive sensor children are shown in the diagram with aquamarine arrows. Note that direct sensor children are also transitive sensor children, and that the `ontology` table does NOT include transitive relationships (except from a direct subclass of `Sensor` to `Sensor`).\n",
    "\n",
    "For example, on the left side of the diagram, `CO_Sensor` is a child of `Particulate_Matter_Sensor`, which is a child of `Sensor`. Thus, `CO_Sensor` is a transitive child of `Sensor`. (This is similar to the idea of inheritance in object-oriented programming!)\n",
    "\n",
    "Note that unlike other trees that typically go from parent node down to leaf node, we are traversing from the child node **up** to the parent node.\n",
    "\n",
    "<img src=\"data/subClass.png\">\n",
    "\n",
    "This image is available as `data/subClass.png`, and can be made available full-screen for ease of access.\n",
    "\n",
    "#### The `transitive_subClassOf` Relation\n",
    "\n",
    "The `transitive_subClassOf` materialized view is the set of *all* edges that compose the ontology graph, i.e., all black and aquamarine arrows in the diagram. It contains tuples of the form `(object, subject, hops, path)` where `subject` and `object` are connected transitively in `ontology` via one or more `subClassOf` predicates described above. `path` is a Postgres array type that shows the transitive path of class names through the ontology from subject to object, and `hops` is the length of that path. Run the next cell to see the first four rows of `transitive_subClassOf`:"
   ]
  },
  {
   "cell_type": "code",
   "execution_count": 105,
   "metadata": {},
   "outputs": [
    {
     "data": {
      "text/html": [
       "<div>\n",
       "<style scoped>\n",
       "    .dataframe tbody tr th:only-of-type {\n",
       "        vertical-align: middle;\n",
       "    }\n",
       "\n",
       "    .dataframe tbody tr th {\n",
       "        vertical-align: top;\n",
       "    }\n",
       "\n",
       "    .dataframe thead th {\n",
       "        text-align: right;\n",
       "    }\n",
       "</style>\n",
       "<table border=\"1\" class=\"dataframe\">\n",
       "  <thead>\n",
       "    <tr style=\"text-align: right;\">\n",
       "      <th></th>\n",
       "      <th>object</th>\n",
       "      <th>subject</th>\n",
       "      <th>hops</th>\n",
       "      <th>path</th>\n",
       "    </tr>\n",
       "  </thead>\n",
       "  <tbody>\n",
       "    <tr>\n",
       "      <th>0</th>\n",
       "      <td>https://brickschema.org/schema/Brick#Room</td>\n",
       "      <td>https://brickschema.org/schema/Brick#Ablutions_Room</td>\n",
       "      <td>1</td>\n",
       "      <td>[https://brickschema.org/schema/Brick#Ablutions_Room, https://brickschema.org/schema/Brick#Room]</td>\n",
       "    </tr>\n",
       "    <tr>\n",
       "      <th>1</th>\n",
       "      <td>ub1bL18C21</td>\n",
       "      <td>https://brickschema.org/schema/Brick#Ablutions_Room</td>\n",
       "      <td>1</td>\n",
       "      <td>[https://brickschema.org/schema/Brick#Ablutions_Room, ub1bL18C21]</td>\n",
       "    </tr>\n",
       "    <tr>\n",
       "      <th>2</th>\n",
       "      <td>https://brickschema.org/schema/Brick#Chiller</td>\n",
       "      <td>https://brickschema.org/schema/Brick#Absorption_Chiller</td>\n",
       "      <td>1</td>\n",
       "      <td>[https://brickschema.org/schema/Brick#Absorption_Chiller, https://brickschema.org/schema/Brick#Chiller]</td>\n",
       "    </tr>\n",
       "    <tr>\n",
       "      <th>3</th>\n",
       "      <td>ub1bL51C21</td>\n",
       "      <td>https://brickschema.org/schema/Brick#Absorption_Chiller</td>\n",
       "      <td>1</td>\n",
       "      <td>[https://brickschema.org/schema/Brick#Absorption_Chiller, ub1bL51C21]</td>\n",
       "    </tr>\n",
       "  </tbody>\n",
       "</table>\n",
       "</div>"
      ],
      "text/plain": [
       "                                         object  \\\n",
       "0     https://brickschema.org/schema/Brick#Room   \n",
       "1                                    ub1bL18C21   \n",
       "2  https://brickschema.org/schema/Brick#Chiller   \n",
       "3                                    ub1bL51C21   \n",
       "\n",
       "                                                   subject  hops  \\\n",
       "0      https://brickschema.org/schema/Brick#Ablutions_Room     1   \n",
       "1      https://brickschema.org/schema/Brick#Ablutions_Room     1   \n",
       "2  https://brickschema.org/schema/Brick#Absorption_Chiller     1   \n",
       "3  https://brickschema.org/schema/Brick#Absorption_Chiller     1   \n",
       "\n",
       "                                                                                                      path  \n",
       "0         [https://brickschema.org/schema/Brick#Ablutions_Room, https://brickschema.org/schema/Brick#Room]  \n",
       "1                                        [https://brickschema.org/schema/Brick#Ablutions_Room, ub1bL18C21]  \n",
       "2  [https://brickschema.org/schema/Brick#Absorption_Chiller, https://brickschema.org/schema/Brick#Chiller]  \n",
       "3                                    [https://brickschema.org/schema/Brick#Absorption_Chiller, ub1bL51C21]  "
      ]
     },
     "execution_count": 105,
     "metadata": {},
     "output_type": "execute_result"
    }
   ],
   "source": [
    "grading_util.run_sql(\"SELECT * FROM transitive_subClassOf LIMIT 4;\")"
   ]
  },
  {
   "cell_type": "markdown",
   "metadata": {},
   "source": [
    "We have already materialized this view for you, but to clarify its structure, we formed transitive “chains” by joining the ontology with itself. For example, we *could* have made the materialized view `transitive_2edge_subClassOf` with the below command. (Note that this materialized view does **not** exist).\n",
    "\n",
    "```sql\n",
    "CREATE MATERIALIZED VIEW transitive_2edge_subClassOf AS\n",
    "SELECT o1.subject, o2.object \n",
    "FROM ontology AS o1\n",
    "INNER JOIN ontology AS o2 ON o1.object = o2.subject\n",
    "WHERE o1.predicate = 'http://www.w3.org/2000/01/rdf-schema#subClassOf'\n",
    "    AND o2.predicate = 'http://www.w3.org/2000/01/rdf-schema#subClassOf';\n",
    "``` \n",
    "\n",
    "Extending this example, in order to compute paths of length 3 we would have needed to join `ontology` on itself 2 times (thus you reference `ontology` 3 times total), and so on. To form all chains of arbitrary lengths requires the use of a recursive query. Again, we have already done this for you in the materialized view `transitive_subClassOf` that provides the result of that recursive query. \n",
    "\n",
    "*Just for fun: If you're curious about the recursive query that computes this view, you can issue the command `\\d+ transitive_subClassOf` to Postgres. You may also want to read the documentation for SQL's [WITH RECURSIVE](https://www.postgresql.org/docs/9.1/queries-with.html) clause as implemented in Postgres.*"
   ]
  },
  {
   "cell_type": "markdown",
   "metadata": {},
   "source": [
    "### Question 5a\n",
    "\n",
    "We want to check the graph properties of the `subClassOf` predicate. It would be confusing if the `subClassOf` predicate had cycles! (A [cycle](https://en.wikipedia.org/wiki/Cycle_(graph_theory)) is a path in a graph where the start vertex is the same as the end vertex.)\n",
    "\n",
    "Write a query on `transitive_subClassOf` to check for cycles. What property in `transitive_subClassOf` would be indicative of a cycle? Your query should return one row of one boolean column: `TRUE` if the predicate has cycles and `FALSE` otherwise.\n",
    "\n",
    "**Hint:** You may find `EXISTS` to be useful here.\n",
    "\n",
    "Your table header should look like this:\n",
    "\n",
    "| cycle_exists |\n",
    "| :--- |"
   ]
  },
  {
   "cell_type": "code",
   "execution_count": 106,
   "metadata": {
    "tags": [
     "otter_answer_cell"
    ]
   },
   "outputs": [
    {
     "data": {
      "text/html": [
       "<div>\n",
       "<style scoped>\n",
       "    .dataframe tbody tr th:only-of-type {\n",
       "        vertical-align: middle;\n",
       "    }\n",
       "\n",
       "    .dataframe tbody tr th {\n",
       "        vertical-align: top;\n",
       "    }\n",
       "\n",
       "    .dataframe thead th {\n",
       "        text-align: right;\n",
       "    }\n",
       "</style>\n",
       "<table border=\"1\" class=\"dataframe\">\n",
       "  <thead>\n",
       "    <tr style=\"text-align: right;\">\n",
       "      <th></th>\n",
       "      <th>cycle_exists</th>\n",
       "    </tr>\n",
       "  </thead>\n",
       "  <tbody>\n",
       "    <tr>\n",
       "      <th>0</th>\n",
       "      <td>False</td>\n",
       "    </tr>\n",
       "  </tbody>\n",
       "</table>\n",
       "</div>"
      ],
      "text/plain": [
       "   cycle_exists\n",
       "0         False"
      ]
     },
     "execution_count": 106,
     "metadata": {},
     "output_type": "execute_result"
    }
   ],
   "source": [
    "result_5a = grading_util.run_file(\"5a\")\n",
    "grading_util.save_results(\"result_5a\", result_5a)\n",
    "result_5a"
   ]
  },
  {
   "cell_type": "code",
   "execution_count": 107,
   "metadata": {
    "tags": [
     "otter_answer_cell"
    ]
   },
   "outputs": [],
   "source": [
    "result_5a = grading_util.load_results(\"result_5a\")[0]"
   ]
  },
  {
   "cell_type": "code",
   "execution_count": 108,
   "metadata": {
    "deletable": false,
    "editable": false
   },
   "outputs": [
    {
     "data": {
      "text/html": [
       "<p><strong><pre style='display: inline;'>q5a</pre></strong> passed! ✨</p>"
      ],
      "text/plain": [
       "q5a results: All test cases passed!"
      ]
     },
     "execution_count": 108,
     "metadata": {},
     "output_type": "execute_result"
    }
   ],
   "source": [
    "grader.check(\"q5a\")"
   ]
  },
  {
   "cell_type": "markdown",
   "metadata": {},
   "source": [
    "### Question 5b\n",
    "\n",
    "Assuming it's not cyclic, the next question is whether the `subClassOf` predicate forms *tree-shaped* connections only. A *tree* is a special type of graph where each vertex has at most one outbound edge that points to its parent vertex. If a vertex has multiple outbound edges to its parent, then it is no longer a tree and is a more general type of graph, called a *directed acyclic graph*, or DAG.\n",
    "\n",
    "In other words, we are looking to see if each subject is in a `subClassOf` predicate *with at most one object* (the single parent in the tree). \n",
    "\n",
    "Write a query that returns `TRUE` if *each* subject is in a `subClassOf` predicate with at most one object, and `FALSE` otherwise.\n",
    "\n",
    "**Hint:** Refer to how we created `transitive_2edge_subClassOf` in the tutorial to see how we check if something is in a `subClassOf` predicate, specifically look at the `WHERE` clause.\n",
    "\n",
    "Your table header should look like this:\n",
    "\n",
    "| is_tree |\n",
    "| :--- |"
   ]
  },
  {
   "cell_type": "code",
   "execution_count": 109,
   "metadata": {
    "scrolled": true,
    "tags": [
     "otter_answer_cell"
    ]
   },
   "outputs": [
    {
     "data": {
      "text/html": [
       "<div>\n",
       "<style scoped>\n",
       "    .dataframe tbody tr th:only-of-type {\n",
       "        vertical-align: middle;\n",
       "    }\n",
       "\n",
       "    .dataframe tbody tr th {\n",
       "        vertical-align: top;\n",
       "    }\n",
       "\n",
       "    .dataframe thead th {\n",
       "        text-align: right;\n",
       "    }\n",
       "</style>\n",
       "<table border=\"1\" class=\"dataframe\">\n",
       "  <thead>\n",
       "    <tr style=\"text-align: right;\">\n",
       "      <th></th>\n",
       "      <th>is_tree</th>\n",
       "    </tr>\n",
       "  </thead>\n",
       "  <tbody>\n",
       "    <tr>\n",
       "      <th>0</th>\n",
       "      <td>False</td>\n",
       "    </tr>\n",
       "  </tbody>\n",
       "</table>\n",
       "</div>"
      ],
      "text/plain": [
       "   is_tree\n",
       "0    False"
      ]
     },
     "execution_count": 109,
     "metadata": {},
     "output_type": "execute_result"
    }
   ],
   "source": [
    "result_5b = grading_util.run_file(\"5b\")\n",
    "grading_util.save_results(\"result_5b\", result_5b)\n",
    "result_5b"
   ]
  },
  {
   "cell_type": "code",
   "execution_count": null,
   "metadata": {
    "tags": [
     "otter_answer_cell"
    ]
   },
   "outputs": [],
   "source": []
  },
  {
   "cell_type": "code",
   "execution_count": null,
   "metadata": {
    "tags": [
     "otter_answer_cell"
    ]
   },
   "outputs": [],
   "source": []
  },
  {
   "cell_type": "code",
   "execution_count": null,
   "metadata": {
    "tags": [
     "otter_answer_cell"
    ]
   },
   "outputs": [],
   "source": []
  },
  {
   "cell_type": "code",
   "execution_count": 110,
   "metadata": {
    "tags": [
     "otter_answer_cell"
    ]
   },
   "outputs": [],
   "source": [
    "result_5b = grading_util.load_results(\"result_5b\")[0]"
   ]
  },
  {
   "cell_type": "code",
   "execution_count": 111,
   "metadata": {
    "deletable": false,
    "editable": false
   },
   "outputs": [
    {
     "data": {
      "text/html": [
       "<p><strong><pre style='display: inline;'>q5b</pre></strong> passed! 🙌</p>"
      ],
      "text/plain": [
       "q5b results: All test cases passed!"
      ]
     },
     "execution_count": 111,
     "metadata": {},
     "output_type": "execute_result"
    }
   ],
   "source": [
    "grader.check(\"q5b\")"
   ]
  },
  {
   "cell_type": "markdown",
   "metadata": {},
   "source": [
    "### Question 5c\n",
    "\n",
    "Now that we understand the graph properties of the ontology, let's use the ontology to do a roll-up. Remember from the lecture on granularity that a roll-up is a transformation to a coarser grain (e.g., go up in a hierarchy).\n",
    "\n",
    "We're interested in the number of unique sensor `id`s from `metadata` that are transitively subclasses of each \"`Sensor` child\" class. To compute this, you will have to associate each `metadata.id` with a matching `mapping.brickclass` *(if there is one!)* by joining all the necessary tables together. (See the starter code.)\n",
    "\n",
    "**YOUR TASK**:\n",
    "\n",
    "1. Write a query that returns tuples of the form `(sensor_child, count)` that returns, for each \"`Sensor` child\" (the yellow nodes in the diagram above), the count of **distinct** `metadata.id` entries that are transitive subclasses of that \"`Sensor` child\" class.\n",
    "2. Only include tuples from `metadata` that have a matching `brickclass`.\n",
    "3. Order by `sensor_child` ascending.\n",
    "\n",
    "**Hints:**\n",
    "\n",
    "- It may be helpful to first create a CTE to get the unique \"`Sensor` children\" using information obtainable from the `ontology` table.\n",
    "- Refer to `data/schema.png` for a refresher on the schema *and* explore the schema and data values in `metadata`, `mapping`, and `transitive_subClassOf` to determine how to join the tables together. Things to look for:\n",
    "    - For each row in the `metadata` table, how do we match it with its correct sensor class (`mappings.brickclass`)?\n",
    "    - Using your CTE of unique \"`Sensor` children\", `transitive_subClassOf`, and `mappings`, how can you determine when the current `transitive_subClassOf.subject` is a subclass of the current \"`Sensor` child\"?\n",
    "\n",
    "Here is an example output table (**this is not the actual answer**):\n",
    "\n",
    "| sensor_child | count |\n",
    "| :--- | :--- |\n",
    "| https://brickschema.org/schema/Brick#Energy_Sensor | 50 |\n",
    "| https://brickschema.org/schema/Brick#Frequency_Sensor | 20 |\n",
    "\n",
    "This output would indicate that `Energy_Sensor` is a a direct child of `Sensor`, and that it has 50 transitive children. Similarly, it would indicate that `Frequency_Sensor` is a direct child of `Sensor`, and that it has 20 transitive children."
   ]
  },
  {
   "cell_type": "code",
   "execution_count": 112,
   "metadata": {},
   "outputs": [
    {
     "data": {
      "text/html": [
       "<div>\n",
       "<style scoped>\n",
       "    .dataframe tbody tr th:only-of-type {\n",
       "        vertical-align: middle;\n",
       "    }\n",
       "\n",
       "    .dataframe tbody tr th {\n",
       "        vertical-align: top;\n",
       "    }\n",
       "\n",
       "    .dataframe thead th {\n",
       "        text-align: right;\n",
       "    }\n",
       "</style>\n",
       "<table border=\"1\" class=\"dataframe\">\n",
       "  <thead>\n",
       "    <tr style=\"text-align: right;\">\n",
       "      <th></th>\n",
       "      <th>rawname</th>\n",
       "      <th>brickclass</th>\n",
       "    </tr>\n",
       "  </thead>\n",
       "  <tbody>\n",
       "    <tr>\n",
       "      <th>0</th>\n",
       "      <td>225 KVA Xfmr - Panel LNDB-2 Demand (kW)</td>\n",
       "      <td>https://brickschema.org/schema/Brick#Active_Power_Sensor</td>\n",
       "    </tr>\n",
       "    <tr>\n",
       "      <th>1</th>\n",
       "      <td>Demand (kW)</td>\n",
       "      <td>https://brickschema.org/schema/Brick#Active_Power_Sensor</td>\n",
       "    </tr>\n",
       "    <tr>\n",
       "      <th>2</th>\n",
       "      <td>Electric MB01 Demand (kW)</td>\n",
       "      <td>https://brickschema.org/schema/Brick#Active_Power_Sensor</td>\n",
       "    </tr>\n",
       "    <tr>\n",
       "      <th>3</th>\n",
       "      <td>Electric MB02 Demand (kW)</td>\n",
       "      <td>https://brickschema.org/schema/Brick#Active_Power_Sensor</td>\n",
       "    </tr>\n",
       "    <tr>\n",
       "      <th>4</th>\n",
       "      <td>Fire Pump Meter Demand (kW)</td>\n",
       "      <td>https://brickschema.org/schema/Brick#Active_Power_Sensor</td>\n",
       "    </tr>\n",
       "  </tbody>\n",
       "</table>\n",
       "</div>"
      ],
      "text/plain": [
       "                                   rawname  \\\n",
       "0  225 KVA Xfmr - Panel LNDB-2 Demand (kW)   \n",
       "1                              Demand (kW)   \n",
       "2                Electric MB01 Demand (kW)   \n",
       "3                Electric MB02 Demand (kW)   \n",
       "4              Fire Pump Meter Demand (kW)   \n",
       "\n",
       "                                                 brickclass  \n",
       "0  https://brickschema.org/schema/Brick#Active_Power_Sensor  \n",
       "1  https://brickschema.org/schema/Brick#Active_Power_Sensor  \n",
       "2  https://brickschema.org/schema/Brick#Active_Power_Sensor  \n",
       "3  https://brickschema.org/schema/Brick#Active_Power_Sensor  \n",
       "4  https://brickschema.org/schema/Brick#Active_Power_Sensor  "
      ]
     },
     "execution_count": 112,
     "metadata": {},
     "output_type": "execute_result"
    }
   ],
   "source": [
    "grading_util.run_sql(\"SELECT * FROM mapping LIMIT 5;\")\n",
    "\n"
   ]
  },
  {
   "cell_type": "code",
   "execution_count": 113,
   "metadata": {},
   "outputs": [
    {
     "data": {
      "text/html": [
       "<div>\n",
       "<style scoped>\n",
       "    .dataframe tbody tr th:only-of-type {\n",
       "        vertical-align: middle;\n",
       "    }\n",
       "\n",
       "    .dataframe tbody tr th {\n",
       "        vertical-align: top;\n",
       "    }\n",
       "\n",
       "    .dataframe thead th {\n",
       "        text-align: right;\n",
       "    }\n",
       "</style>\n",
       "<table border=\"1\" class=\"dataframe\">\n",
       "  <thead>\n",
       "    <tr style=\"text-align: right;\">\n",
       "      <th></th>\n",
       "      <th>object</th>\n",
       "      <th>subject</th>\n",
       "      <th>hops</th>\n",
       "      <th>path</th>\n",
       "    </tr>\n",
       "  </thead>\n",
       "  <tbody>\n",
       "    <tr>\n",
       "      <th>0</th>\n",
       "      <td>https://brickschema.org/schema/Brick#Sensor</td>\n",
       "      <td>https://brickschema.org/schema/Brick#Adjust_Sensor</td>\n",
       "      <td>1</td>\n",
       "      <td>[https://brickschema.org/schema/Brick#Adjust_Sensor, https://brickschema.org/schema/Brick#Sensor]</td>\n",
       "    </tr>\n",
       "    <tr>\n",
       "      <th>1</th>\n",
       "      <td>https://brickschema.org/schema/Brick#Sensor</td>\n",
       "      <td>https://brickschema.org/schema/Brick#Air_Grains_Sensor</td>\n",
       "      <td>1</td>\n",
       "      <td>[https://brickschema.org/schema/Brick#Air_Grains_Sensor, https://brickschema.org/schema/Brick#Sensor]</td>\n",
       "    </tr>\n",
       "    <tr>\n",
       "      <th>2</th>\n",
       "      <td>https://brickschema.org/schema/Brick#Sensor</td>\n",
       "      <td>https://brickschema.org/schema/Brick#Angle_Sensor</td>\n",
       "      <td>1</td>\n",
       "      <td>[https://brickschema.org/schema/Brick#Angle_Sensor, https://brickschema.org/schema/Brick#Sensor]</td>\n",
       "    </tr>\n",
       "    <tr>\n",
       "      <th>3</th>\n",
       "      <td>https://brickschema.org/schema/Brick#Sensor</td>\n",
       "      <td>https://brickschema.org/schema/Brick#Capacity_Sensor</td>\n",
       "      <td>1</td>\n",
       "      <td>[https://brickschema.org/schema/Brick#Capacity_Sensor, https://brickschema.org/schema/Brick#Sensor]</td>\n",
       "    </tr>\n",
       "    <tr>\n",
       "      <th>4</th>\n",
       "      <td>https://brickschema.org/schema/Brick#Sensor</td>\n",
       "      <td>https://brickschema.org/schema/Brick#Conductivity_Sensor</td>\n",
       "      <td>1</td>\n",
       "      <td>[https://brickschema.org/schema/Brick#Conductivity_Sensor, https://brickschema.org/schema/Brick#Sensor]</td>\n",
       "    </tr>\n",
       "  </tbody>\n",
       "</table>\n",
       "</div>"
      ],
      "text/plain": [
       "                                        object  \\\n",
       "0  https://brickschema.org/schema/Brick#Sensor   \n",
       "1  https://brickschema.org/schema/Brick#Sensor   \n",
       "2  https://brickschema.org/schema/Brick#Sensor   \n",
       "3  https://brickschema.org/schema/Brick#Sensor   \n",
       "4  https://brickschema.org/schema/Brick#Sensor   \n",
       "\n",
       "                                                    subject  hops  \\\n",
       "0        https://brickschema.org/schema/Brick#Adjust_Sensor     1   \n",
       "1    https://brickschema.org/schema/Brick#Air_Grains_Sensor     1   \n",
       "2         https://brickschema.org/schema/Brick#Angle_Sensor     1   \n",
       "3      https://brickschema.org/schema/Brick#Capacity_Sensor     1   \n",
       "4  https://brickschema.org/schema/Brick#Conductivity_Sensor     1   \n",
       "\n",
       "                                                                                                      path  \n",
       "0        [https://brickschema.org/schema/Brick#Adjust_Sensor, https://brickschema.org/schema/Brick#Sensor]  \n",
       "1    [https://brickschema.org/schema/Brick#Air_Grains_Sensor, https://brickschema.org/schema/Brick#Sensor]  \n",
       "2         [https://brickschema.org/schema/Brick#Angle_Sensor, https://brickschema.org/schema/Brick#Sensor]  \n",
       "3      [https://brickschema.org/schema/Brick#Capacity_Sensor, https://brickschema.org/schema/Brick#Sensor]  \n",
       "4  [https://brickschema.org/schema/Brick#Conductivity_Sensor, https://brickschema.org/schema/Brick#Sensor]  "
      ]
     },
     "execution_count": 113,
     "metadata": {},
     "output_type": "execute_result"
    }
   ],
   "source": [
    "grading_util.run_sql(\"SELECT * FROM transitive_subClassOf WHERE object = 'https://brickschema.org/schema/Brick#Sensor' LIMIT 5;\")\n"
   ]
  },
  {
   "cell_type": "code",
   "execution_count": 114,
   "metadata": {},
   "outputs": [
    {
     "data": {
      "text/html": [
       "<div>\n",
       "<style scoped>\n",
       "    .dataframe tbody tr th:only-of-type {\n",
       "        vertical-align: middle;\n",
       "    }\n",
       "\n",
       "    .dataframe tbody tr th {\n",
       "        vertical-align: top;\n",
       "    }\n",
       "\n",
       "    .dataframe thead th {\n",
       "        text-align: right;\n",
       "    }\n",
       "</style>\n",
       "<table border=\"1\" class=\"dataframe\">\n",
       "  <thead>\n",
       "    <tr style=\"text-align: right;\">\n",
       "      <th></th>\n",
       "      <th>count</th>\n",
       "    </tr>\n",
       "  </thead>\n",
       "  <tbody>\n",
       "    <tr>\n",
       "      <th>0</th>\n",
       "      <td>9509</td>\n",
       "    </tr>\n",
       "  </tbody>\n",
       "</table>\n",
       "</div>"
      ],
      "text/plain": [
       "   count\n",
       "0   9509"
      ]
     },
     "execution_count": 114,
     "metadata": {},
     "output_type": "execute_result"
    }
   ],
   "source": [
    "grading_util.run_sql(\"SELECT COUNT(*) FROM metadata;\")\n"
   ]
  },
  {
   "cell_type": "code",
   "execution_count": null,
   "metadata": {},
   "outputs": [],
   "source": []
  },
  {
   "cell_type": "code",
   "execution_count": 115,
   "metadata": {
    "tags": [
     "otter_answer_cell"
    ]
   },
   "outputs": [
    {
     "data": {
      "text/html": [
       "<div>\n",
       "<style scoped>\n",
       "    .dataframe tbody tr th:only-of-type {\n",
       "        vertical-align: middle;\n",
       "    }\n",
       "\n",
       "    .dataframe tbody tr th {\n",
       "        vertical-align: top;\n",
       "    }\n",
       "\n",
       "    .dataframe thead th {\n",
       "        text-align: right;\n",
       "    }\n",
       "</style>\n",
       "<table border=\"1\" class=\"dataframe\">\n",
       "  <thead>\n",
       "    <tr style=\"text-align: right;\">\n",
       "      <th></th>\n",
       "      <th>sensor_child</th>\n",
       "      <th>count</th>\n",
       "    </tr>\n",
       "  </thead>\n",
       "  <tbody>\n",
       "    <tr>\n",
       "      <th>0</th>\n",
       "      <td>https://brickschema.org/schema/Brick#Demand_Sensor</td>\n",
       "      <td>92</td>\n",
       "    </tr>\n",
       "    <tr>\n",
       "      <th>1</th>\n",
       "      <td>https://brickschema.org/schema/Brick#Power_Sensor</td>\n",
       "      <td>3106</td>\n",
       "    </tr>\n",
       "  </tbody>\n",
       "</table>\n",
       "</div>"
      ],
      "text/plain": [
       "                                         sensor_child  count\n",
       "0  https://brickschema.org/schema/Brick#Demand_Sensor     92\n",
       "1   https://brickschema.org/schema/Brick#Power_Sensor   3106"
      ]
     },
     "execution_count": 115,
     "metadata": {},
     "output_type": "execute_result"
    }
   ],
   "source": [
    "result_5c = grading_util.run_file(\"5c\")\n",
    "grading_util.save_results(\"result_5c\", result_5c)\n",
    "result_5c"
   ]
  },
  {
   "cell_type": "code",
   "execution_count": 116,
   "metadata": {
    "tags": [
     "otter_answer_cell"
    ]
   },
   "outputs": [],
   "source": [
    "result_5c = grading_util.load_results(\"result_5c\")[0]"
   ]
  },
  {
   "cell_type": "code",
   "execution_count": 117,
   "metadata": {
    "deletable": false,
    "editable": false
   },
   "outputs": [
    {
     "data": {
      "text/html": [
       "<p><strong><pre style='display: inline;'>q5c</pre></strong> passed! 🎉</p>"
      ],
      "text/plain": [
       "q5c results: All test cases passed!"
      ]
     },
     "execution_count": 117,
     "metadata": {},
     "output_type": "execute_result"
    }
   ],
   "source": [
    "grader.check(\"q5c\")"
   ]
  },
  {
   "cell_type": "markdown",
   "metadata": {},
   "source": [
    "<hr style=\"border: 5px solid #003262;\" />\n",
    "<hr style=\"border: 1px solid #fdb515;\" />"
   ]
  },
  {
   "cell_type": "markdown",
   "metadata": {},
   "source": [
    "## Congratulations! You have finished Project 3.\n",
    "\n",
    "Run the following cell to zip and download the results of your queries. You will also need to run the export cell at the end of the notebook.\n",
    "\n",
    "**Please save your notebook before exporting (this is a good time to do it!)** Otherwise, we may not be able to export your written responses to `proj3.pdf`. We will not be accepting regrade requests for failure to render written responses.\n",
    "\n",
    "**For your submission on Gradescope, you will only need to submit the single `proj3.zip` file generated by the export cell.** Please ensure that your submission `proj3.zip` file includes `proj3.pdf`, `proj3.ipynb`, and `queries.zip`. \n",
    "\n",
    "**Please ensure that public tests pass upon submission.** It is your responsibility to wait until the autograder finishes running. We will not be accepting regrade requests for submission issues.\n",
    "\n",
    "**Common submission issues:** You MUST submit the generated zip file to the autograder. However, Safari is known to automatically unzip files upon downloading. You can fix this by going into Safari preferences, and deselect the box with the text \"Open safe files after downloading\" under the \"General\" tab. If you experience issues with downloading via clicking on the link, you can also navigate to the project 3 directory within JupyterHub (remove `proj3.ipynb` from the url), and manually download the generated zip files. Please post on Ed if you encounter any other submission issues.\n",
    "\n",
    "Run the following cell to zip and download the results of your queries. You will also need to run the export cell at the end of the notebook."
   ]
  },
  {
   "cell_type": "code",
   "execution_count": 118,
   "metadata": {},
   "outputs": [
    {
     "name": "stdout",
     "output_type": "stream",
     "text": [
      "Closed grading database connection.\n",
      "Created queries.zip\n",
      "Created results.zip\n"
     ]
    }
   ],
   "source": [
    "grading_util.prepare_submission_and_cleanup()"
   ]
  },
  {
   "cell_type": "markdown",
   "metadata": {
    "deletable": false,
    "editable": false
   },
   "source": [
    "---\n",
    "\n",
    "To double-check your work, the cell below will rerun all of the autograder tests."
   ]
  },
  {
   "cell_type": "code",
   "execution_count": 119,
   "metadata": {
    "deletable": false,
    "editable": false
   },
   "outputs": [
    {
     "data": {
      "text/plain": [
       "q1b results: All test cases passed!\n",
       "\n",
       "q1c results: All test cases passed!\n",
       "\n",
       "q2a results: All test cases passed!\n",
       "\n",
       "q2b results: All test cases passed!\n",
       "\n",
       "q3b results: All test cases passed!\n",
       "\n",
       "q3c results: All test cases passed!\n",
       "\n",
       "q3e results: All test cases passed!\n",
       "\n",
       "q4a results: All test cases passed!\n",
       "\n",
       "q4b results: All test cases passed!\n",
       "\n",
       "q4ci results: All test cases passed!\n",
       "\n",
       "q4cii results: All test cases passed!\n",
       "\n",
       "q4ciii results: All test cases passed!\n",
       "\n",
       "q5a results: All test cases passed!\n",
       "\n",
       "q5b results: All test cases passed!\n",
       "\n",
       "q5c results: All test cases passed!"
      ]
     },
     "execution_count": 119,
     "metadata": {},
     "output_type": "execute_result"
    }
   ],
   "source": [
    "grader.check_all()"
   ]
  },
  {
   "cell_type": "markdown",
   "metadata": {
    "deletable": false,
    "editable": false
   },
   "source": [
    "## Submission\n",
    "\n",
    "Make sure you have run all cells in your notebook in order before running the cell below, so that all images/graphs appear in the output. The cell below will generate a zip file for you to submit. **Please save before exporting!**"
   ]
  },
  {
   "cell_type": "code",
   "execution_count": 120,
   "metadata": {
    "deletable": false,
    "editable": false
   },
   "outputs": [
    {
     "data": {
      "text/html": [
       "\n",
       "                    <p>\n",
       "                        Your submission has been exported. Click\n",
       "                        <a href=\"proj3_2025_04_09T23_14_28_727247.zip\" download=\"proj3_2025_04_09T23_14_28_727247.zip\" target=\"_blank\">here</a> to download\n",
       "                        the zip file.\n",
       "                    </p>\n",
       "                "
      ],
      "text/plain": [
       "<IPython.core.display.HTML object>"
      ]
     },
     "metadata": {},
     "output_type": "display_data"
    }
   ],
   "source": [
    "# Save your notebook first, then run this cell to export your submission.\n",
    "grader.export(files=['queries.zip', 'results.zip'])"
   ]
  },
  {
   "cell_type": "markdown",
   "metadata": {},
   "source": [
    " "
   ]
  }
 ],
 "metadata": {
  "anaconda-cloud": {},
  "kernelspec": {
   "display_name": "Python 3 (ipykernel)",
   "language": "python",
   "name": "python3"
  },
  "language_info": {
   "codemirror_mode": {
    "name": "ipython",
    "version": 3
   },
   "file_extension": ".py",
   "mimetype": "text/x-python",
   "name": "python",
   "nbconvert_exporter": "python",
   "pygments_lexer": "ipython3",
   "version": "3.11.11"
  },
  "otter": {
   "OK_FORMAT": true,
   "tests": {
    "q1b": {
     "name": "q1b",
     "points": 1,
     "suites": [
      {
       "cases": [
        {
         "code": ">>> result_1b.shape\n(5, 2)",
         "hidden": false,
         "locked": false
        },
        {
         "code": ">>> str(list(result_1b.columns))\n\"['building', 'json_agg']\"",
         "hidden": false,
         "locked": false
        },
        {
         "code": ">>> result_1b['building'].iloc[:3]\n0    ALUMNI HOUSE\n1        CAMPBELL\n2           HERTZ\nName: building, dtype: object",
         "hidden": false,
         "locked": false
        },
        {
         "code": ">>> list(sorted(map(lambda json: json['location'], result_1b['json_agg'][0])))\n['BERKELEY', 'FRANCISC SOAN', 'IRVINE']",
         "hidden": false,
         "locked": false
        },
        {
         "code": ">>> list(sorted(map(lambda json: json['location'], result_1b['json_agg'][1])))\n['BERKELEY', 'LOS ANGELES']",
         "hidden": false,
         "locked": false
        },
        {
         "code": ">>> list(sorted(map(lambda json: json['location'], result_1b['json_agg'][2])))\n['BERKELEY', 'DAVIS']",
         "hidden": false,
         "locked": false
        },
        {
         "code": ">>> list(sorted(map(lambda json: json['building'], result_1b['json_agg'][0])))\n['1215', '2032', '9207']",
         "hidden": false,
         "locked": false
        },
        {
         "code": ">>> list(sorted(map(lambda json: json['building'], result_1b['json_agg'][1])))\n['1027', '4294']",
         "hidden": false,
         "locked": false
        },
        {
         "code": ">>> list(sorted(map(lambda json: json['building'], result_1b['json_agg'][2])))\n['1423', '9454']",
         "hidden": false,
         "locked": false
        }
       ],
       "scored": true,
       "setup": "",
       "teardown": "",
       "type": "doctest"
      }
     ]
    },
    "q1c": {
     "name": "q1c",
     "points": 1,
     "suites": [
      {
       "cases": [
        {
         "code": ">>> result_1c.shape\n(4, 2)",
         "hidden": false,
         "locked": false
        },
        {
         "code": ">>> str(list(result_1c.columns))\n\"['building_name', 'json_agg']\"",
         "hidden": false,
         "locked": false
        },
        {
         "code": ">>> result_1c['building_name'].iloc[0]\n'EDWARDS FLD'",
         "hidden": false,
         "locked": false
        },
        {
         "code": ">>> result_1c['building_name'].iloc[1]\n'FAC CLUB'",
         "hidden": false,
         "locked": false
        },
        {
         "code": ">>> list(sorted(map(lambda json: json['site'], result_1c['json_agg'][0])))\n['Edwards Stadium East', 'Edwards Stadium West']",
         "hidden": false,
         "locked": false
        },
        {
         "code": ">>> list(sorted(map(lambda json: json['building'], result_1c['json_agg'][0])))\n['EDWARDS FLD', 'EDWARDS FLD']",
         "hidden": false,
         "locked": false
        },
        {
         "code": ">>> list(sorted(map(lambda json: json['site'], result_1c['json_agg'][1])))\n[\"Men's Faculty Club\", 'Womens Faculty Club']",
         "hidden": false,
         "locked": false
        },
        {
         "code": ">>> list(sorted(map(lambda json: json['building'], result_1c['json_agg'][1])))\n['FAC CLUB', 'FAC CLUB']",
         "hidden": false,
         "locked": false
        }
       ],
       "scored": true,
       "setup": "",
       "teardown": "",
       "type": "doctest"
      }
     ]
    },
    "q2a": {
     "name": "q2a",
     "points": 3,
     "suites": [
      {
       "cases": [
        {
         "code": ">>> result_2a.shape\n(100, 6)",
         "hidden": false,
         "locked": false
        },
        {
         "code": ">>> str(list(result_2a.columns))\n\"['time', 'id', 'value', 'median', 'mad', 'is_outlier']\"",
         "hidden": false,
         "locked": false
        },
        {
         "code": ">>> result_2a.iloc[:5, :2]\n                       time                                    id\n0 2018-06-07 00:00:00+00:00  a481d4a8-44f6-5f63-b469-85571a018c6f\n1 2018-06-07 00:00:00+00:00  a51d3bed-a8b6-5321-96a1-c5542caca70c\n2 2018-06-07 00:00:00+00:00  a6336afc-cdb7-5f87-a4bf-67411ea1b5cc\n3 2018-06-07 00:00:00+00:00  a652779f-8433-5ad3-9310-f4f1062e4d04\n4 2018-06-07 00:00:00+00:00  a760a23a-8de4-5ce3-939a-826bf31f01df",
         "hidden": false,
         "locked": false
        },
        {
         "code": ">>> result_2a.iloc[:5, 2:]\n   value   median     mad  is_outlier\n0  812.6  727.500  16.200        True\n1   75.0    6.186   4.957        True\n2   54.0   32.000   1.000        True\n3   14.0    8.000   1.000        True\n4  109.0   69.000   7.000        True",
         "hidden": false,
         "locked": false
        },
        {
         "code": ">>> result_2a.iloc[95:, :2]\n                        time                                    id\n95 2018-06-07 00:00:00+00:00  a7145dcc-90e5-5bfb-9b1c-277615779c16\n96 2018-06-07 00:00:00+00:00  a71d821d-d6e6-5ee9-86fa-2b075f13c2cc\n97 2018-06-07 00:00:00+00:00  a71fbdfd-26ad-562c-b193-9dc414b851f0\n98 2018-06-07 00:00:00+00:00  a744b292-f4cf-5f85-9e4a-5e626e19d5af\n99 2018-06-07 00:00:00+00:00  a749b51c-0be8-5b73-bf67-de452e0270ab",
         "hidden": false,
         "locked": false
        },
        {
         "code": ">>> result_2a.iloc[95:, 2:]\n    value  median   mad  is_outlier\n95    4.0     3.0   1.0       False\n96   99.0    81.0  17.0       False\n97  122.9    58.7  35.7       False\n98  107.0    74.0  18.0       False\n99   64.9    64.9   0.0       False",
         "hidden": false,
         "locked": false
        },
        {
         "code": ">>> np.isclose(result_2a.iloc[::2]['value'].sum(), 125485.3427)\nTrue",
         "hidden": false,
         "locked": false
        },
        {
         "code": ">>> np.isclose(result_2a.iloc[::2]['median'].sum(), 122438.12610000001)\nTrue",
         "hidden": false,
         "locked": false
        },
        {
         "code": ">>> np.isclose(result_2a.iloc[::2]['mad'].sum(), 607.3138999999999)\nTrue",
         "hidden": false,
         "locked": false
        },
        {
         "code": ">>> result_2a['is_outlier'].sum()\n50",
         "hidden": false,
         "locked": false
        }
       ],
       "scored": true,
       "setup": "",
       "teardown": "",
       "type": "doctest"
      }
     ]
    },
    "q2b": {
     "name": "q2b",
     "points": 1,
     "suites": [
      {
       "cases": [
        {
         "code": ">>> result_2b.shape\n(100, 7)",
         "hidden": false,
         "locked": false
        },
        {
         "code": ">>> str(list(result_2b.columns))\n\"['time', 'id', 'value', 'median', 'mad', 'is_outlier', 'clean_value']\"",
         "hidden": false,
         "locked": false
        },
        {
         "code": ">>> result_2b['is_outlier'].sum()\n50",
         "hidden": false,
         "locked": false
        },
        {
         "code": ">>> result_2b.iloc[:5, :2]\n                       time                                    id\n0 2018-06-07 00:00:00+00:00  a481d4a8-44f6-5f63-b469-85571a018c6f\n1 2018-06-07 00:00:00+00:00  a51d3bed-a8b6-5321-96a1-c5542caca70c\n2 2018-06-07 00:00:00+00:00  a6336afc-cdb7-5f87-a4bf-67411ea1b5cc\n3 2018-06-07 00:00:00+00:00  a652779f-8433-5ad3-9310-f4f1062e4d04\n4 2018-06-07 00:00:00+00:00  a760a23a-8de4-5ce3-939a-826bf31f01df",
         "hidden": false,
         "locked": false
        },
        {
         "code": ">>> result_2b.iloc[:5, 2:]\n   value   median     mad  is_outlier  clean_value\n0  812.6  727.500  16.200        True   799.554360\n1   75.0    6.186   4.957        True    28.233745\n2   54.0   32.000   1.000        True    36.447800\n3   14.0    8.000   1.000        True    12.447800\n4  109.0   69.000   7.000        True   100.134600",
         "hidden": false,
         "locked": false
        },
        {
         "code": ">>> result_2b.iloc[95:, :2]\n                        time                                    id\n95 2018-06-07 00:00:00+00:00  a7145dcc-90e5-5bfb-9b1c-277615779c16\n96 2018-06-07 00:00:00+00:00  a71d821d-d6e6-5ee9-86fa-2b075f13c2cc\n97 2018-06-07 00:00:00+00:00  a71fbdfd-26ad-562c-b193-9dc414b851f0\n98 2018-06-07 00:00:00+00:00  a744b292-f4cf-5f85-9e4a-5e626e19d5af\n99 2018-06-07 00:00:00+00:00  a749b51c-0be8-5b73-bf67-de452e0270ab",
         "hidden": false,
         "locked": false
        },
        {
         "code": ">>> result_2b.iloc[95:, 2:]\n    value  median   mad  is_outlier  clean_value\n95    4.0     3.0   1.0       False          4.0\n96   99.0    81.0  17.0       False         99.0\n97  122.9    58.7  35.7       False        122.9\n98  107.0    74.0  18.0       False        107.0\n99   64.9    64.9   0.0       False         64.9",
         "hidden": false,
         "locked": false
        },
        {
         "code": ">>> np.isclose(result_2b.iloc[::2]['clean_value'].sum(), 123948.63374060001)\nTrue",
         "hidden": false,
         "locked": false
        }
       ],
       "scored": true,
       "setup": "",
       "teardown": "",
       "type": "doctest"
      }
     ]
    },
    "q3b": {
     "name": "q3b",
     "points": 1,
     "suites": [
      {
       "cases": [
        {
         "code": ">>> result_3b.shape\n(1, 2)",
         "hidden": false,
         "locked": false
        },
        {
         "code": ">>> str(list(result_3b.columns))\n\"['num_unique_units', 'num_unique_units_ignore_case']\"",
         "hidden": false,
         "locked": false
        },
        {
         "code": ">>> 0 <= result_3b['num_unique_units'].loc[0] <= 50\nTrue",
         "hidden": false,
         "locked": false
        },
        {
         "code": ">>> 0 <= result_3b['num_unique_units_ignore_case'].loc[0] <= 50\nTrue",
         "hidden": false,
         "locked": false
        }
       ],
       "scored": true,
       "setup": "",
       "teardown": "",
       "type": "doctest"
      }
     ]
    },
    "q3c": {
     "name": "q3c",
     "points": 1,
     "suites": [
      {
       "cases": [
        {
         "code": ">>> result_3c.shape\n(1, 1)",
         "hidden": false,
         "locked": false
        },
        {
         "code": ">>> str(list(result_3c.columns))\n\"['are_units_consistent']\"",
         "hidden": false,
         "locked": false
        },
        {
         "code": ">>> result_3c['are_units_consistent'].loc[0] in [True, False]\nTrue",
         "hidden": false,
         "locked": false
        }
       ],
       "scored": true,
       "setup": "",
       "teardown": "",
       "type": "doctest"
      }
     ]
    },
    "q3e": {
     "name": "q3e",
     "points": 2,
     "suites": [
      {
       "cases": [
        {
         "code": ">>> result_3e.shape\n(5276, 4)",
         "hidden": false,
         "locked": false
        },
        {
         "code": ">>> str(list(result_3e.columns))\n\"['building_name', 'address', 'location', 'clean_location']\"",
         "hidden": false,
         "locked": false
        },
        {
         "code": ">>> len(result_3e.loc[result_3e['location'] == 'BERKELEY'])\n612",
         "hidden": false,
         "locked": false
        },
        {
         "code": ">>> all(result_3e.loc[result_3e['location'] == 'BERKELEY']['clean_location'] == 'BERKELEY')\nTrue",
         "hidden": false,
         "locked": false
        },
        {
         "code": ">>> len(result_3e.loc[result_3e['location'] == 'DAVIS'])\n1136",
         "hidden": false,
         "locked": false
        },
        {
         "code": ">>> all(result_3e.loc[result_3e['location'] == 'DAVIS']['clean_location'] == 'DAVIS')\nTrue",
         "hidden": false,
         "locked": false
        },
        {
         "code": ">>> len(result_3e.loc[result_3e['location'] == 'SYSTEMWI DE'])\n6",
         "hidden": false,
         "locked": false
        },
        {
         "code": ">>> all(result_3e.loc[result_3e['location'] == 'SYSTEMWI DE']['clean_location'] == 'SYSTEMWIDE')\nTrue",
         "hidden": false,
         "locked": false
        },
        {
         "code": ">>> len(result_3e.loc[result_3e['location'] == 'SAN DSAIENG O'])\n1",
         "hidden": false,
         "locked": false
        },
        {
         "code": ">>> all(result_3e.loc[result_3e['location'] == 'SAN DSAIENG O']['clean_location'] == 'SAN DIEGO')\nTrue",
         "hidden": false,
         "locked": false
        },
        {
         "code": ">>> len(result_3e.loc[result_3e['location'] == 'FRANCISC O'])\n7",
         "hidden": false,
         "locked": false
        },
        {
         "code": ">>> all(result_3e.loc[result_3e['location'] == 'FRANCISC O']['clean_location'] == 'SAN FRANCISCO')\nTrue",
         "hidden": false,
         "locked": false
        },
        {
         "code": ">>> len(result_3e.loc[result_3e['location'] == result_3e['clean_location']])\n5156",
         "hidden": false,
         "locked": false
        },
        {
         "code": ">>> len(result_3e.loc[result_3e['location'] != result_3e['clean_location']])\n120",
         "hidden": false,
         "locked": false
        }
       ],
       "scored": true,
       "setup": "",
       "teardown": "",
       "type": "doctest"
      }
     ]
    },
    "q4a": {
     "name": "q4a",
     "points": 2,
     "suites": [
      {
       "cases": [
        {
         "code": ">>> result_4a.shape\n(771, 6)",
         "hidden": false,
         "locked": false
        },
        {
         "code": ">>> str(list(result_4a.columns))\n\"['id', 'time', 'value', 'lag_time', 'lag_value', 'time_diff']\"",
         "hidden": false,
         "locked": false
        },
        {
         "code": ">>> result_4a.iloc[:10, :2]\n                                     id                      time\n0  a3d47b1a-985e-5395-a6ee-719dad9b580f 2018-06-13 09:15:00+00:00\n1  a3e8e405-0eed-59b6-8747-fe892a6f93de 2018-06-09 04:15:00+00:00\n2  a46fb790-028c-5d17-a3e6-7d08daec0c03 2018-06-13 09:15:00+00:00\n3  a470ac6d-d448-522b-9b74-8ed27f24de25 2018-06-09 04:15:00+00:00\n4  a48e47ab-bbcd-5b39-aaaa-47fbaafe166e 2018-06-07 00:45:00+00:00\n5  a48e47ab-bbcd-5b39-aaaa-47fbaafe166e 2018-06-07 01:30:00+00:00\n6  a48e47ab-bbcd-5b39-aaaa-47fbaafe166e 2018-06-07 17:45:00+00:00\n7  a48e47ab-bbcd-5b39-aaaa-47fbaafe166e 2018-06-07 18:45:00+00:00\n8  a48e47ab-bbcd-5b39-aaaa-47fbaafe166e 2018-06-07 19:15:00+00:00\n9  a48e47ab-bbcd-5b39-aaaa-47fbaafe166e 2018-06-07 19:45:00+00:00",
         "hidden": false,
         "locked": false
        },
        {
         "code": ">>> result_4a.iloc[:10, 2:]\n     value                  lag_time  lag_value       time_diff\n0    0.056 2018-06-13 08:45:00+00:00      0.056 0 days 00:30:00\n1  280.800 2018-06-09 03:45:00+00:00    281.600 0 days 00:30:00\n2  281.460 2018-06-13 08:45:00+00:00    281.390 0 days 00:30:00\n3    0.004 2018-06-09 03:45:00+00:00      0.006 0 days 00:30:00\n4   27.273 2018-06-07 00:15:00+00:00     30.000 0 days 00:30:00\n5   27.273 2018-06-07 01:00:00+00:00     23.077 0 days 00:30:00\n6   21.429 2018-06-07 17:15:00+00:00     25.000 0 days 00:30:00\n7   25.000 2018-06-07 18:15:00+00:00     30.000 0 days 00:30:00\n8   20.000 2018-06-07 18:45:00+00:00     25.000 0 days 00:30:00\n9   23.077 2018-06-07 19:15:00+00:00     20.000 0 days 00:30:00",
         "hidden": false,
         "locked": false
        },
        {
         "code": ">>> result_4a.iloc[-10:, :2]\n                                       id                      time\n761  a842919a-dcd1-5d91-b1df-f70c988cabfe 2018-06-12 10:00:00+00:00\n762  a842919a-dcd1-5d91-b1df-f70c988cabfe 2018-06-12 10:30:00+00:00\n763  a842919a-dcd1-5d91-b1df-f70c988cabfe 2018-06-12 14:00:00+00:00\n764  a842919a-dcd1-5d91-b1df-f70c988cabfe 2018-06-13 05:15:00+00:00\n765  a842919a-dcd1-5d91-b1df-f70c988cabfe 2018-06-13 06:00:00+00:00\n766  a842919a-dcd1-5d91-b1df-f70c988cabfe 2018-06-13 08:15:00+00:00\n767  a842919a-dcd1-5d91-b1df-f70c988cabfe 2018-06-13 13:00:00+00:00\n768  a842919a-dcd1-5d91-b1df-f70c988cabfe 2018-06-13 14:30:00+00:00\n769  a8d640b1-c17f-51cf-b06f-de6e704e87c1 2018-06-13 09:15:00+00:00\n770  aa6d2954-2a1f-5a86-9bb2-69ad7326789e 2018-06-13 09:15:00+00:00",
         "hidden": false,
         "locked": false
        },
        {
         "code": ">>> result_4a.iloc[-10:, 2:]\n     value                  lag_time  lag_value       time_diff\n761    5.4 2018-06-12 09:00:00+00:00      2.700 0 days 01:00:00\n762    2.7 2018-06-12 10:00:00+00:00      5.400 0 days 00:30:00\n763    5.4 2018-06-12 10:30:00+00:00      2.700 0 days 03:30:00\n764    5.4 2018-06-13 04:15:00+00:00      5.400 0 days 01:00:00\n765    2.7 2018-06-13 05:30:00+00:00      5.400 0 days 00:30:00\n766    5.4 2018-06-13 07:45:00+00:00      0.012 0 days 00:30:00\n767    5.4 2018-06-13 08:15:00+00:00      5.400 0 days 04:45:00\n768    2.7 2018-06-13 13:00:00+00:00      5.400 0 days 01:30:00\n769  106.0 2018-06-13 08:45:00+00:00    106.000 0 days 00:30:00\n770  286.7 2018-06-13 08:45:00+00:00    286.700 0 days 00:30:00",
         "hidden": false,
         "locked": false
        }
       ],
       "scored": true,
       "setup": "",
       "teardown": "",
       "type": "doctest"
      }
     ]
    },
    "q4b": {
     "name": "q4b",
     "points": 2,
     "suites": [
      {
       "cases": [
        {
         "code": ">>> result_4b.shape\n(100, 3)",
         "hidden": false,
         "locked": false
        },
        {
         "code": ">>> str(list(result_4b.columns))\n\"['id', 'time', 'value']\"",
         "hidden": false,
         "locked": false
        },
        {
         "code": ">>> result_4b.iloc[:5]\n                                     id                      time     value\n0  a3d3326f-20ab-5f1d-97c7-f3084df43f06 2018-06-07 00:00:09+00:00  65085.99\n1  a3d3326f-20ab-5f1d-97c7-f3084df43f06 2018-06-07 00:15:09+00:00  65086.16\n2  a3d3326f-20ab-5f1d-97c7-f3084df43f06 2018-06-07 00:30:09+00:00  65086.35\n3  a3d3326f-20ab-5f1d-97c7-f3084df43f06 2018-06-07 00:45:09+00:00  65086.52\n4  a3d3326f-20ab-5f1d-97c7-f3084df43f06 2018-06-07 01:00:09+00:00  65086.71",
         "hidden": false,
         "locked": false
        },
        {
         "code": ">>> result_4b.iloc[-5:]\n                                      id                      time     value\n95  a3d3326f-20ab-5f1d-97c7-f3084df43f06 2018-06-07 23:45:09+00:00  65100.44\n96  a3d3326f-20ab-5f1d-97c7-f3084df43f06 2018-06-08 00:00:09+00:00  65100.63\n97  a3d3326f-20ab-5f1d-97c7-f3084df43f06 2018-06-08 00:15:09+00:00  65100.80\n98  a3d3326f-20ab-5f1d-97c7-f3084df43f06 2018-06-08 00:30:09+00:00  65100.97\n99  a3d3326f-20ab-5f1d-97c7-f3084df43f06 2018-06-08 00:45:09+00:00  65101.16",
         "hidden": false,
         "locked": false
        },
        {
         "code": ">>> np.isclose(result_4b.iloc[:50]['value'].sum(), 3254484.79)\nTrue",
         "hidden": false,
         "locked": false
        }
       ],
       "scored": true,
       "setup": "",
       "teardown": "",
       "type": "doctest"
      }
     ]
    },
    "q4ci": {
     "name": "q4ci",
     "points": 1,
     "suites": [
      {
       "cases": [
        {
         "code": ">>> result_4ci.shape\n(100, 6)",
         "hidden": false,
         "locked": false
        },
        {
         "code": ">>> str(list(result_4ci.columns))\n\"['id', 'time', 'value', 'run', 'run_start', 'next_val']\"",
         "hidden": false,
         "locked": false
        },
        {
         "code": ">>> result_4ci.iloc[:50]['run'].sum()\n603",
         "hidden": false,
         "locked": false
        },
        {
         "code": ">>> run_start_sum = result_4ci.iloc[:50]['run_start'].sum()\n>>> run_start_complete_4ci = np.isclose(run_start_sum, 201.64100000000002)\n>>> run_start_complete_provided_4ci = np.isclose(run_start_sum, 432.7456678797436)\n>>> run_start_complete_4ci or run_start_complete_provided_4ci\nTrue",
         "hidden": false,
         "locked": false
        },
        {
         "code": ">>> next_val_sum = result_4ci.iloc[:50]['next_val'].sum()\n>>> next_val_complete_4ci = np.isclose(next_val_sum, 421.0319999999999)\n>>> next_val_complete_provided_4ci = np.isclose(next_val_sum, 634.6675063811803)\n>>> next_val_complete_4ci or next_val_complete_provided_4ci\nTrue",
         "hidden": false,
         "locked": false
        }
       ],
       "scored": true,
       "setup": "",
       "teardown": "",
       "type": "doctest"
      }
     ]
    },
    "q4cii": {
     "name": "q4cii",
     "points": 1,
     "suites": [
      {
       "cases": [
        {
         "code": ">>> result_4cii.shape\n(100, 9)",
         "hidden": false,
         "locked": false
        },
        {
         "code": ">>> str(list(result_4cii.columns))\n\"['id', 'time', 'value', 'run', 'run_start', 'next_val', 'run_end', 'run_rank', 'run_size']\"",
         "hidden": false,
         "locked": false
        },
        {
         "code": ">>> run_end_complete_4cii = np.isclose(result_4cii.iloc[:50]['run_end'].sum(), 202.796)\n>>> run_end_complete_provided_4cii = np.isclose(result_4cii.iloc[:50]['run_end'].sum(), 515.201480833185)\n>>> run_end_complete_4cii or run_end_complete_provided_4cii\nTrue",
         "hidden": false,
         "locked": false
        },
        {
         "code": ">>> result_4cii.iloc[:50]['run_rank'].sum()\n261",
         "hidden": false,
         "locked": false
        },
        {
         "code": ">>> result_4cii.iloc[:50]['run_size'].sum()\n1056",
         "hidden": false,
         "locked": false
        }
       ],
       "scored": true,
       "setup": "",
       "teardown": "",
       "type": "doctest"
      }
     ]
    },
    "q4ciii": {
     "name": "q4ciii",
     "points": 1,
     "suites": [
      {
       "cases": [
        {
         "code": ">>> result_4ciii.shape\n(100, 10)",
         "hidden": false,
         "locked": false
        },
        {
         "code": ">>> str(list(result_4ciii.columns))\n\"['id', 'time', 'value', 'run', 'run_start', 'next_val', 'run_end', 'run_rank', 'run_size', 'interpolated']\"",
         "hidden": false,
         "locked": false
        },
        {
         "code": ">>> complete_1 = np.isclose(result_4ciii.iloc[:50]['interpolated'].sum(), 195.94525)\n>>> complete_provided_1 = np.isclose(result_4ciii.iloc[:50]['interpolated'].sum(), 369.7514880904479)\n>>> complete_1 or complete_provided_1\nTrue",
         "hidden": false,
         "locked": false
        }
       ],
       "scored": true,
       "setup": "",
       "teardown": "",
       "type": "doctest"
      }
     ]
    },
    "q5a": {
     "name": "q5a",
     "points": 1,
     "suites": [
      {
       "cases": [
        {
         "code": ">>> result_5a.shape\n(1, 1)",
         "hidden": false,
         "locked": false
        },
        {
         "code": ">>> str(list(result_5a.columns))\n\"['cycle_exists']\"",
         "hidden": false,
         "locked": false
        },
        {
         "code": ">>> result_5a['cycle_exists'].iloc[0] in [True, False]\nTrue",
         "hidden": false,
         "locked": false
        }
       ],
       "scored": true,
       "setup": "",
       "teardown": "",
       "type": "doctest"
      }
     ]
    },
    "q5b": {
     "name": "q5b",
     "points": 1,
     "suites": [
      {
       "cases": [
        {
         "code": ">>> result_5b.shape\n(1, 1)",
         "hidden": false,
         "locked": false
        },
        {
         "code": ">>> str(list(result_5b.columns))\n\"['is_tree']\"",
         "hidden": false,
         "locked": false
        },
        {
         "code": ">>> result_5b['is_tree'].iloc[0] in [True, False]\nTrue",
         "hidden": false,
         "locked": false
        }
       ],
       "scored": true,
       "setup": "",
       "teardown": "",
       "type": "doctest"
      }
     ]
    },
    "q5c": {
     "name": "q5c",
     "points": 3,
     "suites": [
      {
       "cases": [
        {
         "code": ">>> result_5c.shape\n(2, 2)",
         "hidden": false,
         "locked": false
        },
        {
         "code": ">>> str(list(result_5c.columns))\n\"['sensor_child', 'count']\"",
         "hidden": false,
         "locked": false
        },
        {
         "code": ">>> result_5c['sensor_child']\n0    https://brickschema.org/schema/Brick#Demand_Sensor\n1     https://brickschema.org/schema/Brick#Power_Sensor\nName: sensor_child, dtype: object",
         "hidden": false,
         "locked": false
        },
        {
         "code": ">>> 0 <= result_5c.iloc[0, 1] <= 100\nTrue",
         "hidden": false,
         "locked": false
        },
        {
         "code": ">>> 3100 <= result_5c.iloc[1, 1] <= 3200\nTrue",
         "hidden": false,
         "locked": false
        }
       ],
       "scored": true,
       "setup": "",
       "teardown": "",
       "type": "doctest"
      }
     ]
    }
   }
  }
 },
 "nbformat": 4,
 "nbformat_minor": 4
}
